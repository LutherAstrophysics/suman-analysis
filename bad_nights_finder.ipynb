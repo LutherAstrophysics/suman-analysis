{
 "cells": [
  {
   "cell_type": "code",
   "execution_count": 22,
   "id": "8183d4ba",
   "metadata": {},
   "outputs": [],
   "source": [
    "from trout.calc.bad_nights import calc_bad_nights"
   ]
  },
  {
   "cell_type": "code",
   "execution_count": 6,
   "id": "40b11bb7",
   "metadata": {},
   "outputs": [
    {
     "name": "stdout",
     "output_type": "stream",
     "text": [
      "Year: 2014\n",
      "Attendance threshold: 0.5\n",
      "LTPR threshold: 0.03\n",
      "Primary Dataset: False\n",
      "\n",
      "\n",
      "Night                LTPR      \n",
      "2014-02-18           0.040792  \n",
      "2014-02-22           0.042484  \n",
      "2014-03-20           0.038632  \n",
      "2014-03-25           0.028179  \n",
      "2014-03-29           0.042303  \n",
      "2014-04-01           0.021670  \n",
      "2014-04-04           0.015210  \n",
      "2014-04-08           0.018369  \n",
      "2014-04-21           0.022922  \n",
      "2014-04-25           0.016577  \n",
      "2014-05-02           0.017003  \n",
      "2014-05-05           0.020112  \n",
      "2014-05-09           0.014546  \n",
      "2014-05-13           0.021616  \n",
      "2014-05-21           0.014812  \n",
      "2014-05-22           0.023138  \n",
      "2014-05-23           0.027392  \n",
      "2014-05-24           0.015511  \n",
      "2014-05-28           0.016098  \n",
      "2014-05-29           0.020240  \n",
      "2014-06-15           0.015099  \n",
      "2014-06-25           0.016758  \n",
      "2014-07-02           0.016436  \n",
      "2014-07-03           0.017466  \n",
      "2014-07-06           0.016704  \n",
      "2014-07-08           0.021582  \n",
      "2014-07-15           0.020344  \n",
      "2014-07-16           0.019933  \n",
      "2014-07-17           0.029243  \n",
      "2014-07-22           0.015005  \n",
      "2014-07-23           0.016236  \n",
      "2014-07-27           0.020641  \n",
      "2014-07-31           0.021741  \n",
      "2014-08-11           0.017840  \n",
      "2014-08-12           0.019726  \n",
      "2014-09-02           0.029866  \n",
      "2014-09-06           0.031089  \n",
      "2014-09-07           0.022745  \n",
      "2014-09-13           0.019541  \n",
      "2014-09-15           0.018768  \n",
      "2014-09-16           0.021935  \n",
      "2014-09-17           0.017808  \n",
      "2014-09-21           0.017101  \n",
      "2014-09-22           0.021271  \n",
      "2014-09-26           0.021051  \n",
      "2014-09-28           0.024152  \n",
      "\n",
      "==============\n",
      "Bad nights\n",
      "==============\n",
      "\n",
      "['2014-02-18', '2014-02-22', '2014-03-20', '2014-03-29', '2014-09-06']\n"
     ]
    },
    {
     "data": {
      "text/plain": [
       "['2014-02-18', '2014-02-22', '2014-03-20', '2014-03-29', '2014-09-06']"
      ]
     },
     "execution_count": 6,
     "metadata": {},
     "output_type": "execute_result"
    }
   ],
   "source": [
    "# For primary data\n",
    "calc_bad_nights(2014, \n",
    "                attendance_threshold=0.5, \n",
    "                show_all_ltpr_values=True, # Good to see\n",
    "                ltpr_threshold=0.03, # Optional,\n",
    "                is_primary=False\n",
    "                # slient=True \n",
    "               )"
   ]
  },
  {
   "cell_type": "code",
   "execution_count": 8,
   "id": "4a2a382d",
   "metadata": {},
   "outputs": [
    {
     "name": "stdout",
     "output_type": "stream",
     "text": [
      "Year: 2019\n",
      "Attendance threshold: 0.5\n",
      "LTPR threshold: 0.03\n",
      "Primary Dataset: False\n",
      "\n",
      "\n",
      "Night                LTPR      \n",
      "2019-03-21           0.021838  \n",
      "2019-03-22           0.022408  \n",
      "2019-03-30           0.019064  \n",
      "2019-04-02           0.013593  \n",
      "2019-04-18           0.016749  \n",
      "2019-04-19           0.017357  \n",
      "2019-04-25           0.023498  \n",
      "2019-04-27           0.013336  \n",
      "2019-05-03           0.017996  \n",
      "2019-05-12           0.013535  \n",
      "2019-05-22           0.028374  \n",
      "2019-06-05           0.014531  \n",
      "2019-06-06           0.012923  \n",
      "2019-06-07           0.012763  \n",
      "2019-06-08           0.014253  \n",
      "2019-06-12           0.020531  \n",
      "2019-06-24           0.012391  \n",
      "2019-06-25           0.015877  \n",
      "2019-07-07           0.018558  \n",
      "2019-07-23           0.017718  \n",
      "2019-07-24           0.020880  \n",
      "2019-07-29           0.026588  \n",
      "2019-07-30           0.015432  \n",
      "2019-07-31           0.017723  \n",
      "2019-08-06           0.014363  \n",
      "2019-08-07           0.016432  \n",
      "2019-08-16           0.017663  \n",
      "2019-08-18           0.014292  \n",
      "2019-08-23           0.014290  \n",
      "2019-08-27           0.016352  \n",
      "2019-08-28           0.015033  \n",
      "2019-08-29           0.013997  \n",
      "2019-09-03           0.013126  \n",
      "2019-09-04           0.015300  \n",
      "2019-09-15           0.018542  \n",
      "2019-09-17           0.016324  \n",
      "2019-09-23           0.014612  \n",
      "2019-10-06           0.041702  \n",
      "2019-10-07           0.019166  \n",
      "2019-10-08           0.016771  \n",
      "\n",
      "==============\n",
      "Bad nights\n",
      "==============\n",
      "\n",
      "['2019-10-06']\n"
     ]
    },
    {
     "data": {
      "text/plain": [
       "['2019-10-06']"
      ]
     },
     "execution_count": 8,
     "metadata": {},
     "output_type": "execute_result"
    }
   ],
   "source": [
    "# For secondary data\n",
    "calc_bad_nights(2019, \n",
    "                attendance_threshold=0.5, \n",
    "                show_all_ltpr_values=True, # Good to see\n",
    "                ltpr_threshold=0.03, # Optional,\n",
    "                is_primary=False\n",
    "                # slient=True \n",
    "               )"
   ]
  },
  {
   "cell_type": "code",
   "execution_count": 25,
   "id": "4cece9ac",
   "metadata": {},
   "outputs": [
    {
     "name": "stdout",
     "output_type": "stream",
     "text": [
      "Year: 2012\n",
      "Attendance threshold: 0.5\n",
      "LTPR threshold: 0.035\n",
      "Primary Dataset: False\n",
      "\n",
      "\n",
      "Night                LTPR      \n",
      "2012-02-11           0.023131  \n",
      "2012-02-15           0.032651  \n",
      "2012-02-17           0.005810  \n",
      "2012-02-18           0.014732  \n",
      "2012-02-21           0.041320  \n",
      "2012-02-24           0.043660  \n",
      "2012-04-05           0.071208  \n",
      "2012-04-07           0.003358  \n",
      "2012-04-08           0.037916  \n",
      "2012-04-09           0.004112  \n",
      "2012-04-16           0.023712  \n",
      "2012-04-22           0.012704  \n",
      "2012-04-30           0.014783  \n",
      "2012-05-09           0.032589  \n",
      "2012-05-10           0.016896  \n",
      "2012-05-12           0.021126  \n",
      "2012-05-13           0.085207  \n",
      "2012-05-14           0.022636  \n",
      "2012-05-15           0.075168  \n",
      "2012-05-16           0.058517  \n",
      "2012-05-17           0.018155  \n",
      "2012-05-18           0.080886  \n",
      "2012-05-20           0.037544  \n",
      "2012-05-21           0.062266  \n",
      "2012-05-24           0.019492  \n",
      "2012-05-28           0.075363  \n",
      "2012-06-09           0.003126  \n",
      "2012-06-11           0.008857  \n",
      "2012-06-16           0.001879  \n",
      "2012-06-19           0.002030  \n",
      "2012-06-21           0.048013  \n",
      "2012-06-24           0.047022  \n",
      "2012-06-25           0.034502  \n",
      "2012-06-27           0.011652  \n",
      "2012-07-08           0.053600  \n",
      "2012-07-09           0.020497  \n",
      "2012-07-14           0.008926  \n",
      "2012-07-16           0.005461  \n",
      "2012-07-19           0.050263  \n",
      "2012-07-27           0.040187  \n",
      "2012-07-31           0.051356  \n",
      "2012-08-05           0.038467  \n",
      "2012-08-07           0.009244  \n",
      "2012-08-09           0.029541  \n",
      "2012-08-10           0.037276  \n",
      "2012-08-16           0.024897  \n",
      "2012-08-17           0.040595  \n",
      "2012-08-19           0.048855  \n",
      "2012-08-20           0.009013  \n",
      "2012-08-24           0.027105  \n",
      "2012-08-29           0.031647  \n",
      "2012-08-30           0.028801  \n",
      "2012-09-05           0.034606  \n",
      "2012-09-07           0.023566  \n",
      "2012-09-09           0.024386  \n",
      "2012-09-18           0.035363  \n",
      "2012-09-19           0.012199  \n",
      "2012-09-24           0.027879  \n",
      "2012-09-26           0.029874  \n",
      "2012-09-27           0.041920  \n",
      "2012-09-29           0.011197  \n",
      "2012-10-02           0.018403  \n",
      "2012-10-03           0.019875  \n",
      "\n",
      "==============\n",
      "Bad nights\n",
      "==============\n",
      "\n",
      "['2012-02-21', '2012-02-24', '2012-04-05', '2012-04-08', '2012-05-13', '2012-05-15', '2012-05-16', '2012-05-18', '2012-05-20', '2012-05-21', '2012-05-28', '2012-06-21', '2012-06-24', '2012-07-08', '2012-07-19', '2012-07-27', '2012-07-31', '2012-08-05', '2012-08-10', '2012-08-17', '2012-08-19', '2012-09-18', '2012-09-27']\n"
     ]
    },
    {
     "data": {
      "text/plain": [
       "['2012-02-21',\n",
       " '2012-02-24',\n",
       " '2012-04-05',\n",
       " '2012-04-08',\n",
       " '2012-05-13',\n",
       " '2012-05-15',\n",
       " '2012-05-16',\n",
       " '2012-05-18',\n",
       " '2012-05-20',\n",
       " '2012-05-21',\n",
       " '2012-05-28',\n",
       " '2012-06-21',\n",
       " '2012-06-24',\n",
       " '2012-07-08',\n",
       " '2012-07-19',\n",
       " '2012-07-27',\n",
       " '2012-07-31',\n",
       " '2012-08-05',\n",
       " '2012-08-10',\n",
       " '2012-08-17',\n",
       " '2012-08-19',\n",
       " '2012-09-18',\n",
       " '2012-09-27']"
      ]
     },
     "execution_count": 25,
     "metadata": {},
     "output_type": "execute_result"
    }
   ],
   "source": [
    "# By default a list of sensible default stars are used (1-1000) excluding\n",
    "# known variables and problem stars when calculating LTPR, but you could\n",
    "# also provide your own list of stars to use if you know what your're doing.\n",
    "\n",
    "calc_bad_nights(2012, stars_to_use=[1,2,3,4,5], is_primary=False, show_all_ltpr_values=True)"
   ]
  },
  {
   "cell_type": "code",
   "execution_count": 12,
   "id": "24bf18a4",
   "metadata": {},
   "outputs": [],
   "source": [
    "# If you're using this function as part of the script, you might \n",
    "# want to turn off the output. For that use the silent=True keyword\n",
    "# argument. "
   ]
  },
  {
   "cell_type": "code",
   "execution_count": 13,
   "id": "45db1099",
   "metadata": {},
   "outputs": [
    {
     "data": {
      "text/plain": [
       "['2011-05-16', '2011-09-07']"
      ]
     },
     "execution_count": 13,
     "metadata": {},
     "output_type": "execute_result"
    }
   ],
   "source": [
    "calc_bad_nights(2011, silent=True)"
   ]
  },
  {
   "cell_type": "code",
   "execution_count": 14,
   "id": "bed3eedf",
   "metadata": {},
   "outputs": [],
   "source": [
    "# SPECIAL WARNING that if you're merely tring to get a list of bad \n",
    "# nights a year, you should use the function `trout.nights.bad_nights`\n",
    "# that gets pre-caculated dates from our database."
   ]
  },
  {
   "cell_type": "code",
   "execution_count": 3,
   "id": "ef8ef918",
   "metadata": {},
   "outputs": [],
   "source": [
    "from trout.nights import bad_nights"
   ]
  },
  {
   "cell_type": "code",
   "execution_count": 14,
   "id": "4e274cdd",
   "metadata": {},
   "outputs": [
    {
     "data": {
      "text/plain": [
       "[(50, datetime.date(2020, 4, 7)),\n",
       " (51, datetime.date(2020, 5, 3)),\n",
       " (52, datetime.date(2020, 7, 5))]"
      ]
     },
     "execution_count": 14,
     "metadata": {},
     "output_type": "execute_result"
    }
   ],
   "source": [
    "# Note keyword year is required here for this function\n",
    "bad_nights(year=2020, is_primary=True)"
   ]
  },
  {
   "cell_type": "code",
   "execution_count": 16,
   "id": "12353977",
   "metadata": {},
   "outputs": [
    {
     "data": {
      "text/plain": [
       "[datetime.date(2015, 3, 1),\n",
       " datetime.date(2015, 6, 1),\n",
       " datetime.date(2015, 7, 3),\n",
       " datetime.date(2015, 10, 11)]"
      ]
     },
     "execution_count": 16,
     "metadata": {},
     "output_type": "execute_result"
    }
   ],
   "source": [
    "# If you just need dates\n",
    "list(map(lambda x : x[1], bad_nights(year=2015, is_primary=False))) # year keyword is required"
   ]
  },
  {
   "cell_type": "code",
   "execution_count": 19,
   "id": "bcb29db3",
   "metadata": {},
   "outputs": [
    {
     "data": {
      "text/plain": [
       "['2020-04-07', '2020-05-03', '2020-07-05']"
      ]
     },
     "execution_count": 19,
     "metadata": {},
     "output_type": "execute_result"
    }
   ],
   "source": [
    "# If you just need to format the date string\n",
    "list(map(lambda x : x[1].strftime(\"%Y-%m-%d\"), bad_nights(year=2020, is_primary=True)))"
   ]
  },
  {
   "cell_type": "code",
   "execution_count": 20,
   "id": "03fff4ad",
   "metadata": {},
   "outputs": [
    {
     "data": {
      "text/plain": [
       "[(7, datetime.date(2015, 3, 1)),\n",
       " (8, datetime.date(2015, 6, 1)),\n",
       " (9, datetime.date(2015, 7, 3)),\n",
       " (10, datetime.date(2015, 10, 11))]"
      ]
     },
     "execution_count": 20,
     "metadata": {},
     "output_type": "execute_result"
    }
   ],
   "source": [
    "# Note keyword year is required here for this function\n",
    "bad_nights(year=2015, is_primary=False)"
   ]
  }
 ],
 "metadata": {
  "kernelspec": {
   "display_name": "Python 3 (ipykernel)",
   "language": "python",
   "name": "python3"
  },
  "language_info": {
   "codemirror_mode": {
    "name": "ipython",
    "version": 3
   },
   "file_extension": ".py",
   "mimetype": "text/x-python",
   "name": "python",
   "nbconvert_exporter": "python",
   "pygments_lexer": "ipython3",
   "version": "3.9.7"
  }
 },
 "nbformat": 4,
 "nbformat_minor": 5
}
