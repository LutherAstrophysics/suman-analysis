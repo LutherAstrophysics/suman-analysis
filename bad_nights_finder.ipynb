{
 "cells": [
  {
   "cell_type": "code",
   "execution_count": 1,
   "id": "c5abde4a",
   "metadata": {},
   "outputs": [],
   "source": [
    "# This program finds bad nights in a year\n",
    "\n",
    "# The algorithm goes like this\n",
    "# Create a list for stars to process, call is `stars_to_process`\n",
    "# Add stars 1-1000 to stars_to_process\n",
    "# Throw out variable stars from `stars_to_process`\n",
    "# Throw out stars that have <80% attendance for the year from `stars_to_process`\n",
    "\n",
    "# Create a dictionary, call it `season_mean_signal` to hold mean signals of stars for the entire data season\n",
    "#   Note that the mean signal for a season for a stars is calculated from set of the internight \n",
    "#   normalized signal on each night of the season for the star.\n",
    "# For each night, create a dictionary to hold data for the night, call it `nights_data_dict`\n",
    "#   Create a entry in the dictionary with the night_date as key and the value as the list containing:\n",
    "#   The ratio of signal_of_star_on_night[night] / season_mean_signal[star_i] for each star\n",
    "# For each night, create a dict to hold std of values in `nights_data_dict`, call this dict `nights_signal_std_dict`\n",
    "# (note that at this point, we have a standard deviation value for each night)\n",
    "# We mark nights that have this value above a threshold (example: 0.035 for old camera, 0.03 for new camera) as bad nights for the year"
   ]
  },
  {
   "cell_type": "code",
   "execution_count": 13,
   "id": "c205a835",
   "metadata": {},
   "outputs": [],
   "source": [
    "import numpy as np\n",
    "from typing import Iterable\n",
    "\n",
    "from trout.stars import get_star, Star\n",
    "from trout.stars.utils import STAR_START, STAR_END\n",
    "from trout.nights.year_nights import get_nights_in_a_year"
   ]
  },
  {
   "cell_type": "code",
   "execution_count": 21,
   "id": "e2b0d0ed",
   "metadata": {},
   "outputs": [],
   "source": [
    "date_format = \"%m-%d-%Y\""
   ]
  },
  {
   "cell_type": "code",
   "execution_count": 22,
   "id": "bf5cabcb",
   "metadata": {},
   "outputs": [],
   "source": [
    "def calculate_nights_badness_value(year : int, stars_to_use : Iterable[int], attendance_threshold : float):\n",
    "    \"\"\"\n",
    "    Returns a dictionary of the nights with their badness value for a year by looking \n",
    "    at the data from stars in `stars_to_use`\n",
    "    \n",
    "    param: year: Year to analyze\n",
    "    param: stars_to_user: \n",
    "        The list of stars to use for calculation of bad nights\n",
    "        Note that you should not provide the variable stars in this list\n",
    "    param: attendance_threshold:\n",
    "        Stars with less this stated threshold will not be considered when doing\n",
    "        calcualtion\n",
    "    \"\"\"\n",
    "    all_nights = get_nights_in_a_year(year)\n",
    "    \n",
    "    season_mean_signal = {}\n",
    "    nightly_ratio = {}\n",
    "    \n",
    "    # Filter out star numbers outside our stars numbers range\n",
    "    stars_to_user = filter(lambda x: STAR_START <= x <= STAR_END, stars_to_use)\n",
    "    \n",
    "    for star in stars_to_use:\n",
    "        star_data = get_star(star)\n",
    "        \n",
    "        # Skip the star if it doesn't pass attendance threshold\n",
    "        if star_data.attendance(year) >= attendance_threshold:\n",
    "            continue\n",
    "            \n",
    "        # Select only the data for the year\n",
    "        star_data.select_year(year,\n",
    "            exclude_bad_nights=False, # Important to include all nights\n",
    "            exclude_zeros=True\n",
    "        )\n",
    "        \n",
    "        # Save mean for the star for the year\n",
    "        season_mean_signal[star] = star_data.mean() \n",
    "        \n",
    "        for _, flux, date in star_data.selected_data: # Note this is different from star_selected_data\n",
    "            night_name = date.strftime(date_format)\n",
    "            ratio_for_star_for_night = flux / season_mean_signal[star]\n",
    "            \n",
    "            # Add this ratio to the nightly_ratio\n",
    "            nightly_ratio.setdefault(night_name, [ratio_for_star_for_night]).append(ratio_for_star_for_night)\n",
    "    \n",
    "    nightly_ratios_std = {}\n",
    "    for night, ratios in nightly_ratio.items():\n",
    "        ratios = np.array(ratios)\n",
    "        nightly_ratios_std[night] = np.std(ratios)\n",
    "        \n",
    "    return nightly_ratios_std"
   ]
  },
  {
   "cell_type": "code",
   "execution_count": 28,
   "id": "b369fe2b",
   "metadata": {},
   "outputs": [],
   "source": [
    "def find_bad_nights(year: int, \n",
    "                    stars_to_use: Iterable[int], \n",
    "                    attendance_threshold: float, \n",
    "                    badness_threshold : float) -> Iterable[str]:\n",
    "    \"\"\"\n",
    "    Returns the list of bad night in a given year\n",
    "    param: year: Year\n",
    "    param: stars_to_user: Stars to use\n",
    "    param: attendance_threshold: \n",
    "        Stars with attendance less than this value (betn 0 and 1) won't be used for analysis\n",
    "    param: badness_threshold:\n",
    "        Nights with badness value more than the threshold will be returned\n",
    "    \n",
    "    return: List of bad nights\n",
    "    \"\"\"\n",
    "    bad_nights_list = []\n",
    "    badness_data = calculate_nights_badness_value(year, stars_to_use, attendance_threshold)\n",
    "    for night, badness in badness_data.items():\n",
    "        if badness > badness_threshold:\n",
    "            bad_nights_list.append(night)\n",
    "    return bad_nights_list"
   ]
  },
  {
   "cell_type": "code",
   "execution_count": 29,
   "id": "674ae5b1",
   "metadata": {},
   "outputs": [
    {
     "data": {
      "text/plain": [
       "['06-04-2021',\n",
       " '03-01-2021',\n",
       " '03-07-2021',\n",
       " '03-11-2021',\n",
       " '03-12-2021',\n",
       " '03-31-2021',\n",
       " '04-20-2021',\n",
       " '06-21-2021',\n",
       " '07-18-2021',\n",
       " '07-25-2021',\n",
       " '09-22-2021']"
      ]
     },
     "execution_count": 29,
     "metadata": {},
     "output_type": "execute_result"
    }
   ],
   "source": [
    "find_bad_nights(2021, list(range(1, 1000)), .80, 0.035)"
   ]
  }
 ],
 "metadata": {
  "kernelspec": {
   "display_name": "Python 3 (ipykernel)",
   "language": "python",
   "name": "python3"
  },
  "language_info": {
   "codemirror_mode": {
    "name": "ipython",
    "version": 3
   },
   "file_extension": ".py",
   "mimetype": "text/x-python",
   "name": "python",
   "nbconvert_exporter": "python",
   "pygments_lexer": "ipython3",
   "version": "3.9.7"
  }
 },
 "nbformat": 4,
 "nbformat_minor": 5
}
