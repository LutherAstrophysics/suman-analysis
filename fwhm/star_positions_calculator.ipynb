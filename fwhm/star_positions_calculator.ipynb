{
 "cells": [
  {
   "cell_type": "code",
   "execution_count": 5,
   "id": "d2c34e84",
   "metadata": {},
   "outputs": [],
   "source": [
    "from trout.files.reference_log_file import ReferenceLogFile\n",
    "import pandas as pd"
   ]
  },
  {
   "cell_type": "code",
   "execution_count": 2,
   "id": "e135eb72",
   "metadata": {},
   "outputs": [],
   "source": [
    "f = ReferenceLogFile.get_ref_revised_71()"
   ]
  },
  {
   "cell_type": "code",
   "execution_count": 3,
   "id": "3e0fd947",
   "metadata": {},
   "outputs": [],
   "source": [
    "data_dict = {}"
   ]
  },
  {
   "cell_type": "code",
   "execution_count": 4,
   "id": "aa46758c",
   "metadata": {},
   "outputs": [],
   "source": [
    "for star in range(1, 2509):\n",
    "    x, y = f.get_star_xy(star)\n",
    "    data_dict[star] = {\"x\": x, \"y\": y}"
   ]
  },
  {
   "cell_type": "code",
   "execution_count": 13,
   "id": "bed8ede4",
   "metadata": {},
   "outputs": [],
   "source": [
    "df = pd.DataFrame.from_dict(data_dict, orient=\"index\")\n",
    "df.index.name = \"star\""
   ]
  },
  {
   "cell_type": "code",
   "execution_count": 15,
   "id": "b2e9311e",
   "metadata": {},
   "outputs": [],
   "source": [
    "df.to_csv(\"positions.txt\", sep=\"\\t\")"
   ]
  }
 ],
 "metadata": {
  "kernelspec": {
   "display_name": "Python 3 (ipykernel)",
   "language": "python",
   "name": "python3"
  },
  "language_info": {
   "codemirror_mode": {
    "name": "ipython",
    "version": 3
   },
   "file_extension": ".py",
   "mimetype": "text/x-python",
   "name": "python",
   "nbconvert_exporter": "python",
   "pygments_lexer": "ipython3",
   "version": "3.9.7"
  }
 },
 "nbformat": 4,
 "nbformat_minor": 5
}
