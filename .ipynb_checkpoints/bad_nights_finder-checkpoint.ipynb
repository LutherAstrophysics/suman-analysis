{
 "cells": [
  {
   "cell_type": "code",
   "execution_count": 1,
   "id": "c5abde4a",
   "metadata": {},
   "outputs": [],
   "source": [
    "# This program finds bad nights in a year\n",
    "\n",
    "# The algorithm goes like this\n",
    "# Create a list for stars to process, call is `stars_to_process`\n",
    "# Add stars 1-1000 to stars_to_process\n",
    "# Throw out variable stars from `stars_to_process`\n",
    "# Throw out stars that have <80% attendance for the year from `stars_to_process`\n",
    "\n",
    "# Create a dictionary, call it `season_mean_signal` to hold mean signals of stars for the entire data season\n",
    "#   Note that the mean signal for a season for a stars is calculated from set of the internight \n",
    "#   normalized signal on each night of the season for the star.\n",
    "# For each night, create a dictionary to hold data for the night, call it `nights_data_dict`\n",
    "#   Create a entry in the dictionary with the night_date as key and the value as the list containing:\n",
    "#   The ratio of signal_of_star_on_night[night] / season_mean_signal[star_i] for each star\n",
    "# For each night, create a dict to hold std of values in `nights_data_dict`, call this dict `nights_signal_std_dict`\n",
    "# (note that at this point, we have a standard deviation value for each night)\n",
    "# We mark nights that have this value above a threshold (example: 0.035 for old camera, 0.03 for new camera) as bad nights for the year"
   ]
  },
  {
   "cell_type": "code",
   "execution_count": 23,
   "id": "c205a835",
   "metadata": {},
   "outputs": [],
   "source": [
    "import numpy as np\n",
    "from typing import List\n",
    "\n",
    "from trout.stars import get_star, Star\n",
    "from trout.nights.year_nights import get_nights_in_a_year"
   ]
  },
  {
   "cell_type": "code",
   "execution_count": 39,
   "id": "bf5cabcb",
   "metadata": {},
   "outputs": [],
   "source": [
    "def bad_nights_finder(year : int, stars_to_use : List[int], attendance_threshold : float):\n",
    "    \"\"\"\n",
    "    Returns the list of bad nights for a year by looking \n",
    "    at the data from stars in `stars_to_use`\n",
    "    \n",
    "    param: year: Year to analyze\n",
    "    param: stars_to_user: \n",
    "        The list of stars to use for calculation of bad nights\n",
    "        Note that you should not provide the variable stars in this list\n",
    "    param: attendance_threshold:\n",
    "        Stars with less this stated threshold will not be considered when doing\n",
    "        calcualtion\n",
    "    \"\"\"\n",
    "    all_nights = get_nights_in_a_year(year)\n",
    "    night_date_formatter = \"%m-%d-%Y\"\n",
    "    \n",
    "    season_mean_signal = {}\n",
    "    nightly_ratio = {}\n",
    "    \n",
    "    for star in stars_to_use:\n",
    "        star_data = get_star(star)\n",
    "        if not star_data:\n",
    "            print(\"star data none\", star, star_data)\n",
    "        # Skip the star if it doesn't pass attendance threshold\n",
    "        if star_data.attendance(year) >= attendance_threshold:\n",
    "            continue\n",
    "        # Select only the data for the year\n",
    "        star_data.select(f\"date >= '{year}-01-01' and date < '{year+1}-01-01'\")\n",
    "        star_selected_data = star_data.get_selected_data_column()\n",
    "        season_mean_signal[star] = np.mean(star_selected_data)\n",
    "        \n",
    "        for _, flux, date in star_data.selected_data: # Note this is different from star_selected_data\n",
    "            night_name = date.strftime(night_date_formatter)\n",
    "            ratio_for_star_for_night = flux / season_mean_signal[star]\n",
    "            # Add this ratio to the nightly_ratio\n",
    "            if not nightly_ratio.get(night_name):\n",
    "                nightly_ratio[night_name] = [ratio_for_star_for_night]\n",
    "            else:\n",
    "                nightly_ratio[night_name].append(ratio_for_star_for_night)\n",
    "    \n",
    "    nightly_ratios_std = {}\n",
    "    for night, ratios in nightly_ratio.items():\n",
    "        ratios = np.array(ratios)\n",
    "        nightly_ratios_std[night] = np.std(ratios)\n",
    "        \n",
    "    return nightly_ratios_std"
   ]
  },
  {
   "cell_type": "code",
   "execution_count": 40,
   "id": "674ae5b1",
   "metadata": {},
   "outputs": [
    {
     "data": {
      "text/plain": [
       "{'09-01-2021': 0.013621767013293757,\n",
       " '09-07-2021': 0.016374166024236816,\n",
       " '09-16-2021': 0.023507926492365338,\n",
       " '05-31-2021': 0.020610317493981775,\n",
       " '06-04-2021': 0.04949902514274902,\n",
       " '06-05-2021': 0.021652801191605408,\n",
       " '06-08-2021': 0.01197641828142223,\n",
       " '06-10-2021': 0.01262100822804146,\n",
       " '08-21-2021': 0.03199188844641857,\n",
       " '09-04-2021': 0.01467615727074747,\n",
       " '09-06-2021': 0.01570275598187587,\n",
       " '03-01-2021': 0.044267310462050985,\n",
       " '03-02-2021': 0.028537696547466844,\n",
       " '03-11-2021': 0.051689229812182755,\n",
       " '03-12-2021': 0.03545588221251642,\n",
       " '03-19-2021': 0.017948235951509926,\n",
       " '03-27-2021': 0.03255769779322436,\n",
       " '03-30-2021': 0.03368223001659267,\n",
       " '04-20-2021': 0.038703120559764825,\n",
       " '05-04-2021': 0.01528624590860805,\n",
       " '05-06-2021': 0.02267952326439405,\n",
       " '05-07-2021': 0.029573142797547813,\n",
       " '05-13-2021': 0.023064431336982227,\n",
       " '06-12-2021': 0.013080754352227998,\n",
       " '06-13-2021': 0.018768528671307957,\n",
       " '06-15-2021': 0.015487898937092437,\n",
       " '07-11-2021': 0.016322557978491057,\n",
       " '07-16-2021': 0.033202251594784245,\n",
       " '07-17-2021': 0.026715347097492265,\n",
       " '07-18-2021': 0.03891124807465847,\n",
       " '07-24-2021': 0.03209581157033665,\n",
       " '07-25-2021': 0.04696025447276691,\n",
       " '08-01-2021': 0.018966292784132917,\n",
       " '08-02-2021': 0.019039370146503275,\n",
       " '08-09-2021': 0.02706952302978426,\n",
       " '08-11-2021': 0.014942408393912142,\n",
       " '08-13-2021': 0.011472447165746101,\n",
       " '08-15-2021': 0.02771969070498531,\n",
       " '08-31-2021': 0.025739516509840073,\n",
       " '09-19-2021': 0.029699057023753524,\n",
       " '09-22-2021': 0.03811552590991548,\n",
       " '09-26-2021': 0.03206296948946824,\n",
       " '09-27-2021': 0.03359765926380162,\n",
       " '09-28-2021': 0.024202937609043216,\n",
       " '06-30-2021': 0.02102540064461473,\n",
       " '07-02-2021': 0.017722795755655368,\n",
       " '09-18-2021': 0.02549129751696216}"
      ]
     },
     "execution_count": 40,
     "metadata": {},
     "output_type": "execute_result"
    }
   ],
   "source": [
    "bad_nights_finder(2021, list(range(1, 1000)), .80)"
   ]
  },
  {
   "cell_type": "code",
   "execution_count": null,
   "id": "e6ddfcf8",
   "metadata": {},
   "outputs": [],
   "source": []
  }
 ],
 "metadata": {
  "kernelspec": {
   "display_name": "Python 3 (ipykernel)",
   "language": "python",
   "name": "python3"
  },
  "language_info": {
   "codemirror_mode": {
    "name": "ipython",
    "version": 3
   },
   "file_extension": ".py",
   "mimetype": "text/x-python",
   "name": "python",
   "nbconvert_exporter": "python",
   "pygments_lexer": "ipython3",
   "version": "3.9.7"
  }
 },
 "nbformat": 4,
 "nbformat_minor": 5
}
