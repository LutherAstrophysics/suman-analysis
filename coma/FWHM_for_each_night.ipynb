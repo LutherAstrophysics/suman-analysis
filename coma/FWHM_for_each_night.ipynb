{
 "cells": [
  {
   "cell_type": "code",
   "execution_count": 1,
   "id": "cad7f273",
   "metadata": {},
   "outputs": [],
   "source": [
    "from trout.intra.year import Year\n",
    "from trout.intra.night import Night\n",
    "from trout.nights import bad_nights\n",
    "import re\n",
    "import pandas as pd\n",
    "import numpy as np\n",
    "import matplotlib.pyplot as plt"
   ]
  },
  {
   "cell_type": "code",
   "execution_count": 2,
   "id": "5aafd125",
   "metadata": {},
   "outputs": [],
   "source": [
    "def fwhm_for_year(year: int):\n",
    "    y = Year(year)\n",
    "    for n in y.nights:\n",
    "        # Skip if the night is bad\n",
    "        if n.is_bad():\n",
    "            continue\n",
    "        # If the night doesn't have color normalized folder\n",
    "        # something could have gone wrong with the night\n",
    "        if not n.has_color_normalized_folder():\n",
    "            continue\n",
    "        fwhm_for_night(n)"
   ]
  },
  {
   "cell_type": "code",
   "execution_count": 4,
   "id": "9edff050",
   "metadata": {},
   "outputs": [],
   "source": [
    "def get_good_image_numbers_for_night(night: Night):\n",
    "    star_no, radius = 1, 4\n",
    "    sample_flux_log = night.get_star_fluxlog_for_radius(star_no, radius)\n",
    "    with open(sample_flux_log._path, \"r\") as fd:\n",
    "        fd.readline()\n",
    "        img_no = lambda : int(re.findall(\"\\d+\", fd.readline())[0])\n",
    "        start, end = img_no(), img_no()\n",
    "    return start, end"
   ]
  },
  {
   "cell_type": "code",
   "execution_count": 5,
   "id": "31d86bb9",
   "metadata": {},
   "outputs": [],
   "source": [
    "def fwhm_for_night(night: Night):\n",
    "    # Use only the logfiles from the good part of the night\n",
    "    start_img, end_img = get_good_image_numbers_for_night(night)\n",
    "    # Noting that each logfile has XFWHM, YFWHM for each star, \n",
    "    # we'll find the median XFWHM vs X\n",
    "    fwhm_x_lst = []\n",
    "    x_lst = []\n",
    "    for l in night.logfile_combined:\n",
    "        if start_img <= l.image_number() <= end_img:\n",
    "            fwhm_x_lst.append(l.data['XFWHM'])\n",
    "            x_lst.append(l.data['X'])\n",
    "    # Compute median\n",
    "    median_x_fwhm = np.median(fwhm_x_lst, axis=0)\n",
    "    median_x = np.median(x_lst, axis=0)\n",
    "    plt.scatter(median_x, median_x_fwhm, s=1.5)\n",
    "    plt.title(f\"{night}\")\n",
    "    plt.xlabel(\"X\")\n",
    "    plt.ylabel(\"XFWHM\")\n",
    "    plt.show()"
   ]
  },
  {
   "cell_type": "code",
   "execution_count": 7,
   "id": "030fa57d",
   "metadata": {},
   "outputs": [],
   "source": [
    "years = [2003, 2005, 2006, 2007, 2008]\n",
    "# for year in years:\n",
    "#     fwhm_for_year(year)"
   ]
  },
  {
   "cell_type": "code",
   "execution_count": null,
   "id": "aab8b391",
   "metadata": {},
   "outputs": [],
   "source": []
  }
 ],
 "metadata": {
  "kernelspec": {
   "display_name": "Python 3 (ipykernel)",
   "language": "python",
   "name": "python3"
  },
  "language_info": {
   "codemirror_mode": {
    "name": "ipython",
    "version": 3
   },
   "file_extension": ".py",
   "mimetype": "text/x-python",
   "name": "python",
   "nbconvert_exporter": "python",
   "pygments_lexer": "ipython3",
   "version": "3.9.7"
  }
 },
 "nbformat": 4,
 "nbformat_minor": 5
}
