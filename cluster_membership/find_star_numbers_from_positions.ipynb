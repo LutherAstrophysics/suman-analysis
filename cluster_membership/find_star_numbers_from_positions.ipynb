{
 "cells": [
  {
   "cell_type": "code",
   "execution_count": 1,
   "id": "bf1dd0a9",
   "metadata": {},
   "outputs": [],
   "source": [
    "from trout.files.reference_log_file import ReferenceLogFile"
   ]
  },
  {
   "cell_type": "code",
   "execution_count": 2,
   "id": "14a6afcd",
   "metadata": {},
   "outputs": [],
   "source": [
    "f = ReferenceLogFile.get_ref_revised_71()"
   ]
  },
  {
   "cell_type": "code",
   "execution_count": null,
   "id": "becb525a",
   "metadata": {},
   "outputs": [],
   "source": [
    "def find_star_with_position(x, y, threshold=2):\n",
    "    potential_stars = []\n",
    "    for star_no in range(1, 2509):\n",
    "        star_x, star_y = f.get_star_xy(star_no)\n",
    "        # TODO\n",
    "        # Calculate distance\n",
    "        # If distance is < threshold, keep it in the potential list\n",
    "    return potential_stars"
   ]
  },
  {
   "cell_type": "code",
   "execution_count": 3,
   "id": "d0449861",
   "metadata": {},
   "outputs": [
    {
     "data": {
      "text/plain": [
       "(746.58, 459.64)"
      ]
     },
     "execution_count": 3,
     "metadata": {},
     "output_type": "execute_result"
    }
   ],
   "source": [
    "f.get_star_xy(1)"
   ]
  },
  {
   "cell_type": "code",
   "execution_count": null,
   "id": "c14a81a1",
   "metadata": {},
   "outputs": [],
   "source": []
  }
 ],
 "metadata": {
  "kernelspec": {
   "display_name": "Python 3 (ipykernel)",
   "language": "python",
   "name": "python3"
  },
  "language_info": {
   "codemirror_mode": {
    "name": "ipython",
    "version": 3
   },
   "file_extension": ".py",
   "mimetype": "text/x-python",
   "name": "python",
   "nbconvert_exporter": "python",
   "pygments_lexer": "ipython3",
   "version": "3.9.7"
  }
 },
 "nbformat": 4,
 "nbformat_minor": 5
}
