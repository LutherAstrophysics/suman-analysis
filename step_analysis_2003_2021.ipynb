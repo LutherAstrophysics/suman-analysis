{
 "cells": [
  {
   "cell_type": "code",
   "execution_count": 1,
   "id": "accf6da8",
   "metadata": {},
   "outputs": [],
   "source": [
    "from trout.stars import get_star\n",
    "import numpy as np\n",
    "import pprint # For pretty printing"
   ]
  },
  {
   "cell_type": "code",
   "execution_count": 2,
   "id": "21da9b4a",
   "metadata": {},
   "outputs": [],
   "source": [
    "pp = pprint.PrettyPrinter(indent=4)"
   ]
  },
  {
   "cell_type": "code",
   "execution_count": 3,
   "id": "b2a9894d",
   "metadata": {},
   "outputs": [],
   "source": [
    "def analyze_step(start_star, end_star, from_year, to_year):\n",
    "    \n",
    "    star_to_step_dict = {}\n",
    "    star_step_list = []\n",
    "    \n",
    "    \n",
    "    for star_no in range(start_star, end_star + 1):\n",
    "        star = get_star(star_no)\n",
    "        step_ratio = star.step(from_year, to_year)\n",
    "        star_to_step_dict[star_no] = step_ratio\n",
    "        # Note that it's important that we don't put stars that have nan values \n",
    "        # into the list if we are to use later sort that list. nan values mess up \n",
    "        # sorting\n",
    "        if not np.isnan(step_ratio):\n",
    "            star_step_list.append((star_no, step_ratio))\n",
    "        \n",
    "    return star_to_step_dict, star_step_list"
   ]
  },
  {
   "cell_type": "code",
   "execution_count": 4,
   "id": "01f45616",
   "metadata": {},
   "outputs": [],
   "source": [
    "def report_step_analysis(star_start, end_star, from_year, to_year):\n",
    "    step_dict, step_list  = analyze_step(star_start, end_star, from_year, to_year)\n",
    "    step_list.sort(key=lambda x : x[1]) # Sort by ratio\n",
    "    print(\"Top 10 stars that got dimmer\")\n",
    "    pp.pprint(step_list[:10])\n",
    "    print(\"Top 10 stars that got brighter\")\n",
    "    pp.pprint(step_list[-10:])\n",
    "    print(\"Middlish 10 stars\")\n",
    "    mid_value = len(step_list) // 2\n",
    "    pp.pprint(step_list[mid_value - 5:mid_value + 5])"
   ]
  },
  {
   "cell_type": "code",
   "execution_count": 5,
   "id": "1f21cf0f",
   "metadata": {},
   "outputs": [
    {
     "name": "stderr",
     "output_type": "stream",
     "text": [
      "/opt/tljh/user/lib/python3.9/site-packages/numpy/core/fromnumeric.py:3432: RuntimeWarning: Mean of empty slice.\n",
      "  return _methods._mean(a, axis=axis, dtype=dtype,\n",
      "/opt/tljh/user/lib/python3.9/site-packages/numpy/core/_methods.py:190: RuntimeWarning: invalid value encountered in double_scalars\n",
      "  ret = ret.dtype.type(ret / rcount)\n"
     ]
    },
    {
     "name": "stdout",
     "output_type": "stream",
     "text": [
      "Top 10 stars that got dimmer\n",
      "[   (356, 0.41719330698230134),\n",
      "    (1887, 0.50284456784943),\n",
      "    (2365, 0.6830048450268527),\n",
      "    (1702, 0.6893253293407394),\n",
      "    (1431, 0.7196606403790761),\n",
      "    (255, 0.7361029306676048),\n",
      "    (1773, 0.7557287419326816),\n",
      "    (2088, 0.7581328864063578),\n",
      "    (2446, 0.7634252217028222),\n",
      "    (2502, 0.7645775335515677)]\n",
      "Top 10 stars that got brighter\n",
      "[   (2404, 1.3695489254280773),\n",
      "    (2377, 1.3746597420280489),\n",
      "    (1503, 1.410192590073272),\n",
      "    (2244, 1.412480252095502),\n",
      "    (2354, 1.4602712754160716),\n",
      "    (2359, 1.482969921231582),\n",
      "    (2138, 1.5166421120705877),\n",
      "    (1223, 1.921575730714746),\n",
      "    (1495, 1.9506664085632965),\n",
      "    (2510, 2.8829132196499505)]\n",
      "Middlish 10 stars\n",
      "[   (1772, 0.9983992344834538),\n",
      "    (1842, 0.9985575098210536),\n",
      "    (1084, 0.9986728931319026),\n",
      "    (2477, 0.9986890923330193),\n",
      "    (904, 0.9986976282461563),\n",
      "    (2175, 0.9987230257632879),\n",
      "    (1813, 0.998739909330701),\n",
      "    (26, 0.9987783115991764),\n",
      "    (661, 0.9988730719225555),\n",
      "    (1387, 0.9989358068001765)]\n"
     ]
    }
   ],
   "source": [
    "# 2003 - 2021 Step for all stars\n",
    "report_step_analysis(1, 2510, 2003, 2021)"
   ]
  },
  {
   "cell_type": "code",
   "execution_count": 6,
   "id": "63ac6985",
   "metadata": {},
   "outputs": [
    {
     "name": "stdout",
     "output_type": "stream",
     "text": [
      "Top 10 stars that got dimmer\n",
      "[   (1, 0.8569671381084727),\n",
      "    (61, 0.9095033252511259),\n",
      "    (92, 0.9282964292368621),\n",
      "    (40, 0.9287882820687703),\n",
      "    (71, 0.9320466990256288),\n",
      "    (55, 0.9324121699850058),\n",
      "    (2, 0.9371985280544475),\n",
      "    (96, 0.9376527228185477),\n",
      "    (3, 0.9379737849294211),\n",
      "    (48, 0.9404212595061096)]\n",
      "Top 10 stars that got brighter\n",
      "[   (72, 1.0398344037346423),\n",
      "    (54, 1.043086416411811),\n",
      "    (85, 1.0452586484760045),\n",
      "    (70, 1.0496216403237346),\n",
      "    (81, 1.0499111783669979),\n",
      "    (84, 1.0644368488997966),\n",
      "    (19, 1.0653730309570595),\n",
      "    (97, 1.088042427713179),\n",
      "    (67, 1.088235294117647),\n",
      "    (82, 1.0941292624084584)]\n",
      "Middlish 10 stars\n",
      "[   (23, 0.9807773213517563),\n",
      "    (99, 0.9808289976334137),\n",
      "    (28, 0.9818992745826246),\n",
      "    (44, 0.9822296036947264),\n",
      "    (66, 0.9825726616268093),\n",
      "    (31, 0.9826195902312802),\n",
      "    (93, 0.982906355825741),\n",
      "    (12, 0.9864469383179335),\n",
      "    (94, 0.9865726487875304),\n",
      "    (39, 0.9877694189320164)]\n"
     ]
    }
   ],
   "source": [
    "# 2003 - 2021 Step for all 1 to 100\n",
    "report_step_analysis(1, 100, 2003, 2021)"
   ]
  }
 ],
 "metadata": {
  "kernelspec": {
   "display_name": "Python 3 (ipykernel)",
   "language": "python",
   "name": "python3"
  },
  "language_info": {
   "codemirror_mode": {
    "name": "ipython",
    "version": 3
   },
   "file_extension": ".py",
   "mimetype": "text/x-python",
   "name": "python",
   "nbconvert_exporter": "python",
   "pygments_lexer": "ipython3",
   "version": "3.9.7"
  }
 },
 "nbformat": 4,
 "nbformat_minor": 5
}
