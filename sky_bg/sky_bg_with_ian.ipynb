{
 "cells": [
  {
   "cell_type": "code",
   "execution_count": 65,
   "id": "6d748e13",
   "metadata": {},
   "outputs": [],
   "source": [
    "import pandas as pd\n",
    "import numpy as np\n",
    "\n",
    "import matplotlib.pyplot as plt\n",
    "import plotly.express as px"
   ]
  },
  {
   "cell_type": "code",
   "execution_count": 68,
   "id": "76b2e079",
   "metadata": {},
   "outputs": [],
   "source": [
    "df = pd.read_csv(\"./bg_12_21.txt\", sep=\"\\t\")\n",
    "df.date = pd.to_datetime(df[\"date\"])\n",
    "df.night_date = pd.to_datetime(df[\"night_date\"])"
   ]
  },
  {
   "cell_type": "code",
   "execution_count": 113,
   "id": "b84ccccc",
   "metadata": {},
   "outputs": [
    {
     "data": {
      "text/html": [
       "<div>\n",
       "<style scoped>\n",
       "    .dataframe tbody tr th:only-of-type {\n",
       "        vertical-align: middle;\n",
       "    }\n",
       "\n",
       "    .dataframe tbody tr th {\n",
       "        vertical-align: top;\n",
       "    }\n",
       "\n",
       "    .dataframe thead th {\n",
       "        text-align: right;\n",
       "    }\n",
       "</style>\n",
       "<table border=\"1\" class=\"dataframe\">\n",
       "  <thead>\n",
       "    <tr style=\"text-align: right;\">\n",
       "      <th></th>\n",
       "      <th>median_sky_bg</th>\n",
       "      <th>median_norm_4px_color_1</th>\n",
       "      <th>angle_status</th>\n",
       "      <th>angle</th>\n",
       "      <th>date</th>\n",
       "      <th>median_moon_phase</th>\n",
       "      <th>median_moon_distance</th>\n",
       "      <th>night_date</th>\n",
       "    </tr>\n",
       "  </thead>\n",
       "  <tbody>\n",
       "    <tr>\n",
       "      <th>0</th>\n",
       "      <td>2216.880</td>\n",
       "      <td>0.16315</td>\n",
       "      <td>INC</td>\n",
       "      <td>26</td>\n",
       "      <td>2012-04-23 08:55:18.500</td>\n",
       "      <td>0.071975</td>\n",
       "      <td>146.177473</td>\n",
       "      <td>2012-04-22</td>\n",
       "    </tr>\n",
       "    <tr>\n",
       "      <th>1</th>\n",
       "      <td>2183.070</td>\n",
       "      <td>0.16315</td>\n",
       "      <td>INC</td>\n",
       "      <td>27</td>\n",
       "      <td>2012-04-23 09:12:29.000</td>\n",
       "      <td>0.072380</td>\n",
       "      <td>146.363217</td>\n",
       "      <td>2012-04-22</td>\n",
       "    </tr>\n",
       "    <tr>\n",
       "      <th>2</th>\n",
       "      <td>2183.670</td>\n",
       "      <td>0.16315</td>\n",
       "      <td>DEC</td>\n",
       "      <td>27</td>\n",
       "      <td>2012-04-23 09:16:32.000</td>\n",
       "      <td>0.072470</td>\n",
       "      <td>146.406839</td>\n",
       "      <td>2012-04-22</td>\n",
       "    </tr>\n",
       "    <tr>\n",
       "      <th>3</th>\n",
       "      <td>2370.090</td>\n",
       "      <td>0.17536</td>\n",
       "      <td>INC</td>\n",
       "      <td>27</td>\n",
       "      <td>2012-05-18 07:41:33.500</td>\n",
       "      <td>0.916815</td>\n",
       "      <td>119.170915</td>\n",
       "      <td>2012-05-17</td>\n",
       "    </tr>\n",
       "    <tr>\n",
       "      <th>4</th>\n",
       "      <td>2374.855</td>\n",
       "      <td>0.17536</td>\n",
       "      <td>DEC</td>\n",
       "      <td>27</td>\n",
       "      <td>2012-05-18 07:47:37.000</td>\n",
       "      <td>0.916960</td>\n",
       "      <td>119.231020</td>\n",
       "      <td>2012-05-17</td>\n",
       "    </tr>\n",
       "    <tr>\n",
       "      <th>...</th>\n",
       "      <td>...</td>\n",
       "      <td>...</td>\n",
       "      <td>...</td>\n",
       "      <td>...</td>\n",
       "      <td>...</td>\n",
       "      <td>...</td>\n",
       "      <td>...</td>\n",
       "      <td>...</td>\n",
       "    </tr>\n",
       "    <tr>\n",
       "      <th>871</th>\n",
       "      <td>1750.040</td>\n",
       "      <td>0.19304</td>\n",
       "      <td>DEC</td>\n",
       "      <td>23</td>\n",
       "      <td>2021-09-07 02:46:46.500</td>\n",
       "      <td>0.010875</td>\n",
       "      <td>103.682897</td>\n",
       "      <td>2021-09-06</td>\n",
       "    </tr>\n",
       "    <tr>\n",
       "      <th>872</th>\n",
       "      <td>1682.600</td>\n",
       "      <td>0.19304</td>\n",
       "      <td>DEC</td>\n",
       "      <td>24</td>\n",
       "      <td>2021-09-07 02:33:40.000</td>\n",
       "      <td>0.010570</td>\n",
       "      <td>103.831183</td>\n",
       "      <td>2021-09-06</td>\n",
       "    </tr>\n",
       "    <tr>\n",
       "      <th>873</th>\n",
       "      <td>1673.320</td>\n",
       "      <td>0.19304</td>\n",
       "      <td>DEC</td>\n",
       "      <td>25</td>\n",
       "      <td>2021-09-07 02:19:31.000</td>\n",
       "      <td>0.010240</td>\n",
       "      <td>103.989443</td>\n",
       "      <td>2021-09-06</td>\n",
       "    </tr>\n",
       "    <tr>\n",
       "      <th>874</th>\n",
       "      <td>1937.780</td>\n",
       "      <td>0.17736</td>\n",
       "      <td>DEC</td>\n",
       "      <td>23</td>\n",
       "      <td>2021-09-27 01:32:21.000</td>\n",
       "      <td>0.686390</td>\n",
       "      <td>162.497499</td>\n",
       "      <td>2021-09-26</td>\n",
       "    </tr>\n",
       "    <tr>\n",
       "      <th>875</th>\n",
       "      <td>1879.145</td>\n",
       "      <td>0.15473</td>\n",
       "      <td>DEC</td>\n",
       "      <td>22</td>\n",
       "      <td>2021-09-29 01:30:26.500</td>\n",
       "      <td>0.754075</td>\n",
       "      <td>170.815764</td>\n",
       "      <td>2021-09-28</td>\n",
       "    </tr>\n",
       "  </tbody>\n",
       "</table>\n",
       "<p>876 rows × 8 columns</p>\n",
       "</div>"
      ],
      "text/plain": [
       "     median_sky_bg  median_norm_4px_color_1 angle_status  angle  \\\n",
       "0         2216.880                  0.16315          INC     26   \n",
       "1         2183.070                  0.16315          INC     27   \n",
       "2         2183.670                  0.16315          DEC     27   \n",
       "3         2370.090                  0.17536          INC     27   \n",
       "4         2374.855                  0.17536          DEC     27   \n",
       "..             ...                      ...          ...    ...   \n",
       "871       1750.040                  0.19304          DEC     23   \n",
       "872       1682.600                  0.19304          DEC     24   \n",
       "873       1673.320                  0.19304          DEC     25   \n",
       "874       1937.780                  0.17736          DEC     23   \n",
       "875       1879.145                  0.15473          DEC     22   \n",
       "\n",
       "                       date  median_moon_phase  median_moon_distance  \\\n",
       "0   2012-04-23 08:55:18.500           0.071975            146.177473   \n",
       "1   2012-04-23 09:12:29.000           0.072380            146.363217   \n",
       "2   2012-04-23 09:16:32.000           0.072470            146.406839   \n",
       "3   2012-05-18 07:41:33.500           0.916815            119.170915   \n",
       "4   2012-05-18 07:47:37.000           0.916960            119.231020   \n",
       "..                      ...                ...                   ...   \n",
       "871 2021-09-07 02:46:46.500           0.010875            103.682897   \n",
       "872 2021-09-07 02:33:40.000           0.010570            103.831183   \n",
       "873 2021-09-07 02:19:31.000           0.010240            103.989443   \n",
       "874 2021-09-27 01:32:21.000           0.686390            162.497499   \n",
       "875 2021-09-29 01:30:26.500           0.754075            170.815764   \n",
       "\n",
       "    night_date  \n",
       "0   2012-04-22  \n",
       "1   2012-04-22  \n",
       "2   2012-04-22  \n",
       "3   2012-05-17  \n",
       "4   2012-05-17  \n",
       "..         ...  \n",
       "871 2021-09-06  \n",
       "872 2021-09-06  \n",
       "873 2021-09-06  \n",
       "874 2021-09-26  \n",
       "875 2021-09-28  \n",
       "\n",
       "[876 rows x 8 columns]"
      ]
     },
     "execution_count": 113,
     "metadata": {},
     "output_type": "execute_result"
    }
   ],
   "source": [
    "df"
   ]
  },
  {
   "cell_type": "code",
   "execution_count": 70,
   "id": "e552fb45",
   "metadata": {},
   "outputs": [
    {
     "data": {
      "text/plain": [
       "<matplotlib.collections.PathCollection at 0x7f40ef6cddc0>"
      ]
     },
     "execution_count": 70,
     "metadata": {},
     "output_type": "execute_result"
    },
    {
     "data": {
      "image/png": "[encoded data removed]",
      "text/plain": [
       "<Figure size 640x480 with 1 Axes>"
      ]
     },
     "metadata": {},
     "output_type": "display_data"
    }
   ],
   "source": [
    "plt.scatter(df[\"date\"], df[\"median_sky_bg\"])"
   ]
  },
  {
   "cell_type": "markdown",
   "id": "0b4033bc",
   "metadata": {},
   "source": [
    "## 1. Whether looking into town has effect on sky background"
   ]
  },
  {
   "cell_type": "code",
   "execution_count": 71,
   "id": "fbe2208f",
   "metadata": {},
   "outputs": [],
   "source": [
    "# columns = [\"date_only\", \"date\", \"median_sky_bg\", \"median_moon_phase\", \"median_moon_distance\"]\n",
    "def direction_influence(angle):\n",
    "    inc = df[(df[\"angle_status\"] == \"INC\") & (df[\"angle\"] == angle)]\n",
    "    dec = df[(df[\"angle_status\"] == \"DEC\") & (df[\"angle\"] == angle)]\n",
    "    return dec.merge(inc, on=\"night_date\", suffixes=(\"_dec\", \"_inc\"))"
   ]
  },
  {
   "cell_type": "code",
   "execution_count": 72,
   "id": "bffd68df",
   "metadata": {},
   "outputs": [
    {
     "name": "stdout",
     "output_type": "stream",
     "text": [
      "Angle 22\n",
      "Series([], dtype: float64)\n",
      "Angle 23\n",
      "0    0.902507\n",
      "1    0.583319\n",
      "2    0.747670\n",
      "dtype: float64\n",
      "Angle 24\n",
      "0    0.938702\n",
      "1    0.783939\n",
      "2    0.769505\n",
      "3    0.624718\n",
      "4    0.761265\n",
      "5    0.759597\n",
      "dtype: float64\n",
      "Angle 25\n",
      "0    0.788529\n",
      "1    0.967447\n",
      "2    0.842185\n",
      "3    0.727629\n",
      "4    0.823435\n",
      "5    0.651120\n",
      "6    0.780099\n",
      "7    0.787222\n",
      "dtype: float64\n",
      "Angle 26\n",
      "0     0.944111\n",
      "1     1.041059\n",
      "2     0.873646\n",
      "3     0.652240\n",
      "4     1.029643\n",
      "5     0.903149\n",
      "6     0.771554\n",
      "7     0.846540\n",
      "8     0.884735\n",
      "9     0.810465\n",
      "10    0.986238\n",
      "11    0.676784\n",
      "12    0.818844\n",
      "13    0.975970\n",
      "14    0.864867\n",
      "15    0.803576\n",
      "16    0.843837\n",
      "dtype: float64\n",
      "Angle 27\n",
      "0     1.000275\n",
      "1     1.002010\n",
      "2     0.994254\n",
      "3     0.989664\n",
      "4     1.116346\n",
      "5     1.006496\n",
      "6     0.995905\n",
      "7     1.058794\n",
      "8     1.000624\n",
      "9     0.952097\n",
      "10    0.983183\n",
      "11    0.996579\n",
      "12    1.001242\n",
      "13    0.917004\n",
      "14    0.756031\n",
      "15    0.974411\n",
      "16    0.835977\n",
      "17    0.745778\n",
      "18    0.988850\n",
      "19    0.941889\n",
      "20    0.931963\n",
      "21    1.006416\n",
      "22    0.972809\n",
      "23    0.957694\n",
      "24    0.901548\n",
      "25    0.980793\n",
      "26    1.002211\n",
      "27    0.909622\n",
      "28    1.003618\n",
      "29    0.989675\n",
      "30    0.947453\n",
      "31    0.957663\n",
      "32    0.948571\n",
      "33    0.884961\n",
      "34    1.017255\n",
      "35    0.997342\n",
      "36    0.990267\n",
      "37    0.809940\n",
      "38    0.925328\n",
      "39    0.972930\n",
      "40    0.909488\n",
      "41    0.883857\n",
      "42    0.860582\n",
      "43    0.982041\n",
      "44    0.865032\n",
      "dtype: float64\n"
     ]
    }
   ],
   "source": [
    "# Whether sky background is different based on whether we're looking into town or away\n",
    "for angle in [22, 23, 24, 25, 26, 27]:\n",
    "    print(\"Angle\", angle)\n",
    "    print(direction_influence(angle)[\"median_sky_bg_dec\"] / direction_influence(angle)[\"median_sky_bg_inc\"])"
   ]
  },
  {
   "cell_type": "code",
   "execution_count": 73,
   "id": "8baeb539",
   "metadata": {},
   "outputs": [],
   "source": [
    "# It does look like whether we're looking town or away from town has a influence.\n",
    "# We found this by comparing the sky ADU within a night at the same cluster angle\n",
    "# into the town and away from town. We consistently see higher ADUs when looking\n",
    "# into town"
   ]
  },
  {
   "cell_type": "markdown",
   "id": "5da882a5",
   "metadata": {},
   "source": [
    "## 2. Whether the sky background has increased"
   ]
  },
  {
   "cell_type": "code",
   "execution_count": 45,
   "id": "f0ea6bd8",
   "metadata": {},
   "outputs": [],
   "source": [
    "# Since we have found that the sky background is different based on whether we're\n",
    "# looking into town (INC cluster angle status) and away from the town (decreasing\n",
    "# cluster angle status), let's check whether the SKY background in the town has\n",
    "# increased."
   ]
  },
  {
   "cell_type": "code",
   "execution_count": 96,
   "id": "2f2d6969",
   "metadata": {},
   "outputs": [],
   "source": [
    "df_inc = df[(df[\"angle_status\"] == \"INC\")]\n",
    "df_dec = df[(df[\"angle_status\"] == \"DEC\")]"
   ]
  },
  {
   "cell_type": "code",
   "execution_count": 86,
   "id": "283144b6",
   "metadata": {},
   "outputs": [
    {
     "data": {
      "text/plain": [
       "<matplotlib.collections.PathCollection at 0x7f41382f19a0>"
      ]
     },
     "execution_count": 86,
     "metadata": {},
     "output_type": "execute_result"
    },
    {
     "data": {
      "image/png": "[encoded data removed]",
      "text/plain": [
       "<Figure size 640x480 with 1 Axes>"
      ]
     },
     "metadata": {},
     "output_type": "display_data"
    }
   ],
   "source": [
    "plt.scatter(df[\"date\"], df[\"median_sky_bg\"],)"
   ]
  },
  {
   "cell_type": "code",
   "execution_count": 115,
   "id": "a3137b32",
   "metadata": {},
   "outputs": [
    {
     "data": {
      "application/vnd.plotly.v1+json": {
       "config": {
        "plotlyServerURL": "https://plot.ly"
       },
       "data": [
        {
         "customdata": [
          [
           146.17747269516894,
           0.071975
          ],
          [
           146.36321665456782,
           0.07238
          ],
          [
           119.17091486986304,
           0.916815
          ],
          [
           153.48559174005308,
           0.01625
          ],
          [
           153.60831480964163,
           0.016505
          ],
          [
           153.7421550118551,
           0.016795
          ],
          [
           153.89812106311402,
           0.017125
          ],
          [
           154.08725320508017,
           0.01753
          ],
          [
           154.3308813381905,
           0.018055
          ],
          [
           165.14464207329138,
           0.04978
          ],
          [
           165.25558806783093,
           0.05002
          ],
          [
           165.37808438703172,
           0.050275
          ],
          [
           165.5119528541963,
           0.050565
          ],
          [
           165.66831555373653,
           0.0508949999999999
          ],
          [
           165.85845217004623,
           0.0513
          ],
          [
           166.10422496252795,
           0.05182
          ],
          [
           158.61885641118818,
           0.15112
          ],
          [
           158.53502108272454,
           0.15131
          ],
          [
           158.40824931057654,
           0.151595
          ],
          [
           158.2800289332573,
           0.15188
          ],
          [
           158.12888254502866,
           0.152215
          ],
          [
           157.9433851007835,
           0.15262
          ],
          [
           157.70021759908093,
           0.15314
          ],
          [
           149.9359462668743,
           0.92894
          ],
          [
           150.12439402483247,
           0.929345
          ],
          [
           150.31201818274258,
           0.92975
          ],
          [
           174.4553300814789,
           0.029415
          ],
          [
           174.3705768814206,
           0.029605
          ],
          [
           174.23161978657788,
           0.02991
          ],
          [
           174.08031726618094,
           0.03025
          ],
          [
           173.89500737584672,
           0.030655
          ],
          [
           173.65231869735555,
           0.031175
          ],
          [
           149.8553830825254,
           0.09719
          ],
          [
           149.73957324248258,
           0.09745
          ],
          [
           149.59021755487663,
           0.09779
          ],
          [
           149.4066885249517,
           0.09819
          ],
          [
           149.165380968931,
           0.098715
          ],
          [
           157.94308165980644,
           0.87571
          ],
          [
           102.54684000456658,
           0.04479
          ],
          [
           102.72908821519248,
           0.04517
          ],
          [
           102.85353004168309,
           0.045435
          ],
          [
           102.95463781277378,
           0.04565
          ],
          [
           102.95463781277378,
           0.04565
          ],
          [
           103.0660801247482,
           0.04589
          ],
          [
           103.1878856233613,
           0.046145
          ],
          [
           173.00548251137198,
           0.28115
          ],
          [
           172.8208479618641,
           0.28158
          ],
          [
           172.6962943581366,
           0.28187
          ],
          [
           172.61265442568882,
           0.28206
          ],
          [
           172.61265442568882,
           0.28206
          ],
          [
           172.50743990084823,
           0.28229
          ],
          [
           172.40130150877724,
           0.28253
          ],
          [
           172.28385219853556,
           0.282795
          ],
          [
           172.19785914481497,
           0.282985
          ],
          [
           160.94512959294178,
           0.31533
          ],
          [
           160.80431780882472,
           0.31566
          ],
          [
           160.73310843161607,
           0.315825
          ],
          [
           160.73310843161607,
           0.315825
          ],
          [
           160.64095808185425,
           0.31604
          ],
          [
           160.5272882639158,
           0.316305
          ],
          [
           160.40211331302996,
           0.316585
          ],
          [
           160.31805117026164,
           0.316775
          ],
          [
           118.60374989998591,
           0.937075
          ],
          [
           118.7040234667263,
           0.93729
          ],
          [
           118.82606862245854,
           0.93755
          ],
          [
           118.96925353788684,
           0.93786
          ],
          [
           119.12194501500984,
           0.93819
          ],
          [
           119.30553617794992,
           0.938595
          ],
          [
           119.53973150107674,
           0.93912
          ],
          [
           166.4112105471212,
           0.07168
          ],
          [
           166.5099428105477,
           0.07189
          ],
          [
           166.5099428105477,
           0.07189
          ],
          [
           166.6201238419415,
           0.07213
          ],
          [
           166.74162334622508,
           0.07239
          ],
          [
           166.8635042607737,
           0.07265
          ],
          [
           166.9968972495153,
           0.07294
          ],
          [
           167.16414021841246,
           0.073295
          ],
          [
           167.3539609395933,
           0.0737
          ],
          [
           167.5886692470698,
           0.074195
          ],
          [
           179.1444870048379,
           0.107585
          ],
          [
           179.32158808731734,
           0.107965
          ],
          [
           157.7657729020109,
           0.174335
          ],
          [
           157.65121443629306,
           0.1746
          ],
          [
           157.47226861903567,
           0.175005
          ],
          [
           157.3234898044546,
           0.175335
          ],
          [
           162.28585076642446,
           0.08487
          ],
          [
           162.22549087626652,
           0.08501
          ],
          [
           162.22549087626652,
           0.08501
          ],
          [
           162.12428019977185,
           0.08525
          ],
          [
           162.011785895496,
           0.08551
          ],
          [
           161.89828851469196,
           0.08577
          ],
          [
           161.77340387799595,
           0.08606
          ],
          [
           161.6156980378555,
           0.0864149999999999
          ],
          [
           161.435523563151,
           0.08682
          ],
          [
           161.21055022943506,
           0.087315
          ],
          [
           159.66672909300962,
           0.89741
          ],
          [
           159.8559430018305,
           0.89781
          ],
          [
           141.30882395510145,
           0.066745
          ],
          [
           129.22909636242866,
           0.10075
          ],
          [
           117.16411110209896,
           0.134355
          ],
          [
           135.29227185901334,
           0.08008
          ],
          [
           135.38986840590775,
           0.08027
          ],
          [
           135.58525329804766,
           0.08065
          ],
          [
           135.75574476748565,
           0.08098
          ],
          [
           135.85313887844518,
           0.08117
          ],
          [
           135.85313887844518,
           0.08117
          ],
          [
           135.97486555695986,
           0.08141
          ],
          [
           136.09636066068956,
           0.08164
          ],
          [
           136.22953757802924,
           0.081905
          ],
          [
           136.38655031831965,
           0.08221
          ],
          [
           136.51866226384857,
           0.0824749999999999
          ],
          [
           173.45157476224523,
           0.18229
          ],
          [
           173.5388846041731,
           0.18248
          ],
          [
           173.5388846041731,
           0.18248
          ],
          [
           173.64862808053005,
           0.18271
          ],
          [
           173.758853490462,
           0.18295
          ],
          [
           173.8803861653619,
           0.183215
          ],
          [
           174.0247553670847,
           0.18352
          ],
          [
           174.18081113674023,
           0.18385
          ],
          [
           174.29269943843337,
           0.18409
          ],
          [
           179.0004537167149,
           0.12754
          ],
          [
           178.9474310198612,
           0.12787
          ],
          [
           178.90875304710968,
           0.12806
          ],
          [
           178.90875304710968,
           0.12806
          ],
          [
           178.85282488844334,
           0.1283
          ],
          [
           178.78930785510906,
           0.12853
          ],
          [
           178.7192789830323,
           0.12877
          ],
          [
           111.8226673795256,
           0.87136
          ],
          [
           111.89276060362296,
           0.8715
          ],
          [
           112.0210618140766,
           0.8717649999999999
          ],
          [
           112.15992726101098,
           0.872045
          ],
          [
           112.32028135495511,
           0.8723799999999999
          ],
          [
           112.51301311591403,
           0.87279
          ],
          [
           112.7580275022228,
           0.87331
          ],
          [
           163.83243256198608,
           0.007555
          ],
          [
           163.98415367790983,
           0.00787
          ],
          [
           164.241171595806,
           0.00839
          ],
          [
           175.1624782404646,
           0.03935
          ],
          [
           175.31372779339824,
           0.03968
          ],
          [
           175.40050421563512,
           0.03987
          ],
          [
           175.40050421563512,
           0.03987
          ],
          [
           175.50954944220246,
           0.04011
          ],
          [
           175.61885754428326,
           0.04035
          ],
          [
           175.7395302508337,
           0.040605
          ],
          [
           175.8824403983568,
           0.04092
          ],
          [
           176.03720484751676,
           0.04125
          ],
          [
           176.21464680221894,
           0.04163
          ],
          [
           176.46983146808293,
           0.042175
          ],
          [
           171.61372285565193,
           0.952815
          ],
          [
           171.72716534679216,
           0.95305
          ],
          [
           171.92080374769327,
           0.95346
          ],
          [
           174.61680663511817,
           0.20535
          ],
          [
           174.72812897124422,
           0.205585
          ],
          [
           174.87329736608152,
           0.2059
          ],
          [
           177.542727795108,
           0.15065
          ],
          [
           177.4393327066653,
           0.150905
          ],
          [
           177.3235866187479,
           0.151195
          ],
          [
           177.20526742109985,
           0.151475
          ],
          [
           177.06413961640368,
           0.15181
          ],
          [
           176.88912569272853,
           0.15222
          ],
          [
           176.7000315845299,
           0.15264
          ],
          [
           171.39506797093767,
           0.09552
          ],
          [
           171.2388671961881,
           0.09585
          ],
          [
           171.16026434624652,
           0.096015
          ],
          [
           171.16026434624652,
           0.096015
          ],
          [
           171.0585283425628,
           0.09623
          ],
          [
           170.9335496049262,
           0.0964899999999999
          ],
          [
           170.79619798355304,
           0.096775
          ],
          [
           170.65792800389033,
           0.09706
          ],
          [
           170.49551948861912,
           0.097395
          ],
          [
           170.3205058262864,
           0.09775
          ],
          [
           158.507178643678,
           0.12966
          ],
          [
           158.45433374572752,
           0.1297849999999999
          ],
          [
           158.45433374572752,
           0.1297849999999999
          ],
          [
           158.35877007149483,
           0.13
          ],
          [
           158.2408123494916,
           0.13026
          ],
          [
           158.1109492094432,
           0.130545
          ],
          [
           157.979692657786,
           0.13083
          ],
          [
           157.82538299313558,
           0.131165
          ],
          [
           157.63595797328276,
           0.13157
          ],
          [
           157.38801058823145,
           0.1320899999999999
          ],
          [
           170.15817934199706,
           0.97518
          ],
          [
           170.29260349339518,
           0.97544
          ],
          [
           170.50139764047145,
           0.97585
          ],
          [
           170.75925490732723,
           0.976345
          ],
          [
           150.79940180627943,
           0.076765
          ],
          [
           150.62562571005896,
           0.0771449999999999
          ],
          [
           150.38334734975848,
           0.0776699999999999
          ],
          [
           149.1463417752002,
           0.32832
          ],
          [
           149.05504396477784,
           0.32853
          ],
          [
           149.05504396477784,
           0.32853
          ],
          [
           148.9526467572333,
           0.32877
          ],
          [
           148.83864941905415,
           0.329035
          ],
          [
           148.7234358375258,
           0.32929
          ],
          [
           136.51516898573854,
           0.07045
          ],
          [
           136.6237581501737,
           0.07064
          ],
          [
           136.8412305387813,
           0.07102
          ],
          [
           137.0042358407767,
           0.07131
          ],
          [
           137.1127613302769,
           0.0715
          ],
          [
           137.1127613302769,
           0.0715
          ],
          [
           137.23494198743776,
           0.071715
          ],
          [
           166.2541696789207,
           0.13932
          ],
          [
           166.35653774552736,
           0.13951
          ],
          [
           166.49769351868167,
           0.139775
          ],
          [
           166.66513812788256,
           0.14008
          ],
          [
           166.76827776199636,
           0.14027
          ],
          [
           178.4451963568384,
           0.17266
          ],
          [
           178.4377269247902,
           0.17281
          ],
          [
           178.4377269247902,
           0.17281
          ],
          [
           178.41801378859617,
           0.17304
          ],
          [
           178.38933847744048,
           0.17328
          ],
          [
           178.34786224621843,
           0.173545
          ],
          [
           178.28633875374538,
           0.17385
          ],
          [
           178.2061913634684,
           0.17419
          ],
          [
           178.12734269568077,
           0.17447
          ],
          [
           99.04979859965488,
           0.9153
          ],
          [
           99.20159926365962,
           0.91558
          ],
          [
           99.30208362405826,
           0.91577
          ],
          [
           99.30208362405826,
           0.91577
          ],
          [
           99.4270820729874,
           0.91601
          ],
          [
           99.550995294957,
           0.91625
          ],
          [
           99.68642064778362,
           0.91651
          ],
          [
           99.84491703969525,
           0.91682
          ],
          [
           100.01369216634136,
           0.91715
          ],
          [
           100.21610711792982,
           0.917555
          ],
          [
           100.47330968065096,
           0.91808
          ],
          [
           114.33462918810334,
           0.949855
          ],
          [
           114.42661953792084,
           0.95002
          ],
          [
           114.57024240909804,
           0.95028
          ],
          [
           114.7387733960202,
           0.95059
          ],
          [
           114.91897007693234,
           0.95092
          ],
          [
           115.13522278085908,
           0.951325
          ],
          [
           115.41150590310968,
           0.95185
          ],
          [
           121.91798006239168,
           0.89498
          ],
          [
           121.99700751250518,
           0.89512
          ],
          [
           121.99700751250518,
           0.89512
          ],
          [
           122.1284443482436,
           0.89536
          ],
          [
           122.25940498199436,
           0.8956
          ],
          [
           122.40302439510135,
           0.8958649999999999
          ],
          [
           122.5719576471748,
           0.89617
          ],
          [
           122.75240427620211,
           0.89651
          ],
          [
           122.96954103912395,
           0.89691
          ],
          [
           123.2472654961698,
           0.897435
          ],
          [
           150.8984409701765,
           0.09879
          ],
          [
           150.73691461817603,
           0.09912
          ],
          [
           150.53870196966625,
           0.099525
          ],
          [
           150.27890225932265,
           0.100045
          ],
          [
           138.95986869634518,
           0.89746
          ],
          [
           139.05313333788314,
           0.8976249999999999
          ],
          [
           139.21303234217828,
           0.897905
          ],
          [
           139.39872552006938,
           0.8982399999999999
          ],
          [
           139.62338690655196,
           0.89864
          ],
          [
           139.8738566262548,
           0.899095
          ],
          [
           131.91691591406897,
           0.1006249999999999
          ],
          [
           131.80577384714616,
           0.100865
          ],
          [
           131.61427174335608,
           0.10127
          ],
          [
           131.37320844851058,
           0.101765
          ],
          [
           143.17593655781337,
           0.86717
          ],
          [
           171.80670275512432,
           0.93478
          ],
          [
           82.46861589278099,
           0.95003
          ],
          [
           82.53274808415428,
           0.95019
          ],
          [
           82.65928694483284,
           0.950525
          ],
          [
           126.2153297353868,
           0.9959
          ],
          [
           126.28508325850254,
           0.99604
          ],
          [
           126.28508325850254,
           0.99604
          ],
          [
           126.4007681325564,
           0.99628
          ],
          [
           126.51609919789637,
           0.99651
          ],
          [
           126.64249859255544,
           0.996775
          ],
          [
           126.79118123101529,
           0.99708
          ],
          [
           126.9501547600113,
           0.99741
          ],
          [
           127.08570355535616,
           0.9977
          ],
          [
           143.7277172909463,
           0.14507
          ],
          [
           143.62430590150586,
           0.14528
          ],
          [
           143.4616610217239,
           0.14561
          ],
          [
           143.26134326092185,
           0.14601
          ],
          [
           142.99753368651898,
           0.146535
          ],
          [
           175.44563658796622,
           0.32882
          ],
          [
           175.38557206689708,
           0.32901
          ],
          [
           175.26061182261,
           0.32939
          ],
          [
           175.17128910199526,
           0.32965
          ],
          [
           175.09637792773654,
           0.32986
          ],
          [
           175.09637792773654,
           0.32986
          ],
          [
           175.03673201955473,
           0.33003
          ],
          [
           166.5922534850031,
           0.209
          ],
          [
           166.7055474505495,
           0.20924
          ],
          [
           176.49727232689892,
           0.24177
          ],
          [
           176.49727232689892,
           0.24177
          ],
          [
           176.52122348776544,
           0.24191
          ],
          [
           176.56172720226516,
           0.242175
          ],
          [
           176.59786575290724,
           0.24244
          ],
          [
           176.63187103080233,
           0.24272
          ],
          [
           176.66199015662858,
           0.24303
          ],
          [
           91.5912421649175,
           0.91732
          ],
          [
           91.69754342851536,
           0.91758
          ],
          [
           91.81236381652523,
           0.917865
          ],
          [
           91.92570583843212,
           0.91815
          ],
          [
           92.05609291764574,
           0.918485
          ],
          [
           92.21168358434116,
           0.91889
          ],
          [
           92.35548647734556,
           0.91927
          ],
          [
           102.7692587678618,
           0.95
          ],
          [
           102.93618818904666,
           0.95038
          ],
          [
           103.08078339435907,
           0.95071
          ],
          [
           103.15249073697052,
           0.950875
          ],
          [
           103.15249073697052,
           0.950875
          ],
          [
           103.24434525241251,
           0.95109
          ],
          [
           103.35573985042406,
           0.95135
          ],
          [
           103.47616431931316,
           0.951635
          ],
          [
           103.59540177493407,
           0.95192
          ],
          [
           103.73307582885975,
           0.952255
          ],
          [
           103.8976432697484,
           0.95266
          ],
          [
           104.05962575911502,
           0.95306
          ],
          [
           146.0704544855178,
           0.254895
          ],
          [
           146.0704544855178,
           0.254895
          ],
          [
           145.9970082096281,
           0.25506
          ],
          [
           145.89113403493585,
           0.2553
          ],
          [
           145.7733292582372,
           0.255555
          ],
          [
           145.64325786652495,
           0.255845
          ],
          [
           145.48951791874373,
           0.256175
          ],
          [
           145.29988376300517,
           0.25658
          ],
          [
           145.0961065933876,
           0.25701
          ],
          [
           129.87048067070378,
           0.87607
          ],
          [
           129.96934698191828,
           0.87628
          ],
          [
           130.09005780067434,
           0.8765449999999999
          ],
          [
           130.23186681361523,
           0.87685
          ],
          [
           130.3837277279623,
           0.87719
          ],
          [
           130.56621920561193,
           0.87759
          ],
          [
           130.80062061254307,
           0.87811
          ],
          [
           141.8155698107311,
           0.90989
          ],
          [
           141.89445515608082,
           0.910055
          ],
          [
           142.02983138470117,
           0.91034
          ],
          [
           142.16487105572725,
           0.910625
          ],
          [
           142.322060464336,
           0.910955
          ],
          [
           142.51144556320645,
           0.91136
          ],
          [
           142.75573578859786,
           0.91188
          ],
          [
           126.90308483308272,
           0.14703
          ],
          [
           126.76711885675296,
           0.147335
          ],
          [
           126.58612981076698,
           0.14774
          ],
          [
           126.34740080057335,
           0.14826
          ],
          [
           149.8870742450649,
           0.857755
          ],
          [
           71.6918866840475,
           0.95965
          ],
          [
           71.80860403495711,
           0.95994
          ],
          [
           71.88557192024452,
           0.96013
          ],
          [
           71.88557192024452,
           0.96013
          ],
          [
           71.98056267954165,
           0.96037
          ],
          [
           72.07456161263147,
           0.9606
          ],
          [
           84.19157865229968,
           0.99375
          ],
          [
           84.25156353481408,
           0.9939
          ],
          [
           84.25156353481408,
           0.9939
          ],
          [
           84.35089546761473,
           0.99413
          ],
          [
           84.4491965676493,
           0.99437
          ],
          [
           84.50773749492177,
           0.99451
          ],
          [
           166.27988545018718,
           0.230165
          ],
          [
           166.34264141162515,
           0.230305
          ],
          [
           166.34264141162515,
           0.230305
          ],
          [
           166.43707391647175,
           0.23052
          ],
          [
           166.55257537300787,
           0.2307799999999999
          ],
          [
           166.6788500423276,
           0.231065
          ],
          [
           166.75250636943093,
           0.23123
          ],
          [
           120.27350321646954,
           0.86472
          ],
          [
           120.34804400485788,
           0.8648899999999999
          ],
          [
           120.47510095849675,
           0.865175
          ],
          [
           120.60133128108802,
           0.86546
          ],
          [
           120.74760549542331,
           0.8657950000000001
          ],
          [
           120.92318861195749,
           0.8662
          ],
          [
           121.14722932312355,
           0.86672
          ],
          [
           154.77634716888775,
           0.96561
          ],
          [
           154.83089995412473,
           0.965725
          ],
          [
           154.83089995412473,
           0.965725
          ],
          [
           154.92906063630969,
           0.96594
          ],
          [
           155.04914587482492,
           0.966205
          ],
          [
           155.17988362456393,
           0.966485
          ],
          [
           155.31083548180794,
           0.96677
          ],
          [
           155.46371948935575,
           0.967105
          ],
          [
           155.64920920641143,
           0.96751
          ],
          [
           155.88827550503032,
           0.96803
          ],
          [
           156.26629810149137,
           0.10066
          ],
          [
           156.20819611909488,
           0.1008
          ],
          [
           156.20819611909488,
           0.1008
          ],
          [
           156.11056287967915,
           0.10104
          ],
          [
           156.00206539925367,
           0.101295
          ],
          [
           155.89211638208252,
           0.10156
          ],
          [
           155.77074553011053,
           0.10184
          ],
          [
           155.61704600769798,
           0.102195
          ],
          [
           155.44030724166245,
           0.1026
          ],
          [
           155.21840544328066,
           0.1031
          ],
          [
           134.515704359958,
           0.082605
          ]
         ],
         "hovertemplate": "date=%{x}<br>median_sky_bg=%{y}<br>median_moon_distance=%{customdata[0]}<br>median_moon_phase=%{customdata[1]}<extra></extra>",
         "legendgroup": "",
         "marker": {
          "color": "#636efa",
          "symbol": "circle"
         },
         "mode": "markers",
         "name": "",
         "orientation": "v",
         "showlegend": false,
         "type": "scatter",
         "x": [
          "2012-04-23T08:55:18.500000",
          "2012-04-23T09:12:29",
          "2012-05-18T07:41:33.500000",
          "2012-05-21T06:09:41",
          "2012-05-21T06:20:48.500000",
          "2012-05-21T06:32:56.500000",
          "2012-05-21T06:47:05.500000",
          "2012-05-21T07:04:17",
          "2012-05-21T07:26:31",
          "2012-05-22T05:55:36",
          "2012-05-22T06:05:42",
          "2012-05-22T06:16:49.500000",
          "2012-05-22T06:28:57.500000",
          "2012-05-22T06:43:06.500000",
          "2012-05-22T07:00:18",
          "2012-05-22T07:22:32",
          "2012-05-25T05:45:02.500000",
          "2012-05-25T05:53:07.500000",
          "2012-05-25T06:05:14.500000",
          "2012-05-25T06:17:22.500000",
          "2012-05-25T06:31:32",
          "2012-05-25T06:48:43",
          "2012-05-25T07:10:57.500000",
          "2012-06-17T05:01:06",
          "2012-06-17T05:18:17",
          "2012-06-17T05:35:28",
          "2012-06-20T04:13:45.500000",
          "2012-06-20T04:21:50.500000",
          "2012-06-20T04:34:59",
          "2012-06-20T04:49:09",
          "2012-06-20T05:06:19.500000",
          "2012-06-20T05:28:34.500000",
          "2012-06-22T04:15:49.500000",
          "2012-06-22T04:26:56",
          "2012-06-22T04:41:06",
          "2012-06-22T04:58:17",
          "2012-06-22T05:20:32.500000",
          "2012-07-15T04:01:40",
          "2013-03-13T09:44:05",
          "2013-03-13T10:00:15",
          "2013-03-13T10:11:23",
          "2013-03-13T10:20:29",
          "2013-03-13T10:20:29",
          "2013-03-13T10:30:35",
          "2013-03-13T10:41:42.500000",
          "2013-03-20T09:15:03",
          "2013-03-20T09:33:16",
          "2013-03-20T09:45:24",
          "2013-03-20T09:53:29",
          "2013-03-20T09:53:29",
          "2013-03-20T10:03:35",
          "2013-03-20T10:13:42",
          "2013-03-20T10:24:49",
          "2013-03-20T10:32:54.500000",
          "2013-03-21T09:28:16",
          "2013-03-21T09:42:25",
          "2013-03-21T09:49:30",
          "2013-03-21T09:49:30",
          "2013-03-21T09:58:36",
          "2013-03-21T10:09:43.500000",
          "2013-03-21T10:21:51.500000",
          "2013-03-21T10:29:56.500000",
          "2013-05-08T06:51:35.500000",
          "2013-05-08T07:00:41",
          "2013-05-08T07:11:48.500000",
          "2013-05-08T07:24:57",
          "2013-05-08T07:39:05",
          "2013-05-08T07:56:15.500000",
          "2013-05-08T08:18:29.500000",
          "2013-05-12T06:15:24",
          "2013-05-12T06:24:30",
          "2013-05-12T06:24:30",
          "2013-05-12T06:34:37",
          "2013-05-12T06:45:44",
          "2013-05-12T06:56:51",
          "2013-05-12T07:08:59",
          "2013-05-12T07:24:09.500000",
          "2013-05-12T07:41:21",
          "2013-05-12T08:02:35.500000",
          "2013-05-13T07:42:19.500000",
          "2013-05-13T07:58:30",
          "2013-05-15T07:00:57",
          "2013-05-15T07:12:04",
          "2013-05-15T07:29:15.500000",
          "2013-05-15T07:43:24.500000",
          "2013-06-11T04:20:26",
          "2013-06-11T04:26:30",
          "2013-06-11T04:26:30",
          "2013-06-11T04:36:36",
          "2013-06-11T04:47:43.500000",
          "2013-06-11T04:58:51",
          "2013-06-11T05:10:59",
          "2013-06-11T05:26:09.500000",
          "2013-06-11T05:43:19",
          "2013-06-11T06:04:30.500000",
          "2013-07-05T04:12:48",
          "2013-07-05T04:29:59.500000",
          "2013-07-10T04:13:51",
          "2013-07-11T04:19:52.500000",
          "2013-07-12T04:08:46",
          "2014-04-02T08:17:02",
          "2014-04-02T08:25:07",
          "2014-04-02T08:41:18",
          "2014-04-02T08:55:26",
          "2014-04-02T09:03:31",
          "2014-04-02T09:03:31",
          "2014-04-02T09:13:38",
          "2014-04-02T09:23:45",
          "2014-04-02T09:34:52",
          "2014-04-02T09:48:01",
          "2014-04-02T09:59:07.500000",
          "2014-04-05T08:43:27",
          "2014-04-05T08:51:32",
          "2014-04-05T08:51:32",
          "2014-04-05T09:01:39",
          "2014-04-05T09:11:46",
          "2014-04-05T09:22:52.500000",
          "2014-04-05T09:36:01",
          "2014-04-05T09:50:10",
          "2014-04-05T10:00:17",
          "2014-05-03T06:39:17",
          "2014-05-03T06:53:26",
          "2014-05-03T07:01:31",
          "2014-05-03T07:01:31",
          "2014-05-03T07:11:37",
          "2014-05-03T07:21:44",
          "2014-05-03T07:31:51",
          "2014-05-25T05:49:40",
          "2014-05-25T05:55:43",
          "2014-05-25T06:06:51",
          "2014-05-25T06:18:59.500000",
          "2014-05-25T06:33:08.500000",
          "2014-05-25T06:50:21",
          "2014-05-25T07:12:35",
          "2014-05-29T06:21:25",
          "2014-05-29T06:34:33",
          "2014-05-29T06:56:48",
          "2014-05-30T04:53:16",
          "2014-05-30T05:07:26",
          "2014-05-30T05:15:31",
          "2014-05-30T05:15:31",
          "2014-05-30T05:25:38",
          "2014-05-30T05:35:44",
          "2014-05-30T05:46:50.500000",
          "2014-05-30T05:59:57",
          "2014-05-30T06:14:06",
          "2014-05-30T06:30:17",
          "2014-05-30T06:53:31.500000",
          "2014-06-26T04:17:29.500000",
          "2014-06-26T04:27:35.500000",
          "2014-06-26T04:44:47",
          "2015-03-26T09:52:49",
          "2015-03-26T10:02:57",
          "2015-03-26T10:16:08",
          "2015-04-23T07:50:35",
          "2015-04-23T08:01:42",
          "2015-04-23T08:13:50.500000",
          "2015-04-23T08:25:58.500000",
          "2015-04-23T08:40:08.500000",
          "2015-04-23T08:57:20",
          "2015-04-23T09:15:32",
          "2015-05-21T05:30:16",
          "2015-05-21T05:44:26",
          "2015-05-21T05:51:30.500000",
          "2015-05-21T05:51:30.500000",
          "2015-05-21T06:00:37",
          "2015-05-21T06:11:44",
          "2015-05-21T06:23:52",
          "2015-05-21T06:36:00",
          "2015-05-21T06:50:09.500000",
          "2015-05-21T07:05:19",
          "2015-05-22T05:42:27",
          "2015-05-22T05:47:30.500000",
          "2015-05-22T05:47:30.500000",
          "2015-05-22T05:56:36",
          "2015-05-22T06:07:43.500000",
          "2015-05-22T06:19:51.500000",
          "2015-05-22T06:32:00.500000",
          "2015-05-22T06:46:09.500000",
          "2015-05-22T07:03:21",
          "2015-05-22T07:25:35.500000",
          "2015-06-16T04:57:06",
          "2015-06-16T05:08:14",
          "2015-06-16T05:25:29",
          "2015-06-16T05:46:44.500000",
          "2015-06-19T04:57:01.500000",
          "2015-06-19T05:13:12.500000",
          "2015-06-19T05:35:28",
          "2016-03-18T09:50:28",
          "2016-03-18T09:59:34",
          "2016-03-18T09:59:34",
          "2016-03-18T10:09:40",
          "2016-03-18T10:20:47.500000",
          "2016-03-18T10:31:55",
          "2016-04-09T07:49:02",
          "2016-04-09T07:57:07",
          "2016-04-09T08:13:18",
          "2016-04-09T08:25:26",
          "2016-04-09T08:33:31",
          "2016-04-09T08:33:31",
          "2016-04-09T08:42:37.500000",
          "2016-04-11T08:37:39",
          "2016-04-11T08:45:44",
          "2016-04-11T08:56:51",
          "2016-04-11T09:10:00",
          "2016-04-11T09:18:05",
          "2016-04-12T08:15:27",
          "2016-04-12T08:21:31",
          "2016-04-12T08:21:31",
          "2016-04-12T08:31:37",
          "2016-04-12T08:41:44",
          "2016-04-12T08:52:51.500000",
          "2016-04-12T09:06:01",
          "2016-04-12T09:20:11",
          "2016-04-12T09:32:19",
          "2016-05-04T06:35:15",
          "2016-05-04T06:47:23",
          "2016-05-04T06:55:28",
          "2016-05-04T06:55:28",
          "2016-05-04T07:05:35",
          "2016-05-04T07:15:41",
          "2016-05-04T07:26:48.500000",
          "2016-05-04T07:39:57",
          "2016-05-04T07:54:06",
          "2016-05-04T08:11:18",
          "2016-05-04T08:33:33",
          "2016-05-05T07:04:37.500000",
          "2016-05-05T07:11:43",
          "2016-05-05T07:22:50.500000",
          "2016-05-05T07:35:59",
          "2016-05-05T07:50:09",
          "2016-05-05T08:07:19.500000",
          "2016-05-05T08:29:34.500000",
          "2016-06-02T04:55:24",
          "2016-06-02T05:01:28",
          "2016-06-02T05:01:28",
          "2016-06-02T05:11:35",
          "2016-06-02T05:21:42",
          "2016-06-02T05:32:50.500000",
          "2016-06-02T05:46:01",
          "2016-06-02T06:00:11",
          "2016-06-02T06:17:22.500000",
          "2016-06-02T06:39:37.500000",
          "2016-06-08T05:21:59",
          "2016-06-08T05:36:10",
          "2016-06-08T05:53:22",
          "2016-06-08T06:15:36.500000",
          "2017-06-21T04:13:11",
          "2017-06-21T04:20:15.500000",
          "2017-06-21T04:32:24.500000",
          "2017-06-21T04:46:33.500000",
          "2017-06-21T05:03:45",
          "2017-06-21T05:23:02",
          "2017-06-27T04:12:49.500000",
          "2017-06-27T04:22:56",
          "2017-06-27T04:40:07",
          "2017-06-27T05:01:21.500000",
          "2018-07-09T04:17:58",
          "2018-07-11T04:12:55",
          "2019-04-03T09:37:42",
          "2019-04-03T09:44:45.500000",
          "2019-04-03T09:58:51.500000",
          "2019-05-04T06:52:22",
          "2019-05-04T06:58:26",
          "2019-05-04T06:58:26",
          "2019-05-04T07:08:31",
          "2019-05-04T07:18:36",
          "2019-05-04T07:29:41.500000",
          "2019-05-04T07:42:48",
          "2019-05-04T07:56:54",
          "2019-05-04T08:09:00",
          "2019-06-07T05:19:43",
          "2019-06-07T05:28:47.500000",
          "2019-06-07T05:42:54.500000",
          "2019-06-07T06:00:03",
          "2019-06-07T06:22:15",
          "2020-03-04T10:10:03",
          "2020-03-04T10:18:07",
          "2020-03-04T10:34:17",
          "2020-03-04T10:45:23",
          "2020-03-04T10:54:28",
          "2020-03-04T10:54:28",
          "2020-03-04T11:01:32.500000",
          "2020-03-30T09:58:53",
          "2020-03-30T10:08:59",
          "2020-03-31T09:12:29",
          "2020-03-31T09:12:29",
          "2020-03-31T09:18:33",
          "2020-03-31T09:29:38.500000",
          "2020-03-31T09:40:45",
          "2020-03-31T09:52:52",
          "2020-03-31T10:05:59.500000",
          "2020-04-20T07:59:33",
          "2020-04-20T08:10:39",
          "2020-04-20T08:22:46.500000",
          "2020-04-20T08:34:53.500000",
          "2020-04-20T08:49:01.500000",
          "2020-04-20T09:06:11",
          "2020-04-20T09:22:21",
          "2020-04-21T07:09:05",
          "2020-04-21T07:25:15",
          "2020-04-21T07:39:23",
          "2020-04-21T07:46:26.500000",
          "2020-04-21T07:46:26.500000",
          "2020-04-21T07:55:32",
          "2020-04-21T08:06:38.500000",
          "2020-04-21T08:18:45.500000",
          "2020-04-21T08:30:52.500000",
          "2020-04-21T08:45:01.500000",
          "2020-04-21T09:02:11",
          "2020-04-21T09:19:21.500000",
          "2020-04-30T07:14:28.500000",
          "2020-04-30T07:14:28.500000",
          "2020-04-30T07:21:33",
          "2020-04-30T07:31:39",
          "2020-04-30T07:42:45.500000",
          "2020-04-30T07:54:52.500000",
          "2020-04-30T08:09:00.500000",
          "2020-04-30T08:26:11",
          "2020-04-30T08:44:21",
          "2020-06-17T04:13:34",
          "2020-06-17T04:22:39",
          "2020-06-17T04:33:46.500000",
          "2020-06-17T04:46:54",
          "2020-06-17T05:01:02",
          "2020-06-17T05:18:08.500000",
          "2020-06-17T05:40:21",
          "2020-06-18T04:11:38",
          "2020-06-18T04:18:41.500000",
          "2020-06-18T04:30:49",
          "2020-06-18T04:42:56",
          "2020-06-18T04:57:04.500000",
          "2020-06-18T05:14:11",
          "2020-06-18T05:36:24",
          "2020-06-25T04:15:45",
          "2020-06-25T04:28:52.500000",
          "2020-06-25T04:46:03",
          "2020-06-25T05:08:13.500000",
          "2020-07-16T03:58:39",
          "2021-03-12T10:04:16",
          "2021-03-12T10:16:23",
          "2021-03-12T10:24:28",
          "2021-03-12T10:24:28",
          "2021-03-12T10:34:33",
          "2021-03-12T10:44:39",
          "2021-03-13T10:14:23",
          "2021-03-13T10:20:26",
          "2021-03-13T10:20:26",
          "2021-03-13T10:30:32",
          "2021-03-13T10:40:38",
          "2021-03-13T10:46:42",
          "2021-03-20T09:47:24.500000",
          "2021-03-20T09:53:28",
          "2021-03-20T09:53:28",
          "2021-03-20T10:02:34",
          "2021-03-20T10:13:40.500000",
          "2021-03-20T10:25:48",
          "2021-03-20T10:32:52",
          "2021-06-06T04:59:36",
          "2021-06-06T05:06:40.500000",
          "2021-06-06T05:18:47.500000",
          "2021-06-06T05:30:54.500000",
          "2021-06-06T05:45:03.500000",
          "2021-06-06T06:02:13",
          "2021-06-06T06:24:25.500000",
          "2021-06-09T04:29:36",
          "2021-06-09T04:34:39.500000",
          "2021-06-09T04:34:39.500000",
          "2021-06-09T04:43:45",
          "2021-06-09T04:54:51.500000",
          "2021-06-09T05:06:56.500000",
          "2021-06-09T05:19:02.500000",
          "2021-06-09T05:33:10.500000",
          "2021-06-09T05:50:21",
          "2021-06-09T06:12:34",
          "2021-06-13T04:12:23",
          "2021-06-13T04:18:27",
          "2021-06-13T04:18:27",
          "2021-06-13T04:28:33",
          "2021-06-13T04:39:38.500000",
          "2021-06-13T04:50:45",
          "2021-06-13T05:02:52",
          "2021-06-13T05:18:00.500000",
          "2021-06-13T05:35:10",
          "2021-06-13T05:56:22",
          "2021-07-12T04:08:44"
         ],
         "xaxis": "x",
         "y": [
          2216.88,
          2183.07,
          2370.09,
          2126.3,
          2021.505,
          1950.64,
          1835.4,
          1724.81,
          1649.705,
          2608.5,
          2474.21,
          2384.285,
          2242.17,
          2019.09,
          1973.31,
          1957.22,
          2253.775,
          2246.37,
          2017.01,
          1952.39,
          1805.56,
          1750.23,
          1743.595,
          2343.19,
          2306.285,
          2103.59,
          2797.435,
          2710.545,
          2570.2,
          2414.51,
          2203.565,
          2008.5,
          2009.17,
          1923.47,
          1854.96,
          1655.0549999999998,
          1564.88,
          2853.61,
          6933.05,
          6869.51,
          6505.185,
          5947.06,
          5947.06,
          5429.1,
          5182.360000000001,
          4883.69,
          4434.47,
          4253.57,
          4144.14,
          4144.14,
          3957.84,
          3905.3,
          3866.45,
          3780.78,
          5385.79,
          4899.01,
          4705.185,
          4705.185,
          4538.06,
          4486.73,
          4252.92,
          4108.965,
          4120.685,
          3941.56,
          3646.57,
          3281.2,
          3075.69,
          2903.87,
          2780.85,
          2769.255,
          2643.45,
          2643.45,
          2552.31,
          2389.945,
          2262.8,
          2097.76,
          2071.945,
          2027.41,
          1889.17,
          2143.5600000000004,
          2087.02,
          3296.175,
          3070.72,
          2632.825,
          2552.3500000000004,
          3673.83,
          3448.28,
          3448.28,
          3297.94,
          3014.73,
          3080.57,
          2899.12,
          2720.02,
          2562.8,
          2438.605,
          3017.89,
          2720.2,
          1711.115,
          3515.67,
          3451.04,
          10504.91,
          9693.38,
          8573.01,
          7719.5,
          6738.59,
          6738.59,
          6442.79,
          6208.64,
          5362.08,
          4572.65,
          4302.055,
          5938.66,
          5459.65,
          5459.65,
          5116.72,
          4781.33,
          4263.879999999999,
          4166.06,
          3813.95,
          3847.69,
          3237.38,
          2878.96,
          2655.54,
          2655.54,
          2439.92,
          2216.8,
          2047.64,
          2939.17,
          2830.92,
          2539.88,
          2375.83,
          2272.085,
          2157.45,
          2122.885,
          1962.915,
          1940.62,
          1861.96,
          4060.84,
          3600.12,
          3530.39,
          3530.39,
          3102.56,
          2816.98,
          2729.465,
          2573.63,
          2407.79,
          2352.67,
          2440.15,
          2485.075,
          2412.25,
          2262.61,
          3448.53,
          3336.4,
          3114.82,
          2140.2,
          2059.0550000000003,
          2009.5,
          1904.27,
          1788.795,
          1702.81,
          1657.59,
          3857.68,
          3444.02,
          3423.2250000000004,
          3423.2250000000004,
          3155.11,
          2931.8900000000003,
          2692.28,
          2531.395,
          2474.885,
          2281.38,
          2973.7,
          2941.885,
          2941.885,
          2746.06,
          2579.8450000000003,
          2440.94,
          2337.1400000000003,
          2202.54,
          2062.36,
          1729.255,
          2189.1,
          2042.8,
          1888.46,
          1802.595,
          2102.685,
          1968.87,
          1785.4299999999998,
          2695.985,
          2525.99,
          2525.99,
          2466.29,
          2358.69,
          2279.12,
          3096.02,
          2915.81,
          2591.21,
          2395.55,
          2272.37,
          2272.37,
          2198.02,
          2500.55,
          2400.8,
          2342.645,
          2148.27,
          2077.62,
          2454.09,
          2384.81,
          2384.81,
          2232.52,
          2126.3,
          1974.785,
          1901.16,
          1816.84,
          1772.92,
          2308.2,
          2079.05,
          1993.18,
          1993.18,
          1933.48,
          1834.71,
          1742.495,
          1669.87,
          1604.57,
          1571.525,
          1479.69,
          1763.12,
          1735.08,
          1646.89,
          1592.63,
          1483.85,
          1316.49,
          1252.79,
          2196.8,
          2127.68,
          2127.68,
          2087.67,
          1983.56,
          1899.095,
          1815.24,
          1724.62,
          1624.0700000000002,
          1537.325,
          1949.09,
          1867.24,
          1769.86,
          1720.73,
          2078.87,
          2086.105,
          1982.5,
          1840.835,
          1794.95,
          1714.24,
          1980.17,
          1897.285,
          1791.27,
          1713.98,
          1452.88,
          1801.31,
          1704.25,
          1673.91,
          1642.33,
          3586.71,
          3429.16,
          3429.16,
          3214.86,
          3046.56,
          2957.465,
          2821.37,
          2553.21,
          2467.72,
          1999.84,
          1983.305,
          1971.15,
          1856.54,
          1782.44,
          3322.31,
          3092.08,
          2831.07,
          2680.82,
          2625.03,
          2625.03,
          2609.3,
          1629.97,
          1587.45,
          1890.91,
          1890.91,
          1818.47,
          1725.56,
          1652.06,
          1609.13,
          1573.85,
          2012.66,
          1915.78,
          1845.43,
          1763.92,
          1692.515,
          1612.14,
          1567.37,
          2246.81,
          2015.35,
          1875.66,
          1813.95,
          1813.95,
          1718.99,
          1670.62,
          1626.72,
          1566.51,
          1499.965,
          1414.35,
          1401.29,
          2179.665,
          2179.665,
          2056.97,
          1905.49,
          1799.405,
          1775.775,
          1744.04,
          1692.31,
          1633.61,
          2629.755,
          2534.31,
          2424.735,
          2227.98,
          2088.61,
          2007.155,
          1834.765,
          2449.67,
          2200.525,
          2003.405,
          1884.785,
          1779.325,
          1694.15,
          1513.945,
          1955.26,
          1907.625,
          1741.18,
          1597.875,
          1358.28,
          3707.5,
          3505.14,
          3354.55,
          3354.55,
          3160.97,
          2951.49,
          2806.91,
          2774.13,
          2774.13,
          2629.79,
          2504.35,
          2442.71,
          2397.63,
          2358.32,
          2358.32,
          2323.25,
          2213.54,
          2111.905,
          2050.47,
          2338.1,
          2273.41,
          2088.6850000000004,
          1943.86,
          1846.495,
          1729.96,
          1658.94,
          2767.25,
          2769.545,
          2769.545,
          2715.78,
          2461.27,
          2156.7250000000004,
          2072.71,
          1900.705,
          1820.81,
          1658.605,
          2098.51,
          2011.15,
          2011.15,
          1813.41,
          1773.045,
          1721.03,
          1551.23,
          1474.095,
          1357.36,
          1283.73,
          1568.52
         ],
         "yaxis": "y"
        }
       ],
       "layout": {
        "legend": {
         "tracegroupgap": 0
        },
        "margin": {
         "t": 60
        },
        "template": {
         "data": {
          "bar": [
           {
            "error_x": {
             "color": "#2a3f5f"
            },
            "error_y": {
             "color": "#2a3f5f"
            },
            "marker": {
             "line": {
              "color": "#E5ECF6",
              "width": 0.5
             },
             "pattern": {
              "fillmode": "overlay",
              "size": 10,
              "solidity": 0.2
             }
            },
            "type": "bar"
           }
          ],
          "barpolar": [
           {
            "marker": {
             "line": {
              "color": "#E5ECF6",
              "width": 0.5
             },
             "pattern": {
              "fillmode": "overlay",
              "size": 10,
              "solidity": 0.2
             }
            },
            "type": "barpolar"
           }
          ],
          "carpet": [
           {
            "aaxis": {
             "endlinecolor": "#2a3f5f",
             "gridcolor": "white",
             "linecolor": "white",
             "minorgridcolor": "white",
             "startlinecolor": "#2a3f5f"
            },
            "baxis": {
             "endlinecolor": "#2a3f5f",
             "gridcolor": "white",
             "linecolor": "white",
             "minorgridcolor": "white",
             "startlinecolor": "#2a3f5f"
            },
            "type": "carpet"
           }
          ],
          "choropleth": [
           {
            "colorbar": {
             "outlinewidth": 0,
             "ticks": ""
            },
            "type": "choropleth"
           }
          ],
          "contour": [
           {
            "colorbar": {
             "outlinewidth": 0,
             "ticks": ""
            },
            "colorscale": [
             [
              0,
              "#0d0887"
             ],
             [
              0.1111111111111111,
              "#46039f"
             ],
             [
              0.2222222222222222,
              "#7201a8"
             ],
             [
              0.3333333333333333,
              "#9c179e"
             ],
             [
              0.4444444444444444,
              "#bd3786"
             ],
             [
              0.5555555555555556,
              "#d8576b"
             ],
             [
              0.6666666666666666,
              "#ed7953"
             ],
             [
              0.7777777777777778,
              "#fb9f3a"
             ],
             [
              0.8888888888888888,
              "#fdca26"
             ],
             [
              1,
              "#f0f921"
             ]
            ],
            "type": "contour"
           }
          ],
          "contourcarpet": [
           {
            "colorbar": {
             "outlinewidth": 0,
             "ticks": ""
            },
            "type": "contourcarpet"
           }
          ],
          "heatmap": [
           {
            "colorbar": {
             "outlinewidth": 0,
             "ticks": ""
            },
            "colorscale": [
             [
              0,
              "#0d0887"
             ],
             [
              0.1111111111111111,
              "#46039f"
             ],
             [
              0.2222222222222222,
              "#7201a8"
             ],
             [
              0.3333333333333333,
              "#9c179e"
             ],
             [
              0.4444444444444444,
              "#bd3786"
             ],
             [
              0.5555555555555556,
              "#d8576b"
             ],
             [
              0.6666666666666666,
              "#ed7953"
             ],
             [
              0.7777777777777778,
              "#fb9f3a"
             ],
             [
              0.8888888888888888,
              "#fdca26"
             ],
             [
              1,
              "#f0f921"
             ]
            ],
            "type": "heatmap"
           }
          ],
          "heatmapgl": [
           {
            "colorbar": {
             "outlinewidth": 0,
             "ticks": ""
            },
            "colorscale": [
             [
              0,
              "#0d0887"
             ],
             [
              0.1111111111111111,
              "#46039f"
             ],
             [
              0.2222222222222222,
              "#7201a8"
             ],
             [
              0.3333333333333333,
              "#9c179e"
             ],
             [
              0.4444444444444444,
              "#bd3786"
             ],
             [
              0.5555555555555556,
              "#d8576b"
             ],
             [
              0.6666666666666666,
              "#ed7953"
             ],
             [
              0.7777777777777778,
              "#fb9f3a"
             ],
             [
              0.8888888888888888,
              "#fdca26"
             ],
             [
              1,
              "#f0f921"
             ]
            ],
            "type": "heatmapgl"
           }
          ],
          "histogram": [
           {
            "marker": {
             "pattern": {
              "fillmode": "overlay",
              "size": 10,
              "solidity": 0.2
             }
            },
            "type": "histogram"
           }
          ],
          "histogram2d": [
           {
            "colorbar": {
             "outlinewidth": 0,
             "ticks": ""
            },
            "colorscale": [
             [
              0,
              "#0d0887"
             ],
             [
              0.1111111111111111,
              "#46039f"
             ],
             [
              0.2222222222222222,
              "#7201a8"
             ],
             [
              0.3333333333333333,
              "#9c179e"
             ],
             [
              0.4444444444444444,
              "#bd3786"
             ],
             [
              0.5555555555555556,
              "#d8576b"
             ],
             [
              0.6666666666666666,
              "#ed7953"
             ],
             [
              0.7777777777777778,
              "#fb9f3a"
             ],
             [
              0.8888888888888888,
              "#fdca26"
             ],
             [
              1,
              "#f0f921"
             ]
            ],
            "type": "histogram2d"
           }
          ],
          "histogram2dcontour": [
           {
            "colorbar": {
             "outlinewidth": 0,
             "ticks": ""
            },
            "colorscale": [
             [
              0,
              "#0d0887"
             ],
             [
              0.1111111111111111,
              "#46039f"
             ],
             [
              0.2222222222222222,
              "#7201a8"
             ],
             [
              0.3333333333333333,
              "#9c179e"
             ],
             [
              0.4444444444444444,
              "#bd3786"
             ],
             [
              0.5555555555555556,
              "#d8576b"
             ],
             [
              0.6666666666666666,
              "#ed7953"
             ],
             [
              0.7777777777777778,
              "#fb9f3a"
             ],
             [
              0.8888888888888888,
              "#fdca26"
             ],
             [
              1,
              "#f0f921"
             ]
            ],
            "type": "histogram2dcontour"
           }
          ],
          "mesh3d": [
           {
            "colorbar": {
             "outlinewidth": 0,
             "ticks": ""
            },
            "type": "mesh3d"
           }
          ],
          "parcoords": [
           {
            "line": {
             "colorbar": {
              "outlinewidth": 0,
              "ticks": ""
             }
            },
            "type": "parcoords"
           }
          ],
          "pie": [
           {
            "automargin": true,
            "type": "pie"
           }
          ],
          "scatter": [
           {
            "fillpattern": {
             "fillmode": "overlay",
             "size": 10,
             "solidity": 0.2
            },
            "type": "scatter"
           }
          ],
          "scatter3d": [
           {
            "line": {
             "colorbar": {
              "outlinewidth": 0,
              "ticks": ""
             }
            },
            "marker": {
             "colorbar": {
              "outlinewidth": 0,
              "ticks": ""
             }
            },
            "type": "scatter3d"
           }
          ],
          "scattercarpet": [
           {
            "marker": {
             "colorbar": {
              "outlinewidth": 0,
              "ticks": ""
             }
            },
            "type": "scattercarpet"
           }
          ],
          "scattergeo": [
           {
            "marker": {
             "colorbar": {
              "outlinewidth": 0,
              "ticks": ""
             }
            },
            "type": "scattergeo"
           }
          ],
          "scattergl": [
           {
            "marker": {
             "colorbar": {
              "outlinewidth": 0,
              "ticks": ""
             }
            },
            "type": "scattergl"
           }
          ],
          "scattermapbox": [
           {
            "marker": {
             "colorbar": {
              "outlinewidth": 0,
              "ticks": ""
             }
            },
            "type": "scattermapbox"
           }
          ],
          "scatterpolar": [
           {
            "marker": {
             "colorbar": {
              "outlinewidth": 0,
              "ticks": ""
             }
            },
            "type": "scatterpolar"
           }
          ],
          "scatterpolargl": [
           {
            "marker": {
             "colorbar": {
              "outlinewidth": 0,
              "ticks": ""
             }
            },
            "type": "scatterpolargl"
           }
          ],
          "scatterternary": [
           {
            "marker": {
             "colorbar": {
              "outlinewidth": 0,
              "ticks": ""
             }
            },
            "type": "scatterternary"
           }
          ],
          "surface": [
           {
            "colorbar": {
             "outlinewidth": 0,
             "ticks": ""
            },
            "colorscale": [
             [
              0,
              "#0d0887"
             ],
             [
              0.1111111111111111,
              "#46039f"
             ],
             [
              0.2222222222222222,
              "#7201a8"
             ],
             [
              0.3333333333333333,
              "#9c179e"
             ],
             [
              0.4444444444444444,
              "#bd3786"
             ],
             [
              0.5555555555555556,
              "#d8576b"
             ],
             [
              0.6666666666666666,
              "#ed7953"
             ],
             [
              0.7777777777777778,
              "#fb9f3a"
             ],
             [
              0.8888888888888888,
              "#fdca26"
             ],
             [
              1,
              "#f0f921"
             ]
            ],
            "type": "surface"
           }
          ],
          "table": [
           {
            "cells": {
             "fill": {
              "color": "#EBF0F8"
             },
             "line": {
              "color": "white"
             }
            },
            "header": {
             "fill": {
              "color": "#C8D4E3"
             },
             "line": {
              "color": "white"
             }
            },
            "type": "table"
           }
          ]
         },
         "layout": {
          "annotationdefaults": {
           "arrowcolor": "#2a3f5f",
           "arrowhead": 0,
           "arrowwidth": 1
          },
          "autotypenumbers": "strict",
          "coloraxis": {
           "colorbar": {
            "outlinewidth": 0,
            "ticks": ""
           }
          },
          "colorscale": {
           "diverging": [
            [
             0,
             "#8e0152"
            ],
            [
             0.1,
             "#c51b7d"
            ],
            [
             0.2,
             "#de77ae"
            ],
            [
             0.3,
             "#f1b6da"
            ],
            [
             0.4,
             "#fde0ef"
            ],
            [
             0.5,
             "#f7f7f7"
            ],
            [
             0.6,
             "#e6f5d0"
            ],
            [
             0.7,
             "#b8e186"
            ],
            [
             0.8,
             "#7fbc41"
            ],
            [
             0.9,
             "#4d9221"
            ],
            [
             1,
             "#276419"
            ]
           ],
           "sequential": [
            [
             0,
             "#0d0887"
            ],
            [
             0.1111111111111111,
             "#46039f"
            ],
            [
             0.2222222222222222,
             "#7201a8"
            ],
            [
             0.3333333333333333,
             "#9c179e"
            ],
            [
             0.4444444444444444,
             "#bd3786"
            ],
            [
             0.5555555555555556,
             "#d8576b"
            ],
            [
             0.6666666666666666,
             "#ed7953"
            ],
            [
             0.7777777777777778,
             "#fb9f3a"
            ],
            [
             0.8888888888888888,
             "#fdca26"
            ],
            [
             1,
             "#f0f921"
            ]
           ],
           "sequentialminus": [
            [
             0,
             "#0d0887"
            ],
            [
             0.1111111111111111,
             "#46039f"
            ],
            [
             0.2222222222222222,
             "#7201a8"
            ],
            [
             0.3333333333333333,
             "#9c179e"
            ],
            [
             0.4444444444444444,
             "#bd3786"
            ],
            [
             0.5555555555555556,
             "#d8576b"
            ],
            [
             0.6666666666666666,
             "#ed7953"
            ],
            [
             0.7777777777777778,
             "#fb9f3a"
            ],
            [
             0.8888888888888888,
             "#fdca26"
            ],
            [
             1,
             "#f0f921"
            ]
           ]
          },
          "colorway": [
           "#636efa",
           "#EF553B",
           "#00cc96",
           "#ab63fa",
           "#FFA15A",
           "#19d3f3",
           "#FF6692",
           "#B6E880",
           "#FF97FF",
           "#FECB52"
          ],
          "font": {
           "color": "#2a3f5f"
          },
          "geo": {
           "bgcolor": "white",
           "lakecolor": "white",
           "landcolor": "#E5ECF6",
           "showlakes": true,
           "showland": true,
           "subunitcolor": "white"
          },
          "hoverlabel": {
           "align": "left"
          },
          "hovermode": "closest",
          "mapbox": {
           "style": "light"
          },
          "paper_bgcolor": "white",
          "plot_bgcolor": "#E5ECF6",
          "polar": {
           "angularaxis": {
            "gridcolor": "white",
            "linecolor": "white",
            "ticks": ""
           },
           "bgcolor": "#E5ECF6",
           "radialaxis": {
            "gridcolor": "white",
            "linecolor": "white",
            "ticks": ""
           }
          },
          "scene": {
           "xaxis": {
            "backgroundcolor": "#E5ECF6",
            "gridcolor": "white",
            "gridwidth": 2,
            "linecolor": "white",
            "showbackground": true,
            "ticks": "",
            "zerolinecolor": "white"
           },
           "yaxis": {
            "backgroundcolor": "#E5ECF6",
            "gridcolor": "white",
            "gridwidth": 2,
            "linecolor": "white",
            "showbackground": true,
            "ticks": "",
            "zerolinecolor": "white"
           },
           "zaxis": {
            "backgroundcolor": "#E5ECF6",
            "gridcolor": "white",
            "gridwidth": 2,
            "linecolor": "white",
            "showbackground": true,
            "ticks": "",
            "zerolinecolor": "white"
           }
          },
          "shapedefaults": {
           "line": {
            "color": "#2a3f5f"
           }
          },
          "ternary": {
           "aaxis": {
            "gridcolor": "white",
            "linecolor": "white",
            "ticks": ""
           },
           "baxis": {
            "gridcolor": "white",
            "linecolor": "white",
            "ticks": ""
           },
           "bgcolor": "#E5ECF6",
           "caxis": {
            "gridcolor": "white",
            "linecolor": "white",
            "ticks": ""
           }
          },
          "title": {
           "x": 0.05
          },
          "xaxis": {
           "automargin": true,
           "gridcolor": "white",
           "linecolor": "white",
           "ticks": "",
           "title": {
            "standoff": 15
           },
           "zerolinecolor": "white",
           "zerolinewidth": 2
          },
          "yaxis": {
           "automargin": true,
           "gridcolor": "white",
           "linecolor": "white",
           "ticks": "",
           "title": {
            "standoff": 15
           },
           "zerolinecolor": "white",
           "zerolinewidth": 2
          }
         }
        },
        "xaxis": {
         "anchor": "y",
         "domain": [
          0,
          1
         ],
         "title": {
          "text": "date"
         }
        },
        "yaxis": {
         "anchor": "x",
         "domain": [
          0,
          1
         ],
         "title": {
          "text": "median_sky_bg"
         }
        }
       }
      },
      "text/html": [
       "<div>                            <div id=\"26edc829-8c05-4825-ba68-0079cc31ff4c\" class=\"plotly-graph-div\" style=\"height:525px; width:100%;\"></div>            <script type=\"text/javascript\">                require([\"plotly\"], function(Plotly) {                    window.PLOTLYENV=window.PLOTLYENV || {};                                    if (document.getElementById(\"26edc829-8c05-4825-ba68-0079cc31ff4c\")) {                    Plotly.newPlot(                        \"26edc829-8c05-4825-ba68-0079cc31ff4c\",                        [{\"customdata\":[[146.17747269516894,0.071975],[146.36321665456782,0.07238],[119.17091486986304,0.916815],[153.48559174005308,0.01625],[153.60831480964163,0.016505],[153.7421550118551,0.016795],[153.89812106311402,0.017125],[154.08725320508017,0.01753],[154.3308813381905,0.018055],[165.14464207329138,0.04978],[165.25558806783093,0.05002],[165.37808438703172,0.050275],[165.5119528541963,0.050565],[165.66831555373653,0.0508949999999999],[165.85845217004623,0.0513],[166.10422496252795,0.05182],[158.61885641118818,0.15112],[158.53502108272454,0.15131],[158.40824931057654,0.151595],[158.2800289332573,0.15188],[158.12888254502866,0.152215],[157.9433851007835,0.15262],[157.70021759908093,0.15314],[149.9359462668743,0.92894],[150.12439402483247,0.929345],[150.31201818274258,0.92975],[174.4553300814789,0.029415],[174.3705768814206,0.029605],[174.23161978657788,0.02991],[174.08031726618094,0.03025],[173.89500737584672,0.030655],[173.65231869735555,0.031175],[149.8553830825254,0.09719],[149.73957324248258,0.09745],[149.59021755487663,0.09779],[149.4066885249517,0.09819],[149.165380968931,0.098715],[157.94308165980644,0.87571],[102.54684000456658,0.04479],[102.72908821519248,0.04517],[102.85353004168309,0.045435],[102.95463781277378,0.04565],[102.95463781277378,0.04565],[103.0660801247482,0.04589],[103.1878856233613,0.046145],[173.00548251137198,0.28115],[172.8208479618641,0.28158],[172.6962943581366,0.28187],[172.61265442568882,0.28206],[172.61265442568882,0.28206],[172.50743990084823,0.28229],[172.40130150877724,0.28253],[172.28385219853556,0.282795],[172.19785914481497,0.282985],[160.94512959294178,0.31533],[160.80431780882472,0.31566],[160.73310843161607,0.315825],[160.73310843161607,0.315825],[160.64095808185425,0.31604],[160.5272882639158,0.316305],[160.40211331302996,0.316585],[160.31805117026164,0.316775],[118.60374989998591,0.937075],[118.7040234667263,0.93729],[118.82606862245854,0.93755],[118.96925353788684,0.93786],[119.12194501500984,0.93819],[119.30553617794992,0.938595],[119.53973150107674,0.93912],[166.4112105471212,0.07168],[166.5099428105477,0.07189],[166.5099428105477,0.07189],[166.6201238419415,0.07213],[166.74162334622508,0.07239],[166.8635042607737,0.07265],[166.9968972495153,0.07294],[167.16414021841246,0.073295],[167.3539609395933,0.0737],[167.5886692470698,0.074195],[179.1444870048379,0.107585],[179.32158808731734,0.107965],[157.7657729020109,0.174335],[157.65121443629306,0.1746],[157.47226861903567,0.175005],[157.3234898044546,0.175335],[162.28585076642446,0.08487],[162.22549087626652,0.08501],[162.22549087626652,0.08501],[162.12428019977185,0.08525],[162.011785895496,0.08551],[161.89828851469196,0.08577],[161.77340387799595,0.08606],[161.6156980378555,0.0864149999999999],[161.435523563151,0.08682],[161.21055022943506,0.087315],[159.66672909300962,0.89741],[159.8559430018305,0.89781],[141.30882395510145,0.066745],[129.22909636242866,0.10075],[117.16411110209896,0.134355],[135.29227185901334,0.08008],[135.38986840590775,0.08027],[135.58525329804766,0.08065],[135.75574476748565,0.08098],[135.85313887844518,0.08117],[135.85313887844518,0.08117],[135.97486555695986,0.08141],[136.09636066068956,0.08164],[136.22953757802924,0.081905],[136.38655031831965,0.08221],[136.51866226384857,0.0824749999999999],[173.45157476224523,0.18229],[173.5388846041731,0.18248],[173.5388846041731,0.18248],[173.64862808053005,0.18271],[173.758853490462,0.18295],[173.8803861653619,0.183215],[174.0247553670847,0.18352],[174.18081113674023,0.18385],[174.29269943843337,0.18409],[179.0004537167149,0.12754],[178.9474310198612,0.12787],[178.90875304710968,0.12806],[178.90875304710968,0.12806],[178.85282488844334,0.1283],[178.78930785510906,0.12853],[178.7192789830323,0.12877],[111.8226673795256,0.87136],[111.89276060362296,0.8715],[112.0210618140766,0.8717649999999999],[112.15992726101098,0.872045],[112.32028135495511,0.8723799999999999],[112.51301311591403,0.87279],[112.7580275022228,0.87331],[163.83243256198608,0.007555],[163.98415367790983,0.00787],[164.241171595806,0.00839],[175.1624782404646,0.03935],[175.31372779339824,0.03968],[175.40050421563512,0.03987],[175.40050421563512,0.03987],[175.50954944220246,0.04011],[175.61885754428326,0.04035],[175.7395302508337,0.040605],[175.8824403983568,0.04092],[176.03720484751676,0.04125],[176.21464680221894,0.04163],[176.46983146808293,0.042175],[171.61372285565193,0.952815],[171.72716534679216,0.95305],[171.92080374769327,0.95346],[174.61680663511817,0.20535],[174.72812897124422,0.205585],[174.87329736608152,0.2059],[177.542727795108,0.15065],[177.4393327066653,0.150905],[177.3235866187479,0.151195],[177.20526742109985,0.151475],[177.06413961640368,0.15181],[176.88912569272853,0.15222],[176.7000315845299,0.15264],[171.39506797093767,0.09552],[171.2388671961881,0.09585],[171.16026434624652,0.096015],[171.16026434624652,0.096015],[171.0585283425628,0.09623],[170.9335496049262,0.0964899999999999],[170.79619798355304,0.096775],[170.65792800389033,0.09706],[170.49551948861912,0.097395],[170.3205058262864,0.09775],[158.507178643678,0.12966],[158.45433374572752,0.1297849999999999],[158.45433374572752,0.1297849999999999],[158.35877007149483,0.13],[158.2408123494916,0.13026],[158.1109492094432,0.130545],[157.979692657786,0.13083],[157.82538299313558,0.131165],[157.63595797328276,0.13157],[157.38801058823145,0.1320899999999999],[170.15817934199706,0.97518],[170.29260349339518,0.97544],[170.50139764047145,0.97585],[170.75925490732723,0.976345],[150.79940180627943,0.076765],[150.62562571005896,0.0771449999999999],[150.38334734975848,0.0776699999999999],[149.1463417752002,0.32832],[149.05504396477784,0.32853],[149.05504396477784,0.32853],[148.9526467572333,0.32877],[148.83864941905415,0.329035],[148.7234358375258,0.32929],[136.51516898573854,0.07045],[136.6237581501737,0.07064],[136.8412305387813,0.07102],[137.0042358407767,0.07131],[137.1127613302769,0.0715],[137.1127613302769,0.0715],[137.23494198743776,0.071715],[166.2541696789207,0.13932],[166.35653774552736,0.13951],[166.49769351868167,0.139775],[166.66513812788256,0.14008],[166.76827776199636,0.14027],[178.4451963568384,0.17266],[178.4377269247902,0.17281],[178.4377269247902,0.17281],[178.41801378859617,0.17304],[178.38933847744048,0.17328],[178.34786224621843,0.173545],[178.28633875374538,0.17385],[178.2061913634684,0.17419],[178.12734269568077,0.17447],[99.04979859965488,0.9153],[99.20159926365962,0.91558],[99.30208362405826,0.91577],[99.30208362405826,0.91577],[99.4270820729874,0.91601],[99.550995294957,0.91625],[99.68642064778362,0.91651],[99.84491703969525,0.91682],[100.01369216634136,0.91715],[100.21610711792982,0.917555],[100.47330968065096,0.91808],[114.33462918810334,0.949855],[114.42661953792084,0.95002],[114.57024240909804,0.95028],[114.7387733960202,0.95059],[114.91897007693234,0.95092],[115.13522278085908,0.951325],[115.41150590310968,0.95185],[121.91798006239168,0.89498],[121.99700751250518,0.89512],[121.99700751250518,0.89512],[122.1284443482436,0.89536],[122.25940498199436,0.8956],[122.40302439510135,0.8958649999999999],[122.5719576471748,0.89617],[122.75240427620211,0.89651],[122.96954103912395,0.89691],[123.2472654961698,0.897435],[150.8984409701765,0.09879],[150.73691461817603,0.09912],[150.53870196966625,0.099525],[150.27890225932265,0.100045],[138.95986869634518,0.89746],[139.05313333788314,0.8976249999999999],[139.21303234217828,0.897905],[139.39872552006938,0.8982399999999999],[139.62338690655196,0.89864],[139.8738566262548,0.899095],[131.91691591406897,0.1006249999999999],[131.80577384714616,0.100865],[131.61427174335608,0.10127],[131.37320844851058,0.101765],[143.17593655781337,0.86717],[171.80670275512432,0.93478],[82.46861589278099,0.95003],[82.53274808415428,0.95019],[82.65928694483284,0.950525],[126.2153297353868,0.9959],[126.28508325850254,0.99604],[126.28508325850254,0.99604],[126.4007681325564,0.99628],[126.51609919789637,0.99651],[126.64249859255544,0.996775],[126.79118123101529,0.99708],[126.9501547600113,0.99741],[127.08570355535616,0.9977],[143.7277172909463,0.14507],[143.62430590150586,0.14528],[143.4616610217239,0.14561],[143.26134326092185,0.14601],[142.99753368651898,0.146535],[175.44563658796622,0.32882],[175.38557206689708,0.32901],[175.26061182261,0.32939],[175.17128910199526,0.32965],[175.09637792773654,0.32986],[175.09637792773654,0.32986],[175.03673201955473,0.33003],[166.5922534850031,0.209],[166.7055474505495,0.20924],[176.49727232689892,0.24177],[176.49727232689892,0.24177],[176.52122348776544,0.24191],[176.56172720226516,0.242175],[176.59786575290724,0.24244],[176.63187103080233,0.24272],[176.66199015662858,0.24303],[91.5912421649175,0.91732],[91.69754342851536,0.91758],[91.81236381652523,0.917865],[91.92570583843212,0.91815],[92.05609291764574,0.918485],[92.21168358434116,0.91889],[92.35548647734556,0.91927],[102.7692587678618,0.95],[102.93618818904666,0.95038],[103.08078339435907,0.95071],[103.15249073697052,0.950875],[103.15249073697052,0.950875],[103.24434525241251,0.95109],[103.35573985042406,0.95135],[103.47616431931316,0.951635],[103.59540177493407,0.95192],[103.73307582885975,0.952255],[103.8976432697484,0.95266],[104.05962575911502,0.95306],[146.0704544855178,0.254895],[146.0704544855178,0.254895],[145.9970082096281,0.25506],[145.89113403493585,0.2553],[145.7733292582372,0.255555],[145.64325786652495,0.255845],[145.48951791874373,0.256175],[145.29988376300517,0.25658],[145.0961065933876,0.25701],[129.87048067070378,0.87607],[129.96934698191828,0.87628],[130.09005780067434,0.8765449999999999],[130.23186681361523,0.87685],[130.3837277279623,0.87719],[130.56621920561193,0.87759],[130.80062061254307,0.87811],[141.8155698107311,0.90989],[141.89445515608082,0.910055],[142.02983138470117,0.91034],[142.16487105572725,0.910625],[142.322060464336,0.910955],[142.51144556320645,0.91136],[142.75573578859786,0.91188],[126.90308483308272,0.14703],[126.76711885675296,0.147335],[126.58612981076698,0.14774],[126.34740080057335,0.14826],[149.8870742450649,0.857755],[71.6918866840475,0.95965],[71.80860403495711,0.95994],[71.88557192024452,0.96013],[71.88557192024452,0.96013],[71.98056267954165,0.96037],[72.07456161263147,0.9606],[84.19157865229968,0.99375],[84.25156353481408,0.9939],[84.25156353481408,0.9939],[84.35089546761473,0.99413],[84.4491965676493,0.99437],[84.50773749492177,0.99451],[166.27988545018718,0.230165],[166.34264141162515,0.230305],[166.34264141162515,0.230305],[166.43707391647175,0.23052],[166.55257537300787,0.2307799999999999],[166.6788500423276,0.231065],[166.75250636943093,0.23123],[120.27350321646954,0.86472],[120.34804400485788,0.8648899999999999],[120.47510095849675,0.865175],[120.60133128108802,0.86546],[120.74760549542331,0.8657950000000001],[120.92318861195749,0.8662],[121.14722932312355,0.86672],[154.77634716888775,0.96561],[154.83089995412473,0.965725],[154.83089995412473,0.965725],[154.92906063630969,0.96594],[155.04914587482492,0.966205],[155.17988362456393,0.966485],[155.31083548180794,0.96677],[155.46371948935575,0.967105],[155.64920920641143,0.96751],[155.88827550503032,0.96803],[156.26629810149137,0.10066],[156.20819611909488,0.1008],[156.20819611909488,0.1008],[156.11056287967915,0.10104],[156.00206539925367,0.101295],[155.89211638208252,0.10156],[155.77074553011053,0.10184],[155.61704600769798,0.102195],[155.44030724166245,0.1026],[155.21840544328066,0.1031],[134.515704359958,0.082605]],\"hovertemplate\":\"date=%{x}\\u003cbr\\u003emedian_sky_bg=%{y}\\u003cbr\\u003emedian_moon_distance=%{customdata[0]}\\u003cbr\\u003emedian_moon_phase=%{customdata[1]}\\u003cextra\\u003e\\u003c\\u002fextra\\u003e\",\"legendgroup\":\"\",\"marker\":{\"color\":\"#636efa\",\"symbol\":\"circle\"},\"mode\":\"markers\",\"name\":\"\",\"orientation\":\"v\",\"showlegend\":false,\"x\":[\"2012-04-23T08:55:18.500000\",\"2012-04-23T09:12:29\",\"2012-05-18T07:41:33.500000\",\"2012-05-21T06:09:41\",\"2012-05-21T06:20:48.500000\",\"2012-05-21T06:32:56.500000\",\"2012-05-21T06:47:05.500000\",\"2012-05-21T07:04:17\",\"2012-05-21T07:26:31\",\"2012-05-22T05:55:36\",\"2012-05-22T06:05:42\",\"2012-05-22T06:16:49.500000\",\"2012-05-22T06:28:57.500000\",\"2012-05-22T06:43:06.500000\",\"2012-05-22T07:00:18\",\"2012-05-22T07:22:32\",\"2012-05-25T05:45:02.500000\",\"2012-05-25T05:53:07.500000\",\"2012-05-25T06:05:14.500000\",\"2012-05-25T06:17:22.500000\",\"2012-05-25T06:31:32\",\"2012-05-25T06:48:43\",\"2012-05-25T07:10:57.500000\",\"2012-06-17T05:01:06\",\"2012-06-17T05:18:17\",\"2012-06-17T05:35:28\",\"2012-06-20T04:13:45.500000\",\"2012-06-20T04:21:50.500000\",\"2012-06-20T04:34:59\",\"2012-06-20T04:49:09\",\"2012-06-20T05:06:19.500000\",\"2012-06-20T05:28:34.500000\",\"2012-06-22T04:15:49.500000\",\"2012-06-22T04:26:56\",\"2012-06-22T04:41:06\",\"2012-06-22T04:58:17\",\"2012-06-22T05:20:32.500000\",\"2012-07-15T04:01:40\",\"2013-03-13T09:44:05\",\"2013-03-13T10:00:15\",\"2013-03-13T10:11:23\",\"2013-03-13T10:20:29\",\"2013-03-13T10:20:29\",\"2013-03-13T10:30:35\",\"2013-03-13T10:41:42.500000\",\"2013-03-20T09:15:03\",\"2013-03-20T09:33:16\",\"2013-03-20T09:45:24\",\"2013-03-20T09:53:29\",\"2013-03-20T09:53:29\",\"2013-03-20T10:03:35\",\"2013-03-20T10:13:42\",\"2013-03-20T10:24:49\",\"2013-03-20T10:32:54.500000\",\"2013-03-21T09:28:16\",\"2013-03-21T09:42:25\",\"2013-03-21T09:49:30\",\"2013-03-21T09:49:30\",\"2013-03-21T09:58:36\",\"2013-03-21T10:09:43.500000\",\"2013-03-21T10:21:51.500000\",\"2013-03-21T10:29:56.500000\",\"2013-05-08T06:51:35.500000\",\"2013-05-08T07:00:41\",\"2013-05-08T07:11:48.500000\",\"2013-05-08T07:24:57\",\"2013-05-08T07:39:05\",\"2013-05-08T07:56:15.500000\",\"2013-05-08T08:18:29.500000\",\"2013-05-12T06:15:24\",\"2013-05-12T06:24:30\",\"2013-05-12T06:24:30\",\"2013-05-12T06:34:37\",\"2013-05-12T06:45:44\",\"2013-05-12T06:56:51\",\"2013-05-12T07:08:59\",\"2013-05-12T07:24:09.500000\",\"2013-05-12T07:41:21\",\"2013-05-12T08:02:35.500000\",\"2013-05-13T07:42:19.500000\",\"2013-05-13T07:58:30\",\"2013-05-15T07:00:57\",\"2013-05-15T07:12:04\",\"2013-05-15T07:29:15.500000\",\"2013-05-15T07:43:24.500000\",\"2013-06-11T04:20:26\",\"2013-06-11T04:26:30\",\"2013-06-11T04:26:30\",\"2013-06-11T04:36:36\",\"2013-06-11T04:47:43.500000\",\"2013-06-11T04:58:51\",\"2013-06-11T05:10:59\",\"2013-06-11T05:26:09.500000\",\"2013-06-11T05:43:19\",\"2013-06-11T06:04:30.500000\",\"2013-07-05T04:12:48\",\"2013-07-05T04:29:59.500000\",\"2013-07-10T04:13:51\",\"2013-07-11T04:19:52.500000\",\"2013-07-12T04:08:46\",\"2014-04-02T08:17:02\",\"2014-04-02T08:25:07\",\"2014-04-02T08:41:18\",\"2014-04-02T08:55:26\",\"2014-04-02T09:03:31\",\"2014-04-02T09:03:31\",\"2014-04-02T09:13:38\",\"2014-04-02T09:23:45\",\"2014-04-02T09:34:52\",\"2014-04-02T09:48:01\",\"2014-04-02T09:59:07.500000\",\"2014-04-05T08:43:27\",\"2014-04-05T08:51:32\",\"2014-04-05T08:51:32\",\"2014-04-05T09:01:39\",\"2014-04-05T09:11:46\",\"2014-04-05T09:22:52.500000\",\"2014-04-05T09:36:01\",\"2014-04-05T09:50:10\",\"2014-04-05T10:00:17\",\"2014-05-03T06:39:17\",\"2014-05-03T06:53:26\",\"2014-05-03T07:01:31\",\"2014-05-03T07:01:31\",\"2014-05-03T07:11:37\",\"2014-05-03T07:21:44\",\"2014-05-03T07:31:51\",\"2014-05-25T05:49:40\",\"2014-05-25T05:55:43\",\"2014-05-25T06:06:51\",\"2014-05-25T06:18:59.500000\",\"2014-05-25T06:33:08.500000\",\"2014-05-25T06:50:21\",\"2014-05-25T07:12:35\",\"2014-05-29T06:21:25\",\"2014-05-29T06:34:33\",\"2014-05-29T06:56:48\",\"2014-05-30T04:53:16\",\"2014-05-30T05:07:26\",\"2014-05-30T05:15:31\",\"2014-05-30T05:15:31\",\"2014-05-30T05:25:38\",\"2014-05-30T05:35:44\",\"2014-05-30T05:46:50.500000\",\"2014-05-30T05:59:57\",\"2014-05-30T06:14:06\",\"2014-05-30T06:30:17\",\"2014-05-30T06:53:31.500000\",\"2014-06-26T04:17:29.500000\",\"2014-06-26T04:27:35.500000\",\"2014-06-26T04:44:47\",\"2015-03-26T09:52:49\",\"2015-03-26T10:02:57\",\"2015-03-26T10:16:08\",\"2015-04-23T07:50:35\",\"2015-04-23T08:01:42\",\"2015-04-23T08:13:50.500000\",\"2015-04-23T08:25:58.500000\",\"2015-04-23T08:40:08.500000\",\"2015-04-23T08:57:20\",\"2015-04-23T09:15:32\",\"2015-05-21T05:30:16\",\"2015-05-21T05:44:26\",\"2015-05-21T05:51:30.500000\",\"2015-05-21T05:51:30.500000\",\"2015-05-21T06:00:37\",\"2015-05-21T06:11:44\",\"2015-05-21T06:23:52\",\"2015-05-21T06:36:00\",\"2015-05-21T06:50:09.500000\",\"2015-05-21T07:05:19\",\"2015-05-22T05:42:27\",\"2015-05-22T05:47:30.500000\",\"2015-05-22T05:47:30.500000\",\"2015-05-22T05:56:36\",\"2015-05-22T06:07:43.500000\",\"2015-05-22T06:19:51.500000\",\"2015-05-22T06:32:00.500000\",\"2015-05-22T06:46:09.500000\",\"2015-05-22T07:03:21\",\"2015-05-22T07:25:35.500000\",\"2015-06-16T04:57:06\",\"2015-06-16T05:08:14\",\"2015-06-16T05:25:29\",\"2015-06-16T05:46:44.500000\",\"2015-06-19T04:57:01.500000\",\"2015-06-19T05:13:12.500000\",\"2015-06-19T05:35:28\",\"2016-03-18T09:50:28\",\"2016-03-18T09:59:34\",\"2016-03-18T09:59:34\",\"2016-03-18T10:09:40\",\"2016-03-18T10:20:47.500000\",\"2016-03-18T10:31:55\",\"2016-04-09T07:49:02\",\"2016-04-09T07:57:07\",\"2016-04-09T08:13:18\",\"2016-04-09T08:25:26\",\"2016-04-09T08:33:31\",\"2016-04-09T08:33:31\",\"2016-04-09T08:42:37.500000\",\"2016-04-11T08:37:39\",\"2016-04-11T08:45:44\",\"2016-04-11T08:56:51\",\"2016-04-11T09:10:00\",\"2016-04-11T09:18:05\",\"2016-04-12T08:15:27\",\"2016-04-12T08:21:31\",\"2016-04-12T08:21:31\",\"2016-04-12T08:31:37\",\"2016-04-12T08:41:44\",\"2016-04-12T08:52:51.500000\",\"2016-04-12T09:06:01\",\"2016-04-12T09:20:11\",\"2016-04-12T09:32:19\",\"2016-05-04T06:35:15\",\"2016-05-04T06:47:23\",\"2016-05-04T06:55:28\",\"2016-05-04T06:55:28\",\"2016-05-04T07:05:35\",\"2016-05-04T07:15:41\",\"2016-05-04T07:26:48.500000\",\"2016-05-04T07:39:57\",\"2016-05-04T07:54:06\",\"2016-05-04T08:11:18\",\"2016-05-04T08:33:33\",\"2016-05-05T07:04:37.500000\",\"2016-05-05T07:11:43\",\"2016-05-05T07:22:50.500000\",\"2016-05-05T07:35:59\",\"2016-05-05T07:50:09\",\"2016-05-05T08:07:19.500000\",\"2016-05-05T08:29:34.500000\",\"2016-06-02T04:55:24\",\"2016-06-02T05:01:28\",\"2016-06-02T05:01:28\",\"2016-06-02T05:11:35\",\"2016-06-02T05:21:42\",\"2016-06-02T05:32:50.500000\",\"2016-06-02T05:46:01\",\"2016-06-02T06:00:11\",\"2016-06-02T06:17:22.500000\",\"2016-06-02T06:39:37.500000\",\"2016-06-08T05:21:59\",\"2016-06-08T05:36:10\",\"2016-06-08T05:53:22\",\"2016-06-08T06:15:36.500000\",\"2017-06-21T04:13:11\",\"2017-06-21T04:20:15.500000\",\"2017-06-21T04:32:24.500000\",\"2017-06-21T04:46:33.500000\",\"2017-06-21T05:03:45\",\"2017-06-21T05:23:02\",\"2017-06-27T04:12:49.500000\",\"2017-06-27T04:22:56\",\"2017-06-27T04:40:07\",\"2017-06-27T05:01:21.500000\",\"2018-07-09T04:17:58\",\"2018-07-11T04:12:55\",\"2019-04-03T09:37:42\",\"2019-04-03T09:44:45.500000\",\"2019-04-03T09:58:51.500000\",\"2019-05-04T06:52:22\",\"2019-05-04T06:58:26\",\"2019-05-04T06:58:26\",\"2019-05-04T07:08:31\",\"2019-05-04T07:18:36\",\"2019-05-04T07:29:41.500000\",\"2019-05-04T07:42:48\",\"2019-05-04T07:56:54\",\"2019-05-04T08:09:00\",\"2019-06-07T05:19:43\",\"2019-06-07T05:28:47.500000\",\"2019-06-07T05:42:54.500000\",\"2019-06-07T06:00:03\",\"2019-06-07T06:22:15\",\"2020-03-04T10:10:03\",\"2020-03-04T10:18:07\",\"2020-03-04T10:34:17\",\"2020-03-04T10:45:23\",\"2020-03-04T10:54:28\",\"2020-03-04T10:54:28\",\"2020-03-04T11:01:32.500000\",\"2020-03-30T09:58:53\",\"2020-03-30T10:08:59\",\"2020-03-31T09:12:29\",\"2020-03-31T09:12:29\",\"2020-03-31T09:18:33\",\"2020-03-31T09:29:38.500000\",\"2020-03-31T09:40:45\",\"2020-03-31T09:52:52\",\"2020-03-31T10:05:59.500000\",\"2020-04-20T07:59:33\",\"2020-04-20T08:10:39\",\"2020-04-20T08:22:46.500000\",\"2020-04-20T08:34:53.500000\",\"2020-04-20T08:49:01.500000\",\"2020-04-20T09:06:11\",\"2020-04-20T09:22:21\",\"2020-04-21T07:09:05\",\"2020-04-21T07:25:15\",\"2020-04-21T07:39:23\",\"2020-04-21T07:46:26.500000\",\"2020-04-21T07:46:26.500000\",\"2020-04-21T07:55:32\",\"2020-04-21T08:06:38.500000\",\"2020-04-21T08:18:45.500000\",\"2020-04-21T08:30:52.500000\",\"2020-04-21T08:45:01.500000\",\"2020-04-21T09:02:11\",\"2020-04-21T09:19:21.500000\",\"2020-04-30T07:14:28.500000\",\"2020-04-30T07:14:28.500000\",\"2020-04-30T07:21:33\",\"2020-04-30T07:31:39\",\"2020-04-30T07:42:45.500000\",\"2020-04-30T07:54:52.500000\",\"2020-04-30T08:09:00.500000\",\"2020-04-30T08:26:11\",\"2020-04-30T08:44:21\",\"2020-06-17T04:13:34\",\"2020-06-17T04:22:39\",\"2020-06-17T04:33:46.500000\",\"2020-06-17T04:46:54\",\"2020-06-17T05:01:02\",\"2020-06-17T05:18:08.500000\",\"2020-06-17T05:40:21\",\"2020-06-18T04:11:38\",\"2020-06-18T04:18:41.500000\",\"2020-06-18T04:30:49\",\"2020-06-18T04:42:56\",\"2020-06-18T04:57:04.500000\",\"2020-06-18T05:14:11\",\"2020-06-18T05:36:24\",\"2020-06-25T04:15:45\",\"2020-06-25T04:28:52.500000\",\"2020-06-25T04:46:03\",\"2020-06-25T05:08:13.500000\",\"2020-07-16T03:58:39\",\"2021-03-12T10:04:16\",\"2021-03-12T10:16:23\",\"2021-03-12T10:24:28\",\"2021-03-12T10:24:28\",\"2021-03-12T10:34:33\",\"2021-03-12T10:44:39\",\"2021-03-13T10:14:23\",\"2021-03-13T10:20:26\",\"2021-03-13T10:20:26\",\"2021-03-13T10:30:32\",\"2021-03-13T10:40:38\",\"2021-03-13T10:46:42\",\"2021-03-20T09:47:24.500000\",\"2021-03-20T09:53:28\",\"2021-03-20T09:53:28\",\"2021-03-20T10:02:34\",\"2021-03-20T10:13:40.500000\",\"2021-03-20T10:25:48\",\"2021-03-20T10:32:52\",\"2021-06-06T04:59:36\",\"2021-06-06T05:06:40.500000\",\"2021-06-06T05:18:47.500000\",\"2021-06-06T05:30:54.500000\",\"2021-06-06T05:45:03.500000\",\"2021-06-06T06:02:13\",\"2021-06-06T06:24:25.500000\",\"2021-06-09T04:29:36\",\"2021-06-09T04:34:39.500000\",\"2021-06-09T04:34:39.500000\",\"2021-06-09T04:43:45\",\"2021-06-09T04:54:51.500000\",\"2021-06-09T05:06:56.500000\",\"2021-06-09T05:19:02.500000\",\"2021-06-09T05:33:10.500000\",\"2021-06-09T05:50:21\",\"2021-06-09T06:12:34\",\"2021-06-13T04:12:23\",\"2021-06-13T04:18:27\",\"2021-06-13T04:18:27\",\"2021-06-13T04:28:33\",\"2021-06-13T04:39:38.500000\",\"2021-06-13T04:50:45\",\"2021-06-13T05:02:52\",\"2021-06-13T05:18:00.500000\",\"2021-06-13T05:35:10\",\"2021-06-13T05:56:22\",\"2021-07-12T04:08:44\"],\"xaxis\":\"x\",\"y\":[2216.88,2183.07,2370.09,2126.3,2021.505,1950.64,1835.4,1724.81,1649.705,2608.5,2474.21,2384.285,2242.17,2019.09,1973.31,1957.22,2253.775,2246.37,2017.01,1952.39,1805.56,1750.23,1743.595,2343.19,2306.285,2103.59,2797.435,2710.545,2570.2,2414.51,2203.565,2008.5,2009.17,1923.47,1854.96,1655.0549999999998,1564.88,2853.61,6933.05,6869.51,6505.185,5947.06,5947.06,5429.1,5182.360000000001,4883.69,4434.47,4253.57,4144.14,4144.14,3957.84,3905.3,3866.45,3780.78,5385.79,4899.01,4705.185,4705.185,4538.06,4486.73,4252.92,4108.965,4120.685,3941.56,3646.57,3281.2,3075.69,2903.87,2780.85,2769.255,2643.45,2643.45,2552.31,2389.945,2262.8,2097.76,2071.945,2027.41,1889.17,2143.5600000000004,2087.02,3296.175,3070.72,2632.825,2552.3500000000004,3673.83,3448.28,3448.28,3297.94,3014.73,3080.57,2899.12,2720.02,2562.8,2438.605,3017.89,2720.2,1711.115,3515.67,3451.04,10504.91,9693.38,8573.01,7719.5,6738.59,6738.59,6442.79,6208.64,5362.08,4572.65,4302.055,5938.66,5459.65,5459.65,5116.72,4781.33,4263.879999999999,4166.06,3813.95,3847.69,3237.38,2878.96,2655.54,2655.54,2439.92,2216.8,2047.64,2939.17,2830.92,2539.88,2375.83,2272.085,2157.45,2122.885,1962.915,1940.62,1861.96,4060.84,3600.12,3530.39,3530.39,3102.56,2816.98,2729.465,2573.63,2407.79,2352.67,2440.15,2485.075,2412.25,2262.61,3448.53,3336.4,3114.82,2140.2,2059.0550000000003,2009.5,1904.27,1788.795,1702.81,1657.59,3857.68,3444.02,3423.2250000000004,3423.2250000000004,3155.11,2931.8900000000003,2692.28,2531.395,2474.885,2281.38,2973.7,2941.885,2941.885,2746.06,2579.8450000000003,2440.94,2337.1400000000003,2202.54,2062.36,1729.255,2189.1,2042.8,1888.46,1802.595,2102.685,1968.87,1785.4299999999998,2695.985,2525.99,2525.99,2466.29,2358.69,2279.12,3096.02,2915.81,2591.21,2395.55,2272.37,2272.37,2198.02,2500.55,2400.8,2342.645,2148.27,2077.62,2454.09,2384.81,2384.81,2232.52,2126.3,1974.785,1901.16,1816.84,1772.92,2308.2,2079.05,1993.18,1993.18,1933.48,1834.71,1742.495,1669.87,1604.57,1571.525,1479.69,1763.12,1735.08,1646.89,1592.63,1483.85,1316.49,1252.79,2196.8,2127.68,2127.68,2087.67,1983.56,1899.095,1815.24,1724.62,1624.0700000000002,1537.325,1949.09,1867.24,1769.86,1720.73,2078.87,2086.105,1982.5,1840.835,1794.95,1714.24,1980.17,1897.285,1791.27,1713.98,1452.88,1801.31,1704.25,1673.91,1642.33,3586.71,3429.16,3429.16,3214.86,3046.56,2957.465,2821.37,2553.21,2467.72,1999.84,1983.305,1971.15,1856.54,1782.44,3322.31,3092.08,2831.07,2680.82,2625.03,2625.03,2609.3,1629.97,1587.45,1890.91,1890.91,1818.47,1725.56,1652.06,1609.13,1573.85,2012.66,1915.78,1845.43,1763.92,1692.515,1612.14,1567.37,2246.81,2015.35,1875.66,1813.95,1813.95,1718.99,1670.62,1626.72,1566.51,1499.965,1414.35,1401.29,2179.665,2179.665,2056.97,1905.49,1799.405,1775.775,1744.04,1692.31,1633.61,2629.755,2534.31,2424.735,2227.98,2088.61,2007.155,1834.765,2449.67,2200.525,2003.405,1884.785,1779.325,1694.15,1513.945,1955.26,1907.625,1741.18,1597.875,1358.28,3707.5,3505.14,3354.55,3354.55,3160.97,2951.49,2806.91,2774.13,2774.13,2629.79,2504.35,2442.71,2397.63,2358.32,2358.32,2323.25,2213.54,2111.905,2050.47,2338.1,2273.41,2088.6850000000004,1943.86,1846.495,1729.96,1658.94,2767.25,2769.545,2769.545,2715.78,2461.27,2156.7250000000004,2072.71,1900.705,1820.81,1658.605,2098.51,2011.15,2011.15,1813.41,1773.045,1721.03,1551.23,1474.095,1357.36,1283.73,1568.52],\"yaxis\":\"y\",\"type\":\"scatter\"}],                        {\"template\":{\"data\":{\"histogram2dcontour\":[{\"type\":\"histogram2dcontour\",\"colorbar\":{\"outlinewidth\":0,\"ticks\":\"\"},\"colorscale\":[[0.0,\"#0d0887\"],[0.1111111111111111,\"#46039f\"],[0.2222222222222222,\"#7201a8\"],[0.3333333333333333,\"#9c179e\"],[0.4444444444444444,\"#bd3786\"],[0.5555555555555556,\"#d8576b\"],[0.6666666666666666,\"#ed7953\"],[0.7777777777777778,\"#fb9f3a\"],[0.8888888888888888,\"#fdca26\"],[1.0,\"#f0f921\"]]}],\"choropleth\":[{\"type\":\"choropleth\",\"colorbar\":{\"outlinewidth\":0,\"ticks\":\"\"}}],\"histogram2d\":[{\"type\":\"histogram2d\",\"colorbar\":{\"outlinewidth\":0,\"ticks\":\"\"},\"colorscale\":[[0.0,\"#0d0887\"],[0.1111111111111111,\"#46039f\"],[0.2222222222222222,\"#7201a8\"],[0.3333333333333333,\"#9c179e\"],[0.4444444444444444,\"#bd3786\"],[0.5555555555555556,\"#d8576b\"],[0.6666666666666666,\"#ed7953\"],[0.7777777777777778,\"#fb9f3a\"],[0.8888888888888888,\"#fdca26\"],[1.0,\"#f0f921\"]]}],\"heatmap\":[{\"type\":\"heatmap\",\"colorbar\":{\"outlinewidth\":0,\"ticks\":\"\"},\"colorscale\":[[0.0,\"#0d0887\"],[0.1111111111111111,\"#46039f\"],[0.2222222222222222,\"#7201a8\"],[0.3333333333333333,\"#9c179e\"],[0.4444444444444444,\"#bd3786\"],[0.5555555555555556,\"#d8576b\"],[0.6666666666666666,\"#ed7953\"],[0.7777777777777778,\"#fb9f3a\"],[0.8888888888888888,\"#fdca26\"],[1.0,\"#f0f921\"]]}],\"heatmapgl\":[{\"type\":\"heatmapgl\",\"colorbar\":{\"outlinewidth\":0,\"ticks\":\"\"},\"colorscale\":[[0.0,\"#0d0887\"],[0.1111111111111111,\"#46039f\"],[0.2222222222222222,\"#7201a8\"],[0.3333333333333333,\"#9c179e\"],[0.4444444444444444,\"#bd3786\"],[0.5555555555555556,\"#d8576b\"],[0.6666666666666666,\"#ed7953\"],[0.7777777777777778,\"#fb9f3a\"],[0.8888888888888888,\"#fdca26\"],[1.0,\"#f0f921\"]]}],\"contourcarpet\":[{\"type\":\"contourcarpet\",\"colorbar\":{\"outlinewidth\":0,\"ticks\":\"\"}}],\"contour\":[{\"type\":\"contour\",\"colorbar\":{\"outlinewidth\":0,\"ticks\":\"\"},\"colorscale\":[[0.0,\"#0d0887\"],[0.1111111111111111,\"#46039f\"],[0.2222222222222222,\"#7201a8\"],[0.3333333333333333,\"#9c179e\"],[0.4444444444444444,\"#bd3786\"],[0.5555555555555556,\"#d8576b\"],[0.6666666666666666,\"#ed7953\"],[0.7777777777777778,\"#fb9f3a\"],[0.8888888888888888,\"#fdca26\"],[1.0,\"#f0f921\"]]}],\"surface\":[{\"type\":\"surface\",\"colorbar\":{\"outlinewidth\":0,\"ticks\":\"\"},\"colorscale\":[[0.0,\"#0d0887\"],[0.1111111111111111,\"#46039f\"],[0.2222222222222222,\"#7201a8\"],[0.3333333333333333,\"#9c179e\"],[0.4444444444444444,\"#bd3786\"],[0.5555555555555556,\"#d8576b\"],[0.6666666666666666,\"#ed7953\"],[0.7777777777777778,\"#fb9f3a\"],[0.8888888888888888,\"#fdca26\"],[1.0,\"#f0f921\"]]}],\"mesh3d\":[{\"type\":\"mesh3d\",\"colorbar\":{\"outlinewidth\":0,\"ticks\":\"\"}}],\"scatter\":[{\"fillpattern\":{\"fillmode\":\"overlay\",\"size\":10,\"solidity\":0.2},\"type\":\"scatter\"}],\"parcoords\":[{\"type\":\"parcoords\",\"line\":{\"colorbar\":{\"outlinewidth\":0,\"ticks\":\"\"}}}],\"scatterpolargl\":[{\"type\":\"scatterpolargl\",\"marker\":{\"colorbar\":{\"outlinewidth\":0,\"ticks\":\"\"}}}],\"bar\":[{\"error_x\":{\"color\":\"#2a3f5f\"},\"error_y\":{\"color\":\"#2a3f5f\"},\"marker\":{\"line\":{\"color\":\"#E5ECF6\",\"width\":0.5},\"pattern\":{\"fillmode\":\"overlay\",\"size\":10,\"solidity\":0.2}},\"type\":\"bar\"}],\"scattergeo\":[{\"type\":\"scattergeo\",\"marker\":{\"colorbar\":{\"outlinewidth\":0,\"ticks\":\"\"}}}],\"scatterpolar\":[{\"type\":\"scatterpolar\",\"marker\":{\"colorbar\":{\"outlinewidth\":0,\"ticks\":\"\"}}}],\"histogram\":[{\"marker\":{\"pattern\":{\"fillmode\":\"overlay\",\"size\":10,\"solidity\":0.2}},\"type\":\"histogram\"}],\"scattergl\":[{\"type\":\"scattergl\",\"marker\":{\"colorbar\":{\"outlinewidth\":0,\"ticks\":\"\"}}}],\"scatter3d\":[{\"type\":\"scatter3d\",\"line\":{\"colorbar\":{\"outlinewidth\":0,\"ticks\":\"\"}},\"marker\":{\"colorbar\":{\"outlinewidth\":0,\"ticks\":\"\"}}}],\"scattermapbox\":[{\"type\":\"scattermapbox\",\"marker\":{\"colorbar\":{\"outlinewidth\":0,\"ticks\":\"\"}}}],\"scatterternary\":[{\"type\":\"scatterternary\",\"marker\":{\"colorbar\":{\"outlinewidth\":0,\"ticks\":\"\"}}}],\"scattercarpet\":[{\"type\":\"scattercarpet\",\"marker\":{\"colorbar\":{\"outlinewidth\":0,\"ticks\":\"\"}}}],\"carpet\":[{\"aaxis\":{\"endlinecolor\":\"#2a3f5f\",\"gridcolor\":\"white\",\"linecolor\":\"white\",\"minorgridcolor\":\"white\",\"startlinecolor\":\"#2a3f5f\"},\"baxis\":{\"endlinecolor\":\"#2a3f5f\",\"gridcolor\":\"white\",\"linecolor\":\"white\",\"minorgridcolor\":\"white\",\"startlinecolor\":\"#2a3f5f\"},\"type\":\"carpet\"}],\"table\":[{\"cells\":{\"fill\":{\"color\":\"#EBF0F8\"},\"line\":{\"color\":\"white\"}},\"header\":{\"fill\":{\"color\":\"#C8D4E3\"},\"line\":{\"color\":\"white\"}},\"type\":\"table\"}],\"barpolar\":[{\"marker\":{\"line\":{\"color\":\"#E5ECF6\",\"width\":0.5},\"pattern\":{\"fillmode\":\"overlay\",\"size\":10,\"solidity\":0.2}},\"type\":\"barpolar\"}],\"pie\":[{\"automargin\":true,\"type\":\"pie\"}]},\"layout\":{\"autotypenumbers\":\"strict\",\"colorway\":[\"#636efa\",\"#EF553B\",\"#00cc96\",\"#ab63fa\",\"#FFA15A\",\"#19d3f3\",\"#FF6692\",\"#B6E880\",\"#FF97FF\",\"#FECB52\"],\"font\":{\"color\":\"#2a3f5f\"},\"hovermode\":\"closest\",\"hoverlabel\":{\"align\":\"left\"},\"paper_bgcolor\":\"white\",\"plot_bgcolor\":\"#E5ECF6\",\"polar\":{\"bgcolor\":\"#E5ECF6\",\"angularaxis\":{\"gridcolor\":\"white\",\"linecolor\":\"white\",\"ticks\":\"\"},\"radialaxis\":{\"gridcolor\":\"white\",\"linecolor\":\"white\",\"ticks\":\"\"}},\"ternary\":{\"bgcolor\":\"#E5ECF6\",\"aaxis\":{\"gridcolor\":\"white\",\"linecolor\":\"white\",\"ticks\":\"\"},\"baxis\":{\"gridcolor\":\"white\",\"linecolor\":\"white\",\"ticks\":\"\"},\"caxis\":{\"gridcolor\":\"white\",\"linecolor\":\"white\",\"ticks\":\"\"}},\"coloraxis\":{\"colorbar\":{\"outlinewidth\":0,\"ticks\":\"\"}},\"colorscale\":{\"sequential\":[[0.0,\"#0d0887\"],[0.1111111111111111,\"#46039f\"],[0.2222222222222222,\"#7201a8\"],[0.3333333333333333,\"#9c179e\"],[0.4444444444444444,\"#bd3786\"],[0.5555555555555556,\"#d8576b\"],[0.6666666666666666,\"#ed7953\"],[0.7777777777777778,\"#fb9f3a\"],[0.8888888888888888,\"#fdca26\"],[1.0,\"#f0f921\"]],\"sequentialminus\":[[0.0,\"#0d0887\"],[0.1111111111111111,\"#46039f\"],[0.2222222222222222,\"#7201a8\"],[0.3333333333333333,\"#9c179e\"],[0.4444444444444444,\"#bd3786\"],[0.5555555555555556,\"#d8576b\"],[0.6666666666666666,\"#ed7953\"],[0.7777777777777778,\"#fb9f3a\"],[0.8888888888888888,\"#fdca26\"],[1.0,\"#f0f921\"]],\"diverging\":[[0,\"#8e0152\"],[0.1,\"#c51b7d\"],[0.2,\"#de77ae\"],[0.3,\"#f1b6da\"],[0.4,\"#fde0ef\"],[0.5,\"#f7f7f7\"],[0.6,\"#e6f5d0\"],[0.7,\"#b8e186\"],[0.8,\"#7fbc41\"],[0.9,\"#4d9221\"],[1,\"#276419\"]]},\"xaxis\":{\"gridcolor\":\"white\",\"linecolor\":\"white\",\"ticks\":\"\",\"title\":{\"standoff\":15},\"zerolinecolor\":\"white\",\"automargin\":true,\"zerolinewidth\":2},\"yaxis\":{\"gridcolor\":\"white\",\"linecolor\":\"white\",\"ticks\":\"\",\"title\":{\"standoff\":15},\"zerolinecolor\":\"white\",\"automargin\":true,\"zerolinewidth\":2},\"scene\":{\"xaxis\":{\"backgroundcolor\":\"#E5ECF6\",\"gridcolor\":\"white\",\"linecolor\":\"white\",\"showbackground\":true,\"ticks\":\"\",\"zerolinecolor\":\"white\",\"gridwidth\":2},\"yaxis\":{\"backgroundcolor\":\"#E5ECF6\",\"gridcolor\":\"white\",\"linecolor\":\"white\",\"showbackground\":true,\"ticks\":\"\",\"zerolinecolor\":\"white\",\"gridwidth\":2},\"zaxis\":{\"backgroundcolor\":\"#E5ECF6\",\"gridcolor\":\"white\",\"linecolor\":\"white\",\"showbackground\":true,\"ticks\":\"\",\"zerolinecolor\":\"white\",\"gridwidth\":2}},\"shapedefaults\":{\"line\":{\"color\":\"#2a3f5f\"}},\"annotationdefaults\":{\"arrowcolor\":\"#2a3f5f\",\"arrowhead\":0,\"arrowwidth\":1},\"geo\":{\"bgcolor\":\"white\",\"landcolor\":\"#E5ECF6\",\"subunitcolor\":\"white\",\"showland\":true,\"showlakes\":true,\"lakecolor\":\"white\"},\"title\":{\"x\":0.05},\"mapbox\":{\"style\":\"light\"}}},\"xaxis\":{\"anchor\":\"y\",\"domain\":[0.0,1.0],\"title\":{\"text\":\"date\"}},\"yaxis\":{\"anchor\":\"x\",\"domain\":[0.0,1.0],\"title\":{\"text\":\"median_sky_bg\"}},\"legend\":{\"tracegroupgap\":0},\"margin\":{\"t\":60}},                        {\"responsive\": true}                    ).then(function(){\n",
       "                            \n",
       "var gd = document.getElementById('26edc829-8c05-4825-ba68-0079cc31ff4c');\n",
       "var x = new MutationObserver(function (mutations, observer) {{\n",
       "        var display = window.getComputedStyle(gd).display;\n",
       "        if (!display || display === 'none') {{\n",
       "            console.log([gd, 'removed!']);\n",
       "            Plotly.purge(gd);\n",
       "            observer.disconnect();\n",
       "        }}\n",
       "}});\n",
       "\n",
       "// Listen for the removal of the full notebook cells\n",
       "var notebookContainer = gd.closest('#notebook-container');\n",
       "if (notebookContainer) {{\n",
       "    x.observe(notebookContainer, {childList: true});\n",
       "}}\n",
       "\n",
       "// Listen for the clearing of the current output cell\n",
       "var outputEl = gd.closest('.output');\n",
       "if (outputEl) {{\n",
       "    x.observe(outputEl, {childList: true});\n",
       "}}\n",
       "\n",
       "                        })                };                });            </script>        </div>"
      ]
     },
     "metadata": {},
     "output_type": "display_data"
    }
   ],
   "source": [
    "px.scatter(df_inc, x=\"date\", y=\"median_sky_bg\", hover_data=[\"median_moon_distance\", \"median_moon_phase\"])"
   ]
  },
  {
   "cell_type": "code",
   "execution_count": 89,
   "id": "eae3e519",
   "metadata": {},
   "outputs": [
    {
     "data": {
      "text/plain": [
       "array([[<Axes: title={'center': 'median_sky_bg'}>]], dtype=object)"
      ]
     },
     "execution_count": 89,
     "metadata": {},
     "output_type": "execute_result"
    },
    {
     "data": {
      "image/png": "[encoded data removed]",
      "text/plain": [
       "<Figure size 640x480 with 1 Axes>"
      ]
     },
     "metadata": {},
     "output_type": "display_data"
    }
   ],
   "source": [
    "df_inc[[\"median_sky_bg\"]].hist()"
   ]
  },
  {
   "cell_type": "code",
   "execution_count": 97,
   "id": "c96e9567",
   "metadata": {},
   "outputs": [],
   "source": [
    "standard_dev_inc = df_inc[[\"night_date\", \"median_sky_bg\"]].groupby(\"night_date\").std()\n",
    "standard_dev_dec = df_dec[[\"night_date\", \"median_sky_bg\"]].groupby(\"night_date\").std()"
   ]
  },
  {
   "cell_type": "code",
   "execution_count": 98,
   "id": "6112e13a",
   "metadata": {},
   "outputs": [
    {
     "data": {
      "text/html": [
       "<div>\n",
       "<style scoped>\n",
       "    .dataframe tbody tr th:only-of-type {\n",
       "        vertical-align: middle;\n",
       "    }\n",
       "\n",
       "    .dataframe tbody tr th {\n",
       "        vertical-align: top;\n",
       "    }\n",
       "\n",
       "    .dataframe thead th {\n",
       "        text-align: right;\n",
       "    }\n",
       "</style>\n",
       "<table border=\"1\" class=\"dataframe\">\n",
       "  <thead>\n",
       "    <tr style=\"text-align: right;\">\n",
       "      <th></th>\n",
       "      <th>median_sky_bg</th>\n",
       "    </tr>\n",
       "  </thead>\n",
       "  <tbody>\n",
       "    <tr>\n",
       "      <th>count</th>\n",
       "      <td>57.000000</td>\n",
       "    </tr>\n",
       "    <tr>\n",
       "      <th>mean</th>\n",
       "      <td>286.104162</td>\n",
       "    </tr>\n",
       "    <tr>\n",
       "      <th>std</th>\n",
       "      <td>277.492536</td>\n",
       "    </tr>\n",
       "    <tr>\n",
       "      <th>min</th>\n",
       "      <td>23.907280</td>\n",
       "    </tr>\n",
       "    <tr>\n",
       "      <th>25%</th>\n",
       "      <td>155.495466</td>\n",
       "    </tr>\n",
       "    <tr>\n",
       "      <th>50%</th>\n",
       "      <td>230.470892</td>\n",
       "    </tr>\n",
       "    <tr>\n",
       "      <th>75%</th>\n",
       "      <td>343.420485</td>\n",
       "    </tr>\n",
       "    <tr>\n",
       "      <th>max</th>\n",
       "      <td>1986.352734</td>\n",
       "    </tr>\n",
       "  </tbody>\n",
       "</table>\n",
       "</div>"
      ],
      "text/plain": [
       "       median_sky_bg\n",
       "count      57.000000\n",
       "mean      286.104162\n",
       "std       277.492536\n",
       "min        23.907280\n",
       "25%       155.495466\n",
       "50%       230.470892\n",
       "75%       343.420485\n",
       "max      1986.352734"
      ]
     },
     "execution_count": 98,
     "metadata": {},
     "output_type": "execute_result"
    }
   ],
   "source": [
    "standard_dev_inc.describe()"
   ]
  },
  {
   "cell_type": "code",
   "execution_count": 99,
   "id": "9e3df02c",
   "metadata": {},
   "outputs": [
    {
     "data": {
      "text/html": [
       "<div>\n",
       "<style scoped>\n",
       "    .dataframe tbody tr th:only-of-type {\n",
       "        vertical-align: middle;\n",
       "    }\n",
       "\n",
       "    .dataframe tbody tr th {\n",
       "        vertical-align: top;\n",
       "    }\n",
       "\n",
       "    .dataframe thead th {\n",
       "        text-align: right;\n",
       "    }\n",
       "</style>\n",
       "<table border=\"1\" class=\"dataframe\">\n",
       "  <thead>\n",
       "    <tr style=\"text-align: right;\">\n",
       "      <th></th>\n",
       "      <th>median_sky_bg</th>\n",
       "    </tr>\n",
       "  </thead>\n",
       "  <tbody>\n",
       "    <tr>\n",
       "      <th>count</th>\n",
       "      <td>91.000000</td>\n",
       "    </tr>\n",
       "    <tr>\n",
       "      <th>mean</th>\n",
       "      <td>129.857600</td>\n",
       "    </tr>\n",
       "    <tr>\n",
       "      <th>std</th>\n",
       "      <td>176.891286</td>\n",
       "    </tr>\n",
       "    <tr>\n",
       "      <th>min</th>\n",
       "      <td>0.738927</td>\n",
       "    </tr>\n",
       "    <tr>\n",
       "      <th>25%</th>\n",
       "      <td>45.187104</td>\n",
       "    </tr>\n",
       "    <tr>\n",
       "      <th>50%</th>\n",
       "      <td>69.226022</td>\n",
       "    </tr>\n",
       "    <tr>\n",
       "      <th>75%</th>\n",
       "      <td>133.045242</td>\n",
       "    </tr>\n",
       "    <tr>\n",
       "      <th>max</th>\n",
       "      <td>1047.866939</td>\n",
       "    </tr>\n",
       "  </tbody>\n",
       "</table>\n",
       "</div>"
      ],
      "text/plain": [
       "       median_sky_bg\n",
       "count      91.000000\n",
       "mean      129.857600\n",
       "std       176.891286\n",
       "min         0.738927\n",
       "25%        45.187104\n",
       "50%        69.226022\n",
       "75%       133.045242\n",
       "max      1047.866939"
      ]
     },
     "execution_count": 99,
     "metadata": {},
     "output_type": "execute_result"
    }
   ],
   "source": [
    "standard_dev_dec.describe()"
   ]
  },
  {
   "cell_type": "code",
   "execution_count": 103,
   "id": "5a8edaa4",
   "metadata": {},
   "outputs": [],
   "source": [
    "# Looking into town the sky ADU within the night has median standard \n",
    "# deviation of 230 ADUs while median standard deviation looking away\n",
    "# from town is 69\n",
    "# This probably suggests that it's the lights in town that drive it"
   ]
  },
  {
   "cell_type": "code",
   "execution_count": 114,
   "id": "846a0bb5",
   "metadata": {},
   "outputs": [
    {
     "data": {
      "application/vnd.plotly.v1+json": {
       "config": {
        "plotlyServerURL": "https://plot.ly"
       },
       "data": [
        {
         "customdata": [
          [
           "2012-04-22T00:00:00"
          ],
          [
           "2012-05-17T00:00:00"
          ],
          [
           "2012-05-20T00:00:00"
          ],
          [
           "2012-05-21T00:00:00"
          ],
          [
           "2012-05-24T00:00:00"
          ],
          [
           "2012-06-16T00:00:00"
          ],
          [
           "2012-06-19T00:00:00"
          ],
          [
           "2012-06-19T00:00:00"
          ],
          [
           "2012-06-19T00:00:00"
          ],
          [
           "2012-06-21T00:00:00"
          ],
          [
           "2012-06-21T00:00:00"
          ],
          [
           "2012-06-21T00:00:00"
          ],
          [
           "2012-06-21T00:00:00"
          ],
          [
           "2012-06-21T00:00:00"
          ],
          [
           "2012-06-21T00:00:00"
          ],
          [
           "2012-07-14T00:00:00"
          ],
          [
           "2012-07-16T00:00:00"
          ],
          [
           "2012-07-16T00:00:00"
          ],
          [
           "2012-07-16T00:00:00"
          ],
          [
           "2012-07-16T00:00:00"
          ],
          [
           "2012-07-16T00:00:00"
          ],
          [
           "2012-07-16T00:00:00"
          ],
          [
           "2012-07-16T00:00:00"
          ],
          [
           "2012-07-16T00:00:00"
          ],
          [
           "2012-07-16T00:00:00"
          ],
          [
           "2012-07-19T00:00:00"
          ],
          [
           "2012-07-19T00:00:00"
          ],
          [
           "2012-07-19T00:00:00"
          ],
          [
           "2012-07-19T00:00:00"
          ],
          [
           "2012-07-19T00:00:00"
          ],
          [
           "2012-07-19T00:00:00"
          ],
          [
           "2012-07-19T00:00:00"
          ],
          [
           "2012-07-19T00:00:00"
          ],
          [
           "2012-07-19T00:00:00"
          ],
          [
           "2012-08-10T00:00:00"
          ],
          [
           "2012-08-10T00:00:00"
          ],
          [
           "2012-08-10T00:00:00"
          ],
          [
           "2012-08-10T00:00:00"
          ],
          [
           "2012-08-10T00:00:00"
          ],
          [
           "2012-08-17T00:00:00"
          ],
          [
           "2012-08-17T00:00:00"
          ],
          [
           "2012-08-17T00:00:00"
          ],
          [
           "2012-08-17T00:00:00"
          ],
          [
           "2012-08-17T00:00:00"
          ],
          [
           "2012-08-19T00:00:00"
          ],
          [
           "2012-08-19T00:00:00"
          ],
          [
           "2012-08-19T00:00:00"
          ],
          [
           "2012-08-19T00:00:00"
          ],
          [
           "2012-08-19T00:00:00"
          ],
          [
           "2012-08-19T00:00:00"
          ],
          [
           "2012-08-19T00:00:00"
          ],
          [
           "2012-09-07T00:00:00"
          ],
          [
           "2012-09-07T00:00:00"
          ],
          [
           "2012-09-07T00:00:00"
          ],
          [
           "2012-09-07T00:00:00"
          ],
          [
           "2012-09-09T00:00:00"
          ],
          [
           "2012-09-09T00:00:00"
          ],
          [
           "2012-09-09T00:00:00"
          ],
          [
           "2012-09-09T00:00:00"
          ],
          [
           "2012-09-09T00:00:00"
          ],
          [
           "2012-09-09T00:00:00"
          ],
          [
           "2012-09-09T00:00:00"
          ],
          [
           "2013-03-12T00:00:00"
          ],
          [
           "2013-03-12T00:00:00"
          ],
          [
           "2013-03-12T00:00:00"
          ],
          [
           "2013-03-12T00:00:00"
          ],
          [
           "2013-03-19T00:00:00"
          ],
          [
           "2013-03-19T00:00:00"
          ],
          [
           "2013-03-19T00:00:00"
          ],
          [
           "2013-03-19T00:00:00"
          ],
          [
           "2013-03-20T00:00:00"
          ],
          [
           "2013-03-20T00:00:00"
          ],
          [
           "2013-05-07T00:00:00"
          ],
          [
           "2013-05-11T00:00:00"
          ],
          [
           "2013-05-11T00:00:00"
          ],
          [
           "2013-05-11T00:00:00"
          ],
          [
           "2013-05-12T00:00:00"
          ],
          [
           "2013-05-14T00:00:00"
          ],
          [
           "2013-06-10T00:00:00"
          ],
          [
           "2013-06-10T00:00:00"
          ],
          [
           "2013-06-10T00:00:00"
          ],
          [
           "2013-07-04T00:00:00"
          ],
          [
           "2013-07-04T00:00:00"
          ],
          [
           "2013-07-04T00:00:00"
          ],
          [
           "2013-07-04T00:00:00"
          ],
          [
           "2013-07-04T00:00:00"
          ],
          [
           "2013-07-04T00:00:00"
          ],
          [
           "2013-07-04T00:00:00"
          ],
          [
           "2013-07-04T00:00:00"
          ],
          [
           "2013-07-04T00:00:00"
          ],
          [
           "2013-07-09T00:00:00"
          ],
          [
           "2013-07-10T00:00:00"
          ],
          [
           "2013-07-10T00:00:00"
          ],
          [
           "2013-07-10T00:00:00"
          ],
          [
           "2013-07-10T00:00:00"
          ],
          [
           "2013-07-10T00:00:00"
          ],
          [
           "2013-07-10T00:00:00"
          ],
          [
           "2013-07-10T00:00:00"
          ],
          [
           "2013-07-11T00:00:00"
          ],
          [
           "2013-07-11T00:00:00"
          ],
          [
           "2013-07-11T00:00:00"
          ],
          [
           "2013-07-11T00:00:00"
          ],
          [
           "2013-07-11T00:00:00"
          ],
          [
           "2013-07-11T00:00:00"
          ],
          [
           "2013-07-31T00:00:00"
          ],
          [
           "2013-07-31T00:00:00"
          ],
          [
           "2013-07-31T00:00:00"
          ],
          [
           "2013-07-31T00:00:00"
          ],
          [
           "2013-07-31T00:00:00"
          ],
          [
           "2013-07-31T00:00:00"
          ],
          [
           "2013-07-31T00:00:00"
          ],
          [
           "2013-07-31T00:00:00"
          ],
          [
           "2013-07-31T00:00:00"
          ],
          [
           "2013-08-03T00:00:00"
          ],
          [
           "2013-08-03T00:00:00"
          ],
          [
           "2013-08-03T00:00:00"
          ],
          [
           "2013-08-03T00:00:00"
          ],
          [
           "2013-08-03T00:00:00"
          ],
          [
           "2013-08-03T00:00:00"
          ],
          [
           "2013-08-27T00:00:00"
          ],
          [
           "2013-08-27T00:00:00"
          ],
          [
           "2013-08-27T00:00:00"
          ],
          [
           "2013-08-27T00:00:00"
          ],
          [
           "2013-08-27T00:00:00"
          ],
          [
           "2013-08-27T00:00:00"
          ],
          [
           "2013-08-27T00:00:00"
          ],
          [
           "2013-08-27T00:00:00"
          ],
          [
           "2013-08-29T00:00:00"
          ],
          [
           "2013-08-29T00:00:00"
          ],
          [
           "2013-08-29T00:00:00"
          ],
          [
           "2013-08-29T00:00:00"
          ],
          [
           "2013-09-01T00:00:00"
          ],
          [
           "2013-09-01T00:00:00"
          ],
          [
           "2013-09-01T00:00:00"
          ],
          [
           "2013-09-01T00:00:00"
          ],
          [
           "2013-09-01T00:00:00"
          ],
          [
           "2013-09-01T00:00:00"
          ],
          [
           "2013-09-05T00:00:00"
          ],
          [
           "2013-09-05T00:00:00"
          ],
          [
           "2013-09-05T00:00:00"
          ],
          [
           "2013-09-05T00:00:00"
          ],
          [
           "2013-09-05T00:00:00"
          ],
          [
           "2013-09-05T00:00:00"
          ],
          [
           "2013-09-05T00:00:00"
          ],
          [
           "2013-09-05T00:00:00"
          ],
          [
           "2013-09-25T00:00:00"
          ],
          [
           "2013-09-25T00:00:00"
          ],
          [
           "2013-09-25T00:00:00"
          ],
          [
           "2013-09-25T00:00:00"
          ],
          [
           "2013-09-25T00:00:00"
          ],
          [
           "2013-09-26T00:00:00"
          ],
          [
           "2013-09-26T00:00:00"
          ],
          [
           "2013-09-26T00:00:00"
          ],
          [
           "2014-04-01T00:00:00"
          ],
          [
           "2014-04-01T00:00:00"
          ],
          [
           "2014-04-01T00:00:00"
          ],
          [
           "2014-04-01T00:00:00"
          ],
          [
           "2014-04-04T00:00:00"
          ],
          [
           "2014-04-04T00:00:00"
          ],
          [
           "2014-05-02T00:00:00"
          ],
          [
           "2014-05-02T00:00:00"
          ],
          [
           "2014-05-24T00:00:00"
          ],
          [
           "2014-05-28T00:00:00"
          ],
          [
           "2014-05-29T00:00:00"
          ],
          [
           "2014-05-29T00:00:00"
          ],
          [
           "2014-05-29T00:00:00"
          ],
          [
           "2014-05-29T00:00:00"
          ],
          [
           "2014-07-22T00:00:00"
          ],
          [
           "2014-07-22T00:00:00"
          ],
          [
           "2014-07-22T00:00:00"
          ],
          [
           "2014-07-22T00:00:00"
          ],
          [
           "2014-07-22T00:00:00"
          ],
          [
           "2014-07-22T00:00:00"
          ],
          [
           "2014-07-22T00:00:00"
          ],
          [
           "2014-07-23T00:00:00"
          ],
          [
           "2014-07-23T00:00:00"
          ],
          [
           "2014-07-23T00:00:00"
          ],
          [
           "2014-07-23T00:00:00"
          ],
          [
           "2014-07-23T00:00:00"
          ],
          [
           "2014-07-23T00:00:00"
          ],
          [
           "2014-07-23T00:00:00"
          ],
          [
           "2014-07-23T00:00:00"
          ],
          [
           "2014-07-23T00:00:00"
          ],
          [
           "2014-07-27T00:00:00"
          ],
          [
           "2014-07-27T00:00:00"
          ],
          [
           "2014-07-27T00:00:00"
          ],
          [
           "2014-07-27T00:00:00"
          ],
          [
           "2014-07-27T00:00:00"
          ],
          [
           "2014-09-13T00:00:00"
          ],
          [
           "2014-09-13T00:00:00"
          ],
          [
           "2014-09-13T00:00:00"
          ],
          [
           "2014-09-13T00:00:00"
          ],
          [
           "2014-09-15T00:00:00"
          ],
          [
           "2014-09-15T00:00:00"
          ],
          [
           "2014-09-15T00:00:00"
          ],
          [
           "2014-09-15T00:00:00"
          ],
          [
           "2014-09-15T00:00:00"
          ],
          [
           "2014-09-15T00:00:00"
          ],
          [
           "2014-09-16T00:00:00"
          ],
          [
           "2014-09-17T00:00:00"
          ],
          [
           "2014-09-17T00:00:00"
          ],
          [
           "2014-09-17T00:00:00"
          ],
          [
           "2014-09-17T00:00:00"
          ],
          [
           "2014-09-17T00:00:00"
          ],
          [
           "2014-09-17T00:00:00"
          ],
          [
           "2014-09-21T00:00:00"
          ],
          [
           "2014-09-21T00:00:00"
          ],
          [
           "2015-04-22T00:00:00"
          ],
          [
           "2015-05-20T00:00:00"
          ],
          [
           "2015-05-20T00:00:00"
          ],
          [
           "2015-05-21T00:00:00"
          ],
          [
           "2015-06-15T00:00:00"
          ],
          [
           "2015-06-15T00:00:00"
          ],
          [
           "2015-06-15T00:00:00"
          ],
          [
           "2015-06-15T00:00:00"
          ],
          [
           "2015-06-18T00:00:00"
          ],
          [
           "2015-06-18T00:00:00"
          ],
          [
           "2015-06-18T00:00:00"
          ],
          [
           "2015-06-18T00:00:00"
          ],
          [
           "2015-06-18T00:00:00"
          ],
          [
           "2015-07-14T00:00:00"
          ],
          [
           "2015-07-14T00:00:00"
          ],
          [
           "2015-07-14T00:00:00"
          ],
          [
           "2015-07-14T00:00:00"
          ],
          [
           "2015-07-14T00:00:00"
          ],
          [
           "2015-07-14T00:00:00"
          ],
          [
           "2015-07-14T00:00:00"
          ],
          [
           "2015-08-10T00:00:00"
          ],
          [
           "2015-08-10T00:00:00"
          ],
          [
           "2015-08-10T00:00:00"
          ],
          [
           "2015-08-10T00:00:00"
          ],
          [
           "2015-08-10T00:00:00"
          ],
          [
           "2015-08-10T00:00:00"
          ],
          [
           "2015-08-10T00:00:00"
          ],
          [
           "2015-08-10T00:00:00"
          ],
          [
           "2015-08-10T00:00:00"
          ],
          [
           "2015-08-11T00:00:00"
          ],
          [
           "2015-08-11T00:00:00"
          ],
          [
           "2015-08-11T00:00:00"
          ],
          [
           "2015-08-11T00:00:00"
          ],
          [
           "2015-08-14T00:00:00"
          ],
          [
           "2015-08-14T00:00:00"
          ],
          [
           "2015-08-15T00:00:00"
          ],
          [
           "2015-09-12T00:00:00"
          ],
          [
           "2015-09-12T00:00:00"
          ],
          [
           "2015-09-12T00:00:00"
          ],
          [
           "2015-09-12T00:00:00"
          ],
          [
           "2015-09-13T00:00:00"
          ],
          [
           "2015-09-13T00:00:00"
          ],
          [
           "2015-09-13T00:00:00"
          ],
          [
           "2015-10-02T00:00:00"
          ],
          [
           "2015-10-02T00:00:00"
          ],
          [
           "2015-10-02T00:00:00"
          ],
          [
           "2015-10-02T00:00:00"
          ],
          [
           "2016-03-17T00:00:00"
          ],
          [
           "2016-04-08T00:00:00"
          ],
          [
           "2016-04-08T00:00:00"
          ],
          [
           "2016-04-08T00:00:00"
          ],
          [
           "2016-04-08T00:00:00"
          ],
          [
           "2016-05-03T00:00:00"
          ],
          [
           "2016-05-03T00:00:00"
          ],
          [
           "2016-05-03T00:00:00"
          ],
          [
           "2016-05-04T00:00:00"
          ],
          [
           "2016-06-01T00:00:00"
          ],
          [
           "2016-06-01T00:00:00"
          ],
          [
           "2016-06-07T00:00:00"
          ],
          [
           "2016-07-03T00:00:00"
          ],
          [
           "2016-07-03T00:00:00"
          ],
          [
           "2016-07-03T00:00:00"
          ],
          [
           "2016-07-03T00:00:00"
          ],
          [
           "2016-07-03T00:00:00"
          ],
          [
           "2016-07-03T00:00:00"
          ],
          [
           "2016-07-03T00:00:00"
          ],
          [
           "2016-07-03T00:00:00"
          ],
          [
           "2016-07-03T00:00:00"
          ],
          [
           "2016-07-31T00:00:00"
          ],
          [
           "2016-07-31T00:00:00"
          ],
          [
           "2016-07-31T00:00:00"
          ],
          [
           "2016-07-31T00:00:00"
          ],
          [
           "2016-07-31T00:00:00"
          ],
          [
           "2016-07-31T00:00:00"
          ],
          [
           "2016-08-05T00:00:00"
          ],
          [
           "2016-08-05T00:00:00"
          ],
          [
           "2016-08-05T00:00:00"
          ],
          [
           "2016-08-05T00:00:00"
          ],
          [
           "2016-08-05T00:00:00"
          ],
          [
           "2016-08-05T00:00:00"
          ],
          [
           "2016-08-31T00:00:00"
          ],
          [
           "2016-08-31T00:00:00"
          ],
          [
           "2016-08-31T00:00:00"
          ],
          [
           "2016-09-26T00:00:00"
          ],
          [
           "2016-09-26T00:00:00"
          ],
          [
           "2016-09-29T00:00:00"
          ],
          [
           "2016-09-29T00:00:00"
          ],
          [
           "2016-09-29T00:00:00"
          ],
          [
           "2016-09-29T00:00:00"
          ],
          [
           "2017-05-28T00:00:00"
          ],
          [
           "2017-06-20T00:00:00"
          ],
          [
           "2017-06-26T00:00:00"
          ],
          [
           "2017-06-26T00:00:00"
          ],
          [
           "2017-06-26T00:00:00"
          ],
          [
           "2017-06-26T00:00:00"
          ],
          [
           "2017-06-26T00:00:00"
          ],
          [
           "2017-06-26T00:00:00"
          ],
          [
           "2017-06-26T00:00:00"
          ],
          [
           "2017-06-26T00:00:00"
          ],
          [
           "2017-06-26T00:00:00"
          ],
          [
           "2017-08-22T00:00:00"
          ],
          [
           "2017-08-22T00:00:00"
          ],
          [
           "2017-08-22T00:00:00"
          ],
          [
           "2017-08-22T00:00:00"
          ],
          [
           "2017-08-22T00:00:00"
          ],
          [
           "2017-08-22T00:00:00"
          ],
          [
           "2017-08-22T00:00:00"
          ],
          [
           "2017-09-11T00:00:00"
          ],
          [
           "2017-09-11T00:00:00"
          ],
          [
           "2017-09-11T00:00:00"
          ],
          [
           "2017-09-11T00:00:00"
          ],
          [
           "2017-09-11T00:00:00"
          ],
          [
           "2017-09-12T00:00:00"
          ],
          [
           "2017-09-12T00:00:00"
          ],
          [
           "2017-09-12T00:00:00"
          ],
          [
           "2017-09-12T00:00:00"
          ],
          [
           "2017-09-12T00:00:00"
          ],
          [
           "2017-09-12T00:00:00"
          ],
          [
           "2017-09-12T00:00:00"
          ],
          [
           "2018-07-08T00:00:00"
          ],
          [
           "2018-07-10T00:00:00"
          ],
          [
           "2019-06-05T00:00:00"
          ],
          [
           "2019-06-06T00:00:00"
          ],
          [
           "2019-06-06T00:00:00"
          ],
          [
           "2019-07-30T00:00:00"
          ],
          [
           "2019-07-30T00:00:00"
          ],
          [
           "2019-07-30T00:00:00"
          ],
          [
           "2019-07-30T00:00:00"
          ],
          [
           "2019-07-30T00:00:00"
          ],
          [
           "2019-07-30T00:00:00"
          ],
          [
           "2019-07-30T00:00:00"
          ],
          [
           "2019-07-30T00:00:00"
          ],
          [
           "2019-07-30T00:00:00"
          ],
          [
           "2019-07-31T00:00:00"
          ],
          [
           "2019-07-31T00:00:00"
          ],
          [
           "2019-07-31T00:00:00"
          ],
          [
           "2019-07-31T00:00:00"
          ],
          [
           "2019-07-31T00:00:00"
          ],
          [
           "2019-08-23T00:00:00"
          ],
          [
           "2019-08-23T00:00:00"
          ],
          [
           "2019-08-23T00:00:00"
          ],
          [
           "2019-08-23T00:00:00"
          ],
          [
           "2019-08-23T00:00:00"
          ],
          [
           "2019-08-23T00:00:00"
          ],
          [
           "2019-08-23T00:00:00"
          ],
          [
           "2019-08-28T00:00:00"
          ],
          [
           "2019-08-28T00:00:00"
          ],
          [
           "2019-08-28T00:00:00"
          ],
          [
           "2019-08-28T00:00:00"
          ],
          [
           "2019-08-28T00:00:00"
          ],
          [
           "2019-08-28T00:00:00"
          ],
          [
           "2019-08-28T00:00:00"
          ],
          [
           "2019-08-28T00:00:00"
          ],
          [
           "2019-08-29T00:00:00"
          ],
          [
           "2019-08-29T00:00:00"
          ],
          [
           "2019-08-29T00:00:00"
          ],
          [
           "2019-08-29T00:00:00"
          ],
          [
           "2019-08-29T00:00:00"
          ],
          [
           "2019-08-29T00:00:00"
          ],
          [
           "2019-09-23T00:00:00"
          ],
          [
           "2019-09-23T00:00:00"
          ],
          [
           "2020-03-03T00:00:00"
          ],
          [
           "2020-03-03T00:00:00"
          ],
          [
           "2020-03-03T00:00:00"
          ],
          [
           "2020-03-03T00:00:00"
          ],
          [
           "2020-04-19T00:00:00"
          ],
          [
           "2020-04-20T00:00:00"
          ],
          [
           "2020-04-20T00:00:00"
          ],
          [
           "2020-04-20T00:00:00"
          ],
          [
           "2020-04-20T00:00:00"
          ],
          [
           "2020-04-20T00:00:00"
          ],
          [
           "2020-04-29T00:00:00"
          ],
          [
           "2020-04-29T00:00:00"
          ],
          [
           "2020-06-16T00:00:00"
          ],
          [
           "2020-06-16T00:00:00"
          ],
          [
           "2020-06-16T00:00:00"
          ],
          [
           "2020-06-16T00:00:00"
          ],
          [
           "2020-06-16T00:00:00"
          ],
          [
           "2020-06-17T00:00:00"
          ],
          [
           "2020-06-17T00:00:00"
          ],
          [
           "2020-06-17T00:00:00"
          ],
          [
           "2020-06-17T00:00:00"
          ],
          [
           "2020-06-17T00:00:00"
          ],
          [
           "2020-06-24T00:00:00"
          ],
          [
           "2020-06-24T00:00:00"
          ],
          [
           "2020-07-15T00:00:00"
          ],
          [
           "2020-07-15T00:00:00"
          ],
          [
           "2020-07-15T00:00:00"
          ],
          [
           "2020-07-15T00:00:00"
          ],
          [
           "2020-07-16T00:00:00"
          ],
          [
           "2020-07-16T00:00:00"
          ],
          [
           "2020-07-16T00:00:00"
          ],
          [
           "2020-07-16T00:00:00"
          ],
          [
           "2020-07-16T00:00:00"
          ],
          [
           "2020-07-16T00:00:00"
          ],
          [
           "2020-07-16T00:00:00"
          ],
          [
           "2020-07-16T00:00:00"
          ],
          [
           "2020-07-16T00:00:00"
          ],
          [
           "2020-07-22T00:00:00"
          ],
          [
           "2020-07-22T00:00:00"
          ],
          [
           "2020-07-22T00:00:00"
          ],
          [
           "2020-07-22T00:00:00"
          ],
          [
           "2020-07-22T00:00:00"
          ],
          [
           "2020-07-22T00:00:00"
          ],
          [
           "2020-07-22T00:00:00"
          ],
          [
           "2020-07-22T00:00:00"
          ],
          [
           "2020-07-22T00:00:00"
          ],
          [
           "2020-08-11T00:00:00"
          ],
          [
           "2020-08-17T00:00:00"
          ],
          [
           "2020-08-17T00:00:00"
          ],
          [
           "2020-08-17T00:00:00"
          ],
          [
           "2020-08-17T00:00:00"
          ],
          [
           "2020-08-17T00:00:00"
          ],
          [
           "2020-08-17T00:00:00"
          ],
          [
           "2020-08-17T00:00:00"
          ],
          [
           "2020-08-17T00:00:00"
          ],
          [
           "2020-08-17T00:00:00"
          ],
          [
           "2020-08-18T00:00:00"
          ],
          [
           "2020-08-18T00:00:00"
          ],
          [
           "2020-08-18T00:00:00"
          ],
          [
           "2020-08-18T00:00:00"
          ],
          [
           "2020-08-18T00:00:00"
          ],
          [
           "2020-08-18T00:00:00"
          ],
          [
           "2020-08-18T00:00:00"
          ],
          [
           "2020-08-18T00:00:00"
          ],
          [
           "2020-08-18T00:00:00"
          ],
          [
           "2020-10-06T00:00:00"
          ],
          [
           "2020-10-06T00:00:00"
          ],
          [
           "2020-10-06T00:00:00"
          ],
          [
           "2021-03-11T00:00:00"
          ],
          [
           "2021-03-11T00:00:00"
          ],
          [
           "2021-03-11T00:00:00"
          ],
          [
           "2021-06-05T00:00:00"
          ],
          [
           "2021-06-05T00:00:00"
          ],
          [
           "2021-06-08T00:00:00"
          ],
          [
           "2021-06-08T00:00:00"
          ],
          [
           "2021-06-10T00:00:00"
          ],
          [
           "2021-06-10T00:00:00"
          ],
          [
           "2021-06-10T00:00:00"
          ],
          [
           "2021-06-12T00:00:00"
          ],
          [
           "2021-06-12T00:00:00"
          ],
          [
           "2021-06-12T00:00:00"
          ],
          [
           "2021-06-12T00:00:00"
          ],
          [
           "2021-06-13T00:00:00"
          ],
          [
           "2021-06-13T00:00:00"
          ],
          [
           "2021-06-13T00:00:00"
          ],
          [
           "2021-06-13T00:00:00"
          ],
          [
           "2021-07-11T00:00:00"
          ],
          [
           "2021-07-11T00:00:00"
          ],
          [
           "2021-07-11T00:00:00"
          ],
          [
           "2021-07-11T00:00:00"
          ],
          [
           "2021-07-11T00:00:00"
          ],
          [
           "2021-08-01T00:00:00"
          ],
          [
           "2021-08-01T00:00:00"
          ],
          [
           "2021-08-02T00:00:00"
          ],
          [
           "2021-08-02T00:00:00"
          ],
          [
           "2021-08-09T00:00:00"
          ],
          [
           "2021-08-09T00:00:00"
          ],
          [
           "2021-08-09T00:00:00"
          ],
          [
           "2021-08-31T00:00:00"
          ],
          [
           "2021-09-01T00:00:00"
          ],
          [
           "2021-09-01T00:00:00"
          ],
          [
           "2021-09-01T00:00:00"
          ],
          [
           "2021-09-01T00:00:00"
          ],
          [
           "2021-09-01T00:00:00"
          ],
          [
           "2021-09-01T00:00:00"
          ],
          [
           "2021-09-01T00:00:00"
          ],
          [
           "2021-09-01T00:00:00"
          ],
          [
           "2021-09-04T00:00:00"
          ],
          [
           "2021-09-04T00:00:00"
          ],
          [
           "2021-09-04T00:00:00"
          ],
          [
           "2021-09-04T00:00:00"
          ],
          [
           "2021-09-04T00:00:00"
          ],
          [
           "2021-09-04T00:00:00"
          ],
          [
           "2021-09-04T00:00:00"
          ],
          [
           "2021-09-04T00:00:00"
          ],
          [
           "2021-09-06T00:00:00"
          ],
          [
           "2021-09-06T00:00:00"
          ],
          [
           "2021-09-06T00:00:00"
          ],
          [
           "2021-09-06T00:00:00"
          ],
          [
           "2021-09-06T00:00:00"
          ],
          [
           "2021-09-26T00:00:00"
          ],
          [
           "2021-09-28T00:00:00"
          ]
         ],
         "hovertemplate": "date=%{x}<br>median_sky_bg=%{y}<br>night_date=%{customdata[0]}<extra></extra>",
         "legendgroup": "",
         "marker": {
          "color": "#636efa",
          "symbol": "circle"
         },
         "mode": "markers",
         "name": "",
         "orientation": "v",
         "showlegend": false,
         "type": "scatter",
         "x": [
          "2012-04-23T09:16:32",
          "2012-05-18T07:47:37",
          "2012-05-21T07:34:36.500000",
          "2012-05-22T07:28:36",
          "2012-05-25T07:51:23.500000",
          "2012-06-17T05:40:31.500000",
          "2012-06-20T07:29:50",
          "2012-06-20T07:12:39",
          "2012-06-20T06:41:18.500000",
          "2012-06-22T08:00:14.500000",
          "2012-06-22T07:48:06.500000",
          "2012-06-22T07:35:58.500000",
          "2012-06-22T07:21:49.500000",
          "2012-06-22T07:04:38",
          "2012-06-22T06:33:17.500000",
          "2012-07-15T04:03:41",
          "2012-07-17T06:39:44",
          "2012-07-17T06:39:44",
          "2012-07-17T06:31:39",
          "2012-07-17T06:21:32",
          "2012-07-17T06:10:24",
          "2012-07-17T05:58:15.500000",
          "2012-07-17T05:44:05",
          "2012-07-17T05:25:50",
          "2012-07-17T05:02:30",
          "2012-07-20T06:28:25",
          "2012-07-20T06:28:25",
          "2012-07-20T06:21:21",
          "2012-07-20T06:10:13.500000",
          "2012-07-20T05:58:05.500000",
          "2012-07-20T05:45:57.500000",
          "2012-07-20T05:31:47.500000",
          "2012-07-20T05:14:36",
          "2012-07-20T04:49:17",
          "2012-08-11T04:30:30",
          "2012-08-11T04:19:23",
          "2012-08-11T04:05:14",
          "2012-08-11T03:48:03",
          "2012-08-11T03:36:56",
          "2012-08-18T04:02:20.500000",
          "2012-08-18T03:52:14",
          "2012-08-18T03:38:04.500000",
          "2012-08-18T03:20:54",
          "2012-08-18T03:02:42",
          "2012-08-20T04:15:30",
          "2012-08-20T04:07:24",
          "2012-08-20T03:56:17",
          "2012-08-20T03:44:09.500000",
          "2012-08-20T03:30:00",
          "2012-08-20T03:12:49",
          "2012-08-20T02:56:38",
          "2012-09-08T02:49:57",
          "2012-09-08T02:41:52",
          "2012-09-08T02:29:44",
          "2012-09-08T02:16:35.500000",
          "2012-09-10T03:03:08",
          "2012-09-10T03:03:08",
          "2012-09-10T02:55:03",
          "2012-09-10T02:44:57",
          "2012-09-10T02:33:49.500000",
          "2012-09-10T02:21:41.500000",
          "2012-09-10T02:10:34",
          "2013-03-13T09:41:02.500000",
          "2013-03-13T09:48:07",
          "2013-03-13T10:04:18",
          "2013-03-13T10:11:22.500000",
          "2013-03-20T09:12:01.500000",
          "2013-03-20T09:19:06",
          "2013-03-20T09:37:18",
          "2013-03-20T09:43:22",
          "2013-03-21T09:32:18",
          "2013-03-21T09:39:23",
          "2013-05-08T08:29:37",
          "2013-05-12T06:10:21",
          "2013-05-12T06:15:24.500000",
          "2013-05-12T08:13:42.500000",
          "2013-05-13T08:08:36.500000",
          "2013-05-15T07:48:28",
          "2013-06-11T04:18:25",
          "2013-06-11T07:41:34.500000",
          "2013-06-11T07:17:18.500000",
          "2013-07-05T07:27:52.500000",
          "2013-07-05T07:27:52.500000",
          "2013-07-05T07:20:48",
          "2013-07-05T07:09:40.500000",
          "2013-07-05T06:58:33.500000",
          "2013-07-05T06:46:26",
          "2013-07-05T06:31:16",
          "2013-07-05T06:14:05",
          "2013-07-05T05:42:46.500000",
          "2013-07-10T04:19:55",
          "2013-07-11T06:56:33.500000",
          "2013-07-11T06:46:27",
          "2013-07-11T06:34:19.500000",
          "2013-07-11T06:22:11.500000",
          "2013-07-11T06:08:02.500000",
          "2013-07-11T05:50:52",
          "2013-07-11T05:22:35",
          "2013-07-12T06:41:22.500000",
          "2013-07-12T06:31:16",
          "2013-07-12T06:18:08",
          "2013-07-12T06:03:58",
          "2013-07-12T05:46:49",
          "2013-07-12T05:16:31",
          "2013-08-01T05:41:03",
          "2013-08-01T05:41:03",
          "2013-08-01T05:35:00",
          "2013-08-01T05:23:52.500000",
          "2013-08-01T05:11:44.500000",
          "2013-08-01T04:59:35.500000",
          "2013-08-01T04:45:26.500000",
          "2013-08-01T04:28:15",
          "2013-08-01T04:02:58.500000",
          "2013-08-04T05:07:43.500000",
          "2013-08-04T04:59:38.500000",
          "2013-08-04T04:47:30.500000",
          "2013-08-04T04:33:21.500000",
          "2013-08-04T04:16:10",
          "2013-08-04T03:50:54",
          "2013-08-28T03:55:23.500000",
          "2013-08-28T03:55:23.500000",
          "2013-08-28T03:48:19",
          "2013-08-28T03:37:11.500000",
          "2013-08-28T03:26:04",
          "2013-08-28T03:13:56",
          "2013-08-28T02:58:46.500000",
          "2013-08-28T02:49:41",
          "2013-08-30T03:17:02",
          "2013-08-30T03:05:54.500000",
          "2013-08-30T02:51:44.500000",
          "2013-08-30T02:36:35",
          "2013-09-02T03:28:11",
          "2013-09-02T03:18:05",
          "2013-09-02T03:06:57.500000",
          "2013-09-02T02:53:49",
          "2013-09-02T02:39:40",
          "2013-09-02T02:27:32",
          "2013-09-06T03:20:12",
          "2013-09-06T03:20:12",
          "2013-09-06T03:12:07",
          "2013-09-06T03:02:00",
          "2013-09-06T02:50:53.500000",
          "2013-09-06T02:37:45",
          "2013-09-06T02:23:36",
          "2013-09-06T02:15:30",
          "2013-09-26T02:01:44.500000",
          "2013-09-26T02:01:44.500000",
          "2013-09-26T01:54:40",
          "2013-09-26T01:43:33",
          "2013-09-26T01:35:27.500000",
          "2013-09-27T01:47:36",
          "2013-09-27T01:39:31",
          "2013-09-27T01:33:27",
          "2014-04-02T08:21:05",
          "2014-04-02T08:29:10",
          "2014-04-02T08:46:21",
          "2014-04-02T08:53:25",
          "2014-04-05T08:37:23",
          "2014-04-05T08:41:26",
          "2014-05-03T06:44:20",
          "2014-05-03T06:51:25",
          "2014-05-25T07:20:40.500000",
          "2014-05-29T08:04:32",
          "2014-05-30T04:58:19.500000",
          "2014-05-30T05:05:24",
          "2014-05-30T06:38:22",
          "2014-05-30T08:02:16.500000",
          "2014-07-23T06:09:19.500000",
          "2014-07-23T06:00:13",
          "2014-07-23T05:49:05.500000",
          "2014-07-23T05:35:57",
          "2014-07-23T05:21:47",
          "2014-07-23T05:04:34.500000",
          "2014-07-23T04:39:18",
          "2014-07-24T06:14:26",
          "2014-07-24T06:14:26",
          "2014-07-24T06:06:20",
          "2014-07-24T05:56:13",
          "2014-07-24T05:45:05.500000",
          "2014-07-24T05:31:56",
          "2014-07-24T05:17:46",
          "2014-07-24T05:00:32",
          "2014-07-24T04:35:16",
          "2014-07-28T05:47:12.500000",
          "2014-07-28T05:40:08",
          "2014-07-28T05:29:00",
          "2014-07-28T05:16:51",
          "2014-07-28T05:04:37",
          "2014-09-14T02:27:50",
          "2014-09-14T02:19:45",
          "2014-09-14T02:07:37",
          "2014-09-14T01:59:31.500000",
          "2014-09-16T02:43:01",
          "2014-09-16T02:43:01",
          "2014-09-16T02:34:56",
          "2014-09-16T02:23:48.500000",
          "2014-09-16T02:11:40",
          "2014-09-16T01:59:32",
          "2014-09-17T01:56:33",
          "2014-09-18T02:34:57",
          "2014-09-18T02:34:57",
          "2014-09-18T02:25:51",
          "2014-09-18T02:15:44",
          "2014-09-18T02:04:37.500000",
          "2014-09-18T01:54:31",
          "2014-09-22T01:57:40",
          "2014-09-22T01:48:33.500000",
          "2015-04-23T09:15:32.500000",
          "2015-05-21T05:34:19",
          "2015-05-21T05:41:23.500000",
          "2015-05-22T07:33:41",
          "2015-06-16T08:01:13",
          "2015-06-16T07:48:04.500000",
          "2015-06-16T07:30:53",
          "2015-06-16T06:59:32.500000",
          "2015-06-19T08:02:03",
          "2015-06-19T07:50:55.500000",
          "2015-06-19T07:36:46.500000",
          "2015-06-19T07:19:36",
          "2015-06-19T06:48:15.500000",
          "2015-07-15T06:39:48.500000",
          "2015-07-15T06:32:44",
          "2015-07-15T06:21:35.500000",
          "2015-07-15T06:08:26",
          "2015-07-15T05:54:16",
          "2015-07-15T05:37:02",
          "2015-07-15T05:24:52.500000",
          "2015-08-11T05:02:51",
          "2015-08-11T05:02:51",
          "2015-08-11T04:55:46",
          "2015-08-11T04:45:40",
          "2015-08-11T04:34:32.500000",
          "2015-08-11T04:22:24.500000",
          "2015-08-11T04:08:14.500000",
          "2015-08-11T03:51:03",
          "2015-08-11T03:38:55",
          "2015-08-12T04:29:34.500000",
          "2015-08-12T04:18:27",
          "2015-08-12T04:04:16",
          "2015-08-12T03:47:03",
          "2015-08-15T03:33:02",
          "2015-08-15T03:13:48",
          "2015-08-16T03:02:38",
          "2015-09-13T02:42:59.500000",
          "2015-09-13T02:35:55",
          "2015-09-13T02:24:47.500000",
          "2015-09-13T02:16:42",
          "2015-09-14T02:19:44.500000",
          "2015-09-14T02:08:37",
          "2015-09-14T02:00:32",
          "2015-10-03T01:36:40",
          "2015-10-03T01:36:40",
          "2015-10-03T01:28:35",
          "2015-10-03T01:22:31",
          "2016-03-18T09:50:27.500000",
          "2016-04-09T07:53:04",
          "2016-04-09T08:01:10",
          "2016-04-09T08:17:20",
          "2016-04-09T08:23:25",
          "2016-05-04T06:39:18",
          "2016-05-04T06:45:22",
          "2016-05-04T08:42:40",
          "2016-05-05T08:38:41",
          "2016-06-02T08:13:42",
          "2016-06-02T07:52:27.500000",
          "2016-06-08T06:26:44.500000",
          "2016-07-04T07:32:06",
          "2016-07-04T07:32:06",
          "2016-07-04T07:24:01",
          "2016-07-04T07:12:53.500000",
          "2016-07-04T07:00:45.500000",
          "2016-07-04T06:48:37.500000",
          "2016-07-04T06:34:28",
          "2016-07-04T06:17:17",
          "2016-07-04T05:52:00",
          "2016-08-01T05:23:01",
          "2016-08-01T05:11:51.500000",
          "2016-08-01T04:58:42",
          "2016-08-01T04:44:33",
          "2016-08-01T04:27:21.500000",
          "2016-08-01T04:01:04.500000",
          "2016-08-06T05:21:57.500000",
          "2016-08-06T05:21:57.500000",
          "2016-08-06T05:12:52",
          "2016-08-06T05:02:46",
          "2016-08-06T04:51:38.500000",
          "2016-08-06T04:42:32",
          "2016-09-01T02:53:54",
          "2016-09-01T02:42:46.500000",
          "2016-09-01T02:29:38",
          "2016-09-27T01:37:33",
          "2016-09-27T01:31:29",
          "2016-09-30T01:43:39.500000",
          "2016-09-30T01:43:39.500000",
          "2016-09-30T01:36:35",
          "2016-09-30T01:28:30",
          "2017-05-29T08:08:36",
          "2017-06-21T05:24:02.500000",
          "2017-06-27T08:00:27",
          "2017-06-27T08:00:27",
          "2017-06-27T07:52:22",
          "2017-06-27T07:41:15",
          "2017-06-27T07:29:07.500000",
          "2017-06-27T07:16:59.500000",
          "2017-06-27T07:02:50",
          "2017-06-27T06:45:39",
          "2017-06-27T06:14:17.500000",
          "2017-08-23T04:06:27.500000",
          "2017-08-23T03:57:21",
          "2017-08-23T03:46:14",
          "2017-08-23T03:33:06",
          "2017-08-23T03:18:57",
          "2017-08-23T03:01:45",
          "2017-08-23T02:48:36",
          "2017-09-12T02:46:03.500000",
          "2017-09-12T02:38:58",
          "2017-09-12T02:27:50.500000",
          "2017-09-12T02:14:41",
          "2017-09-12T02:04:34",
          "2017-09-13T02:53:10",
          "2017-09-13T02:53:10",
          "2017-09-13T02:45:05",
          "2017-09-13T02:34:58",
          "2017-09-13T02:23:50.500000",
          "2017-09-13T02:10:41",
          "2017-09-13T02:01:34.500000",
          "2018-07-09T05:24:44",
          "2018-07-11T04:27:05",
          "2019-06-06T07:35:52.500000",
          "2019-06-07T08:03:04",
          "2019-06-07T07:34:51",
          "2019-07-31T05:49:21",
          "2019-07-31T05:49:21",
          "2019-07-31T05:40:17",
          "2019-07-31T05:29:12.500000",
          "2019-07-31T05:17:07.500000",
          "2019-07-31T05:05:02.500000",
          "2019-07-31T04:50:55.500000",
          "2019-07-31T04:33:48",
          "2019-07-31T04:08:38.500000",
          "2019-08-01T05:12:18",
          "2019-08-01T05:01:10.500000",
          "2019-08-01T04:47:02.500000",
          "2019-08-01T04:29:54",
          "2019-08-01T04:04:43.500000",
          "2019-08-24T04:13:56",
          "2019-08-24T04:13:56",
          "2019-08-24T04:05:53",
          "2019-08-24T03:54:48.500000",
          "2019-08-24T03:43:44",
          "2019-08-24T03:31:39",
          "2019-08-24T03:17:34",
          "2019-08-29T03:52:51.500000",
          "2019-08-29T03:52:51.500000",
          "2019-08-29T03:45:48",
          "2019-08-29T03:35:44",
          "2019-08-29T03:24:40.500000",
          "2019-08-29T03:11:35",
          "2019-08-29T02:57:30",
          "2019-08-29T02:41:23",
          "2019-08-30T03:39:46",
          "2019-08-30T03:31:44",
          "2019-08-30T03:20:39.500000",
          "2019-08-30T03:07:34",
          "2019-08-30T02:53:29",
          "2019-08-30T02:38:22.500000",
          "2019-09-24T01:53:30",
          "2019-09-24T01:43:25",
          "2020-03-04T10:14:05",
          "2020-03-04T10:22:09",
          "2020-03-04T10:38:19",
          "2020-03-04T10:45:23",
          "2020-04-20T09:24:22.500000",
          "2020-04-21T07:05:03",
          "2020-04-21T07:13:08",
          "2020-04-21T07:29:17",
          "2020-04-21T07:37:22",
          "2020-04-21T09:20:21.500000",
          "2020-04-30T08:36:17",
          "2020-04-30T08:48:24",
          "2020-06-17T08:03:44.500000",
          "2020-06-17T07:55:39.500000",
          "2020-06-17T07:41:31.500000",
          "2020-06-17T07:24:22",
          "2020-06-17T06:54:04",
          "2020-06-18T08:02:49.500000",
          "2020-06-18T07:51:43",
          "2020-06-18T07:37:35",
          "2020-06-18T07:20:24.500000",
          "2020-06-18T06:48:05.500000",
          "2020-06-25T04:56:09",
          "2020-06-25T05:49:36.500000",
          "2020-07-16T05:56:43.500000",
          "2020-07-16T05:46:37.500000",
          "2020-07-16T05:29:28",
          "2020-07-16T05:01:14",
          "2020-07-17T06:41:11.500000",
          "2020-07-17T06:41:11.500000",
          "2020-07-17T06:32:06",
          "2020-07-17T06:22:00",
          "2020-07-17T06:10:54.500000",
          "2020-07-17T05:57:47",
          "2020-07-17T05:43:39",
          "2020-07-17T05:26:28.500000",
          "2020-07-17T04:58:16.500000",
          "2020-07-23T06:18:00.500000",
          "2020-07-23T06:18:00.500000",
          "2020-07-23T06:08:55",
          "2020-07-23T05:57:48.500000",
          "2020-07-23T05:45:41.500000",
          "2020-07-23T05:33:35",
          "2020-07-23T05:19:26.500000",
          "2020-07-23T05:02:20",
          "2020-07-23T04:37:05.500000",
          "2020-08-12T03:18:38",
          "2020-08-18T04:36:29",
          "2020-08-18T04:36:29",
          "2020-08-18T04:26:23",
          "2020-08-18T04:15:16.500000",
          "2020-08-18T04:04:10",
          "2020-08-18T03:52:03",
          "2020-08-18T03:36:54.500000",
          "2020-08-18T03:19:45",
          "2020-08-18T03:02:35.500000",
          "2020-08-19T04:30:25.500000",
          "2020-08-19T04:30:25.500000",
          "2020-08-19T04:21:21",
          "2020-08-19T04:11:15",
          "2020-08-19T04:00:08.500000",
          "2020-08-19T03:48:01.500000",
          "2020-08-19T03:33:53.500000",
          "2020-08-19T03:16:43",
          "2020-08-19T02:59:34",
          "2020-10-07T01:16:24",
          "2020-10-07T01:16:24",
          "2020-10-07T01:14:23",
          "2021-03-12T09:51:08.500000",
          "2021-03-12T10:08:18",
          "2021-03-12T10:14:22",
          "2021-06-06T08:04:22.500000",
          "2021-06-06T07:36:06",
          "2021-06-09T07:54:33.500000",
          "2021-06-09T07:24:15.500000",
          "2021-06-11T08:02:37",
          "2021-06-11T07:48:29",
          "2021-06-11T07:23:14.500000",
          "2021-06-13T08:06:34",
          "2021-06-13T07:57:29.500000",
          "2021-06-13T07:40:20",
          "2021-06-13T07:09:02",
          "2021-06-14T08:04:37",
          "2021-06-14T07:53:30.500000",
          "2021-06-14T07:36:21",
          "2021-06-14T07:11:07",
          "2021-07-12T06:24:58",
          "2021-07-12T06:17:53.500000",
          "2021-07-12T06:03:45.500000",
          "2021-07-12T05:46:36",
          "2021-07-12T05:16:19",
          "2021-08-02T04:24:07",
          "2021-08-02T03:58:52",
          "2021-08-03T04:13:02",
          "2021-08-03T03:54:52",
          "2021-08-10T04:09:05.500000",
          "2021-08-10T03:52:57.500000",
          "2021-08-10T03:26:42.500000",
          "2021-09-01T02:28:23.500000",
          "2021-09-02T03:37:09.500000",
          "2021-09-02T03:37:09.500000",
          "2021-09-02T03:28:04",
          "2021-09-02T03:17:58",
          "2021-09-02T03:06:52.500000",
          "2021-09-02T02:53:45",
          "2021-09-02T02:39:37",
          "2021-09-02T02:27:30",
          "2021-09-05T03:26:07",
          "2021-09-05T03:26:07",
          "2021-09-05T03:16:01",
          "2021-09-05T03:05:55",
          "2021-09-05T02:54:48.500000",
          "2021-09-05T02:41:41",
          "2021-09-05T02:27:33",
          "2021-09-05T02:18:27.500000",
          "2021-09-07T03:03:57",
          "2021-09-07T02:57:53",
          "2021-09-07T02:46:46.500000",
          "2021-09-07T02:33:40",
          "2021-09-07T02:19:31",
          "2021-09-27T01:32:21",
          "2021-09-29T01:30:26.500000"
         ],
         "xaxis": "x",
         "y": [
          2183.67,
          2374.855,
          1640.225,
          1936.99,
          1946.455,
          2117.255,
          1903.91,
          2080.41,
          2000.275,
          1775.255,
          1813.29,
          1805.565,
          1794.575,
          1723.01,
          1656.885,
          2855.39,
          2121.37,
          2121.37,
          2109.4,
          2228.26,
          2320.41,
          2374.365,
          2435.2,
          2479.195,
          2501.58,
          2503.28,
          2503.28,
          2473.22,
          2560.17,
          2872.65,
          2926.92,
          3269.53,
          3644.42,
          3388.92,
          1398.46,
          1442.015,
          1478.795,
          1500.92,
          1530.78,
          1514.13,
          1474.915,
          1453.37,
          1491.5,
          1667.61,
          1768.29,
          1701.93,
          1630.355,
          1632.495,
          1587.105,
          1570.97,
          1559.1,
          1929.4,
          1847.53,
          1825.2,
          1778.64,
          2086.77,
          2086.77,
          1999.32,
          1950.87,
          1925.43,
          1860.655,
          1800.74,
          6928.219999999999,
          6897.04,
          6815.47,
          6559.81,
          4985.12,
          4802.92,
          4358.54,
          4298.25,
          5251.72,
          5021.9400000000005,
          2647.64,
          2876.24,
          2778.665,
          1857.4,
          2079.88,
          2555.52,
          3686.44,
          2238.98,
          2236.21,
          2131.685,
          2131.685,
          2044.33,
          1974.805,
          1950.775,
          1925.72,
          1932.595,
          1968.39,
          2056.555,
          1667.33,
          3252.505,
          3119.905,
          3067.655,
          3073.94,
          3095.2650000000003,
          3060.12,
          2939.02,
          2755.34,
          2672.325,
          2618.01,
          2565.43,
          2512.58,
          2573.71,
          1679.6,
          1679.6,
          1669.5,
          1641.645,
          1601.075,
          1550.235,
          1530.78,
          1501.15,
          1623.55,
          1578.5100000000002,
          1539.04,
          1506.04,
          1469.655,
          1387.2,
          1442.06,
          2704.025,
          2704.025,
          2634.1,
          2535.2250000000004,
          2444.12,
          2482.08,
          2379.65,
          2358.57,
          2840.3,
          2791.77,
          2768.27,
          2770.69,
          1543.3,
          1523.26,
          1544.35,
          1524.93,
          1532.68,
          1569.45,
          2326.73,
          2326.73,
          2292.51,
          2270.77,
          2232.535,
          2221.29,
          2201.55,
          2198.21,
          2633.7200000000003,
          2633.7200000000003,
          2554.06,
          2428.515,
          2380.565,
          3186.34,
          3138.79,
          3115.94,
          10182.84,
          9471.83,
          8376.825,
          7865.7,
          6522.66,
          6170.16,
          3085.425,
          2889.44,
          2099.215,
          1753.76,
          3954.95,
          3671.53,
          2422.41,
          2274.13,
          1769.26,
          1710.66,
          1641.63,
          1590.19,
          1591.83,
          1583.705,
          1538.72,
          1938.03,
          1938.03,
          1883.64,
          1820.1,
          1725.13,
          1667.08,
          1706.16,
          1763.395,
          1757.71,
          1607.795,
          1582.41,
          1553.385,
          1499.585,
          1471.15,
          1696.685,
          1654.155,
          1658.775,
          1652.215,
          1987.83,
          1987.83,
          1837.88,
          1780.515,
          1735.215,
          1684.9,
          2039.94,
          2463.11,
          2463.11,
          2409.69,
          2242.58,
          2206.3,
          2210.55,
          1710.69,
          1711.735,
          1668.225,
          3703.08,
          3505.67,
          1682.235,
          1716.12,
          1720.415,
          1705.56,
          1726.335,
          1650.58,
          1555.58,
          1529.975,
          1519.09,
          1609.65,
          2233.53,
          2142.15,
          2108.13,
          2181.75,
          2329.62,
          2572.875,
          2640.7200000000003,
          1589.64,
          1589.64,
          1555.52,
          1548.1,
          1548.09,
          1566.595,
          1692.78,
          1830.25,
          1879.7,
          1674.435,
          1694.35,
          1798.4,
          1912.385,
          2616,
          2692.605,
          3276.03,
          1830.99,
          1761.47,
          1692.01,
          1702.5300000000002,
          1684.165,
          1673.1,
          1725.43,
          1798.07,
          1798.07,
          1785.59,
          1759.37,
          2695.585,
          2997.74,
          2853.68,
          2525.98,
          2425.33,
          2124.23,
          2092.39,
          1451.27,
          1255.56,
          1374.84,
          1398.385,
          1726.955,
          2050.59,
          2050.59,
          1902.78,
          1852.91,
          1847.065,
          1793.815,
          1663.22,
          1609.72,
          1635.025,
          1663.87,
          1623.54,
          1647.17,
          1611.11,
          1587.14,
          1711.285,
          1420.455,
          1420.455,
          1329.39,
          1275.95,
          1269.17,
          1208.96,
          1407.67,
          1348.125,
          1269.65,
          1733.23,
          1757.95,
          1947.73,
          1947.73,
          1887.3,
          1862.2,
          1828.88,
          1696.54,
          1658.62,
          1658.62,
          1624.13,
          1602.735,
          1532.61,
          1523.75,
          1562.29,
          1584.8,
          1623.915,
          1522,
          1527.11,
          1513.5500000000002,
          1506.79,
          1550.22,
          1654.615,
          1739.91,
          2260.795,
          2271.05,
          2297.16,
          2425.3,
          2829.43,
          2355.62,
          2355.62,
          2315.87,
          2271.3,
          2311.72,
          2336.07,
          2431.8050000000003,
          1391.37,
          1708.67,
          1834.785,
          1504.66,
          1577.39,
          1347.64,
          1347.64,
          1233.04,
          1257.69,
          1243.145,
          1244.84,
          1216.355,
          1225.75,
          1201.38,
          1399.66,
          1346.49,
          1302.25,
          1334,
          1376.44,
          1688.3,
          1688.3,
          1539.87,
          1509.535,
          1373.55,
          1356.7,
          1349.5,
          1453.72,
          1453.72,
          1418.76,
          1389.1,
          1350.27,
          1344.75,
          1327.57,
          1344.07,
          1453.12,
          1358.01,
          1356.88,
          1334.07,
          1300.2,
          1347.455,
          1375.66,
          1315.07,
          3185.74,
          3004.8,
          2771.4,
          2675.785,
          1594.415,
          2321.89,
          2189.67,
          1962.15,
          1892.04,
          1397.565,
          1669.02,
          1617.71,
          1414.395,
          1391.86,
          1359.935,
          1358.41,
          1486.05,
          1497.885,
          1434.82,
          1388.05,
          1387.245,
          1400.895,
          1699.34,
          1554.62,
          1178.015,
          1101.66,
          1089.67,
          1235.34,
          1327.085,
          1327.085,
          1289.41,
          1240.55,
          1183.575,
          1166.1,
          1116.02,
          1122.15,
          1176.475,
          1524.09,
          1524.09,
          1405.47,
          1357.83,
          1275.165,
          1185.92,
          1051.375,
          1026.32,
          1152.855,
          1321.34,
          1150.5,
          1150.5,
          1138.81,
          1135.875,
          1139.85,
          1111.14,
          1078.56,
          1108.48,
          1151.3200000000002,
          1699.435,
          1699.435,
          1625.02,
          1599.37,
          1507.795,
          1458.065,
          1405.125,
          1400.35,
          1426.85,
          2359.14,
          2359.14,
          2354.11,
          4053.77,
          3605.05,
          3474.14,
          1496.185,
          1466.265,
          1463.16,
          1427.365,
          1741.87,
          1769.32,
          1871.895,
          1178.31,
          1160.44,
          1145.39,
          1260.675,
          1313.59,
          1342.76,
          1263.49,
          1300.765,
          1349.01,
          1331.1750000000002,
          1328.27,
          1304.7,
          1356.82,
          1460.65,
          1493.955,
          1620.05,
          1638.22,
          1360.185,
          1367.01,
          1444.02,
          1857.595,
          2139.42,
          2139.42,
          1955.56,
          1884.01,
          1789.625,
          1969.47,
          1933.73,
          1932,
          1741.79,
          1741.79,
          1690.22,
          1584.72,
          1543.85,
          1496,
          1454.12,
          1461.92,
          1885.45,
          1831.28,
          1750.04,
          1682.6,
          1673.32,
          1937.78,
          1879.145
         ],
         "yaxis": "y"
        }
       ],
       "layout": {
        "legend": {
         "tracegroupgap": 0
        },
        "margin": {
         "t": 60
        },
        "template": {
         "data": {
          "bar": [
           {
            "error_x": {
             "color": "#2a3f5f"
            },
            "error_y": {
             "color": "#2a3f5f"
            },
            "marker": {
             "line": {
              "color": "#E5ECF6",
              "width": 0.5
             },
             "pattern": {
              "fillmode": "overlay",
              "size": 10,
              "solidity": 0.2
             }
            },
            "type": "bar"
           }
          ],
          "barpolar": [
           {
            "marker": {
             "line": {
              "color": "#E5ECF6",
              "width": 0.5
             },
             "pattern": {
              "fillmode": "overlay",
              "size": 10,
              "solidity": 0.2
             }
            },
            "type": "barpolar"
           }
          ],
          "carpet": [
           {
            "aaxis": {
             "endlinecolor": "#2a3f5f",
             "gridcolor": "white",
             "linecolor": "white",
             "minorgridcolor": "white",
             "startlinecolor": "#2a3f5f"
            },
            "baxis": {
             "endlinecolor": "#2a3f5f",
             "gridcolor": "white",
             "linecolor": "white",
             "minorgridcolor": "white",
             "startlinecolor": "#2a3f5f"
            },
            "type": "carpet"
           }
          ],
          "choropleth": [
           {
            "colorbar": {
             "outlinewidth": 0,
             "ticks": ""
            },
            "type": "choropleth"
           }
          ],
          "contour": [
           {
            "colorbar": {
             "outlinewidth": 0,
             "ticks": ""
            },
            "colorscale": [
             [
              0,
              "#0d0887"
             ],
             [
              0.1111111111111111,
              "#46039f"
             ],
             [
              0.2222222222222222,
              "#7201a8"
             ],
             [
              0.3333333333333333,
              "#9c179e"
             ],
             [
              0.4444444444444444,
              "#bd3786"
             ],
             [
              0.5555555555555556,
              "#d8576b"
             ],
             [
              0.6666666666666666,
              "#ed7953"
             ],
             [
              0.7777777777777778,
              "#fb9f3a"
             ],
             [
              0.8888888888888888,
              "#fdca26"
             ],
             [
              1,
              "#f0f921"
             ]
            ],
            "type": "contour"
           }
          ],
          "contourcarpet": [
           {
            "colorbar": {
             "outlinewidth": 0,
             "ticks": ""
            },
            "type": "contourcarpet"
           }
          ],
          "heatmap": [
           {
            "colorbar": {
             "outlinewidth": 0,
             "ticks": ""
            },
            "colorscale": [
             [
              0,
              "#0d0887"
             ],
             [
              0.1111111111111111,
              "#46039f"
             ],
             [
              0.2222222222222222,
              "#7201a8"
             ],
             [
              0.3333333333333333,
              "#9c179e"
             ],
             [
              0.4444444444444444,
              "#bd3786"
             ],
             [
              0.5555555555555556,
              "#d8576b"
             ],
             [
              0.6666666666666666,
              "#ed7953"
             ],
             [
              0.7777777777777778,
              "#fb9f3a"
             ],
             [
              0.8888888888888888,
              "#fdca26"
             ],
             [
              1,
              "#f0f921"
             ]
            ],
            "type": "heatmap"
           }
          ],
          "heatmapgl": [
           {
            "colorbar": {
             "outlinewidth": 0,
             "ticks": ""
            },
            "colorscale": [
             [
              0,
              "#0d0887"
             ],
             [
              0.1111111111111111,
              "#46039f"
             ],
             [
              0.2222222222222222,
              "#7201a8"
             ],
             [
              0.3333333333333333,
              "#9c179e"
             ],
             [
              0.4444444444444444,
              "#bd3786"
             ],
             [
              0.5555555555555556,
              "#d8576b"
             ],
             [
              0.6666666666666666,
              "#ed7953"
             ],
             [
              0.7777777777777778,
              "#fb9f3a"
             ],
             [
              0.8888888888888888,
              "#fdca26"
             ],
             [
              1,
              "#f0f921"
             ]
            ],
            "type": "heatmapgl"
           }
          ],
          "histogram": [
           {
            "marker": {
             "pattern": {
              "fillmode": "overlay",
              "size": 10,
              "solidity": 0.2
             }
            },
            "type": "histogram"
           }
          ],
          "histogram2d": [
           {
            "colorbar": {
             "outlinewidth": 0,
             "ticks": ""
            },
            "colorscale": [
             [
              0,
              "#0d0887"
             ],
             [
              0.1111111111111111,
              "#46039f"
             ],
             [
              0.2222222222222222,
              "#7201a8"
             ],
             [
              0.3333333333333333,
              "#9c179e"
             ],
             [
              0.4444444444444444,
              "#bd3786"
             ],
             [
              0.5555555555555556,
              "#d8576b"
             ],
             [
              0.6666666666666666,
              "#ed7953"
             ],
             [
              0.7777777777777778,
              "#fb9f3a"
             ],
             [
              0.8888888888888888,
              "#fdca26"
             ],
             [
              1,
              "#f0f921"
             ]
            ],
            "type": "histogram2d"
           }
          ],
          "histogram2dcontour": [
           {
            "colorbar": {
             "outlinewidth": 0,
             "ticks": ""
            },
            "colorscale": [
             [
              0,
              "#0d0887"
             ],
             [
              0.1111111111111111,
              "#46039f"
             ],
             [
              0.2222222222222222,
              "#7201a8"
             ],
             [
              0.3333333333333333,
              "#9c179e"
             ],
             [
              0.4444444444444444,
              "#bd3786"
             ],
             [
              0.5555555555555556,
              "#d8576b"
             ],
             [
              0.6666666666666666,
              "#ed7953"
             ],
             [
              0.7777777777777778,
              "#fb9f3a"
             ],
             [
              0.8888888888888888,
              "#fdca26"
             ],
             [
              1,
              "#f0f921"
             ]
            ],
            "type": "histogram2dcontour"
           }
          ],
          "mesh3d": [
           {
            "colorbar": {
             "outlinewidth": 0,
             "ticks": ""
            },
            "type": "mesh3d"
           }
          ],
          "parcoords": [
           {
            "line": {
             "colorbar": {
              "outlinewidth": 0,
              "ticks": ""
             }
            },
            "type": "parcoords"
           }
          ],
          "pie": [
           {
            "automargin": true,
            "type": "pie"
           }
          ],
          "scatter": [
           {
            "fillpattern": {
             "fillmode": "overlay",
             "size": 10,
             "solidity": 0.2
            },
            "type": "scatter"
           }
          ],
          "scatter3d": [
           {
            "line": {
             "colorbar": {
              "outlinewidth": 0,
              "ticks": ""
             }
            },
            "marker": {
             "colorbar": {
              "outlinewidth": 0,
              "ticks": ""
             }
            },
            "type": "scatter3d"
           }
          ],
          "scattercarpet": [
           {
            "marker": {
             "colorbar": {
              "outlinewidth": 0,
              "ticks": ""
             }
            },
            "type": "scattercarpet"
           }
          ],
          "scattergeo": [
           {
            "marker": {
             "colorbar": {
              "outlinewidth": 0,
              "ticks": ""
             }
            },
            "type": "scattergeo"
           }
          ],
          "scattergl": [
           {
            "marker": {
             "colorbar": {
              "outlinewidth": 0,
              "ticks": ""
             }
            },
            "type": "scattergl"
           }
          ],
          "scattermapbox": [
           {
            "marker": {
             "colorbar": {
              "outlinewidth": 0,
              "ticks": ""
             }
            },
            "type": "scattermapbox"
           }
          ],
          "scatterpolar": [
           {
            "marker": {
             "colorbar": {
              "outlinewidth": 0,
              "ticks": ""
             }
            },
            "type": "scatterpolar"
           }
          ],
          "scatterpolargl": [
           {
            "marker": {
             "colorbar": {
              "outlinewidth": 0,
              "ticks": ""
             }
            },
            "type": "scatterpolargl"
           }
          ],
          "scatterternary": [
           {
            "marker": {
             "colorbar": {
              "outlinewidth": 0,
              "ticks": ""
             }
            },
            "type": "scatterternary"
           }
          ],
          "surface": [
           {
            "colorbar": {
             "outlinewidth": 0,
             "ticks": ""
            },
            "colorscale": [
             [
              0,
              "#0d0887"
             ],
             [
              0.1111111111111111,
              "#46039f"
             ],
             [
              0.2222222222222222,
              "#7201a8"
             ],
             [
              0.3333333333333333,
              "#9c179e"
             ],
             [
              0.4444444444444444,
              "#bd3786"
             ],
             [
              0.5555555555555556,
              "#d8576b"
             ],
             [
              0.6666666666666666,
              "#ed7953"
             ],
             [
              0.7777777777777778,
              "#fb9f3a"
             ],
             [
              0.8888888888888888,
              "#fdca26"
             ],
             [
              1,
              "#f0f921"
             ]
            ],
            "type": "surface"
           }
          ],
          "table": [
           {
            "cells": {
             "fill": {
              "color": "#EBF0F8"
             },
             "line": {
              "color": "white"
             }
            },
            "header": {
             "fill": {
              "color": "#C8D4E3"
             },
             "line": {
              "color": "white"
             }
            },
            "type": "table"
           }
          ]
         },
         "layout": {
          "annotationdefaults": {
           "arrowcolor": "#2a3f5f",
           "arrowhead": 0,
           "arrowwidth": 1
          },
          "autotypenumbers": "strict",
          "coloraxis": {
           "colorbar": {
            "outlinewidth": 0,
            "ticks": ""
           }
          },
          "colorscale": {
           "diverging": [
            [
             0,
             "#8e0152"
            ],
            [
             0.1,
             "#c51b7d"
            ],
            [
             0.2,
             "#de77ae"
            ],
            [
             0.3,
             "#f1b6da"
            ],
            [
             0.4,
             "#fde0ef"
            ],
            [
             0.5,
             "#f7f7f7"
            ],
            [
             0.6,
             "#e6f5d0"
            ],
            [
             0.7,
             "#b8e186"
            ],
            [
             0.8,
             "#7fbc41"
            ],
            [
             0.9,
             "#4d9221"
            ],
            [
             1,
             "#276419"
            ]
           ],
           "sequential": [
            [
             0,
             "#0d0887"
            ],
            [
             0.1111111111111111,
             "#46039f"
            ],
            [
             0.2222222222222222,
             "#7201a8"
            ],
            [
             0.3333333333333333,
             "#9c179e"
            ],
            [
             0.4444444444444444,
             "#bd3786"
            ],
            [
             0.5555555555555556,
             "#d8576b"
            ],
            [
             0.6666666666666666,
             "#ed7953"
            ],
            [
             0.7777777777777778,
             "#fb9f3a"
            ],
            [
             0.8888888888888888,
             "#fdca26"
            ],
            [
             1,
             "#f0f921"
            ]
           ],
           "sequentialminus": [
            [
             0,
             "#0d0887"
            ],
            [
             0.1111111111111111,
             "#46039f"
            ],
            [
             0.2222222222222222,
             "#7201a8"
            ],
            [
             0.3333333333333333,
             "#9c179e"
            ],
            [
             0.4444444444444444,
             "#bd3786"
            ],
            [
             0.5555555555555556,
             "#d8576b"
            ],
            [
             0.6666666666666666,
             "#ed7953"
            ],
            [
             0.7777777777777778,
             "#fb9f3a"
            ],
            [
             0.8888888888888888,
             "#fdca26"
            ],
            [
             1,
             "#f0f921"
            ]
           ]
          },
          "colorway": [
           "#636efa",
           "#EF553B",
           "#00cc96",
           "#ab63fa",
           "#FFA15A",
           "#19d3f3",
           "#FF6692",
           "#B6E880",
           "#FF97FF",
           "#FECB52"
          ],
          "font": {
           "color": "#2a3f5f"
          },
          "geo": {
           "bgcolor": "white",
           "lakecolor": "white",
           "landcolor": "#E5ECF6",
           "showlakes": true,
           "showland": true,
           "subunitcolor": "white"
          },
          "hoverlabel": {
           "align": "left"
          },
          "hovermode": "closest",
          "mapbox": {
           "style": "light"
          },
          "paper_bgcolor": "white",
          "plot_bgcolor": "#E5ECF6",
          "polar": {
           "angularaxis": {
            "gridcolor": "white",
            "linecolor": "white",
            "ticks": ""
           },
           "bgcolor": "#E5ECF6",
           "radialaxis": {
            "gridcolor": "white",
            "linecolor": "white",
            "ticks": ""
           }
          },
          "scene": {
           "xaxis": {
            "backgroundcolor": "#E5ECF6",
            "gridcolor": "white",
            "gridwidth": 2,
            "linecolor": "white",
            "showbackground": true,
            "ticks": "",
            "zerolinecolor": "white"
           },
           "yaxis": {
            "backgroundcolor": "#E5ECF6",
            "gridcolor": "white",
            "gridwidth": 2,
            "linecolor": "white",
            "showbackground": true,
            "ticks": "",
            "zerolinecolor": "white"
           },
           "zaxis": {
            "backgroundcolor": "#E5ECF6",
            "gridcolor": "white",
            "gridwidth": 2,
            "linecolor": "white",
            "showbackground": true,
            "ticks": "",
            "zerolinecolor": "white"
           }
          },
          "shapedefaults": {
           "line": {
            "color": "#2a3f5f"
           }
          },
          "ternary": {
           "aaxis": {
            "gridcolor": "white",
            "linecolor": "white",
            "ticks": ""
           },
           "baxis": {
            "gridcolor": "white",
            "linecolor": "white",
            "ticks": ""
           },
           "bgcolor": "#E5ECF6",
           "caxis": {
            "gridcolor": "white",
            "linecolor": "white",
            "ticks": ""
           }
          },
          "title": {
           "x": 0.05
          },
          "xaxis": {
           "automargin": true,
           "gridcolor": "white",
           "linecolor": "white",
           "ticks": "",
           "title": {
            "standoff": 15
           },
           "zerolinecolor": "white",
           "zerolinewidth": 2
          },
          "yaxis": {
           "automargin": true,
           "gridcolor": "white",
           "linecolor": "white",
           "ticks": "",
           "title": {
            "standoff": 15
           },
           "zerolinecolor": "white",
           "zerolinewidth": 2
          }
         }
        },
        "xaxis": {
         "anchor": "y",
         "domain": [
          0,
          1
         ],
         "title": {
          "text": "date"
         }
        },
        "yaxis": {
         "anchor": "x",
         "domain": [
          0,
          1
         ],
         "title": {
          "text": "median_sky_bg"
         }
        }
       }
      },
      "text/html": [
       "<div>                            <div id=\"56dbd3cc-79e4-4700-966f-19afb9ed5814\" class=\"plotly-graph-div\" style=\"height:525px; width:100%;\"></div>            <script type=\"text/javascript\">                require([\"plotly\"], function(Plotly) {                    window.PLOTLYENV=window.PLOTLYENV || {};                                    if (document.getElementById(\"56dbd3cc-79e4-4700-966f-19afb9ed5814\")) {                    Plotly.newPlot(                        \"56dbd3cc-79e4-4700-966f-19afb9ed5814\",                        [{\"customdata\":[[\"2012-04-22T00:00:00\"],[\"2012-05-17T00:00:00\"],[\"2012-05-20T00:00:00\"],[\"2012-05-21T00:00:00\"],[\"2012-05-24T00:00:00\"],[\"2012-06-16T00:00:00\"],[\"2012-06-19T00:00:00\"],[\"2012-06-19T00:00:00\"],[\"2012-06-19T00:00:00\"],[\"2012-06-21T00:00:00\"],[\"2012-06-21T00:00:00\"],[\"2012-06-21T00:00:00\"],[\"2012-06-21T00:00:00\"],[\"2012-06-21T00:00:00\"],[\"2012-06-21T00:00:00\"],[\"2012-07-14T00:00:00\"],[\"2012-07-16T00:00:00\"],[\"2012-07-16T00:00:00\"],[\"2012-07-16T00:00:00\"],[\"2012-07-16T00:00:00\"],[\"2012-07-16T00:00:00\"],[\"2012-07-16T00:00:00\"],[\"2012-07-16T00:00:00\"],[\"2012-07-16T00:00:00\"],[\"2012-07-16T00:00:00\"],[\"2012-07-19T00:00:00\"],[\"2012-07-19T00:00:00\"],[\"2012-07-19T00:00:00\"],[\"2012-07-19T00:00:00\"],[\"2012-07-19T00:00:00\"],[\"2012-07-19T00:00:00\"],[\"2012-07-19T00:00:00\"],[\"2012-07-19T00:00:00\"],[\"2012-07-19T00:00:00\"],[\"2012-08-10T00:00:00\"],[\"2012-08-10T00:00:00\"],[\"2012-08-10T00:00:00\"],[\"2012-08-10T00:00:00\"],[\"2012-08-10T00:00:00\"],[\"2012-08-17T00:00:00\"],[\"2012-08-17T00:00:00\"],[\"2012-08-17T00:00:00\"],[\"2012-08-17T00:00:00\"],[\"2012-08-17T00:00:00\"],[\"2012-08-19T00:00:00\"],[\"2012-08-19T00:00:00\"],[\"2012-08-19T00:00:00\"],[\"2012-08-19T00:00:00\"],[\"2012-08-19T00:00:00\"],[\"2012-08-19T00:00:00\"],[\"2012-08-19T00:00:00\"],[\"2012-09-07T00:00:00\"],[\"2012-09-07T00:00:00\"],[\"2012-09-07T00:00:00\"],[\"2012-09-07T00:00:00\"],[\"2012-09-09T00:00:00\"],[\"2012-09-09T00:00:00\"],[\"2012-09-09T00:00:00\"],[\"2012-09-09T00:00:00\"],[\"2012-09-09T00:00:00\"],[\"2012-09-09T00:00:00\"],[\"2012-09-09T00:00:00\"],[\"2013-03-12T00:00:00\"],[\"2013-03-12T00:00:00\"],[\"2013-03-12T00:00:00\"],[\"2013-03-12T00:00:00\"],[\"2013-03-19T00:00:00\"],[\"2013-03-19T00:00:00\"],[\"2013-03-19T00:00:00\"],[\"2013-03-19T00:00:00\"],[\"2013-03-20T00:00:00\"],[\"2013-03-20T00:00:00\"],[\"2013-05-07T00:00:00\"],[\"2013-05-11T00:00:00\"],[\"2013-05-11T00:00:00\"],[\"2013-05-11T00:00:00\"],[\"2013-05-12T00:00:00\"],[\"2013-05-14T00:00:00\"],[\"2013-06-10T00:00:00\"],[\"2013-06-10T00:00:00\"],[\"2013-06-10T00:00:00\"],[\"2013-07-04T00:00:00\"],[\"2013-07-04T00:00:00\"],[\"2013-07-04T00:00:00\"],[\"2013-07-04T00:00:00\"],[\"2013-07-04T00:00:00\"],[\"2013-07-04T00:00:00\"],[\"2013-07-04T00:00:00\"],[\"2013-07-04T00:00:00\"],[\"2013-07-04T00:00:00\"],[\"2013-07-09T00:00:00\"],[\"2013-07-10T00:00:00\"],[\"2013-07-10T00:00:00\"],[\"2013-07-10T00:00:00\"],[\"2013-07-10T00:00:00\"],[\"2013-07-10T00:00:00\"],[\"2013-07-10T00:00:00\"],[\"2013-07-10T00:00:00\"],[\"2013-07-11T00:00:00\"],[\"2013-07-11T00:00:00\"],[\"2013-07-11T00:00:00\"],[\"2013-07-11T00:00:00\"],[\"2013-07-11T00:00:00\"],[\"2013-07-11T00:00:00\"],[\"2013-07-31T00:00:00\"],[\"2013-07-31T00:00:00\"],[\"2013-07-31T00:00:00\"],[\"2013-07-31T00:00:00\"],[\"2013-07-31T00:00:00\"],[\"2013-07-31T00:00:00\"],[\"2013-07-31T00:00:00\"],[\"2013-07-31T00:00:00\"],[\"2013-07-31T00:00:00\"],[\"2013-08-03T00:00:00\"],[\"2013-08-03T00:00:00\"],[\"2013-08-03T00:00:00\"],[\"2013-08-03T00:00:00\"],[\"2013-08-03T00:00:00\"],[\"2013-08-03T00:00:00\"],[\"2013-08-27T00:00:00\"],[\"2013-08-27T00:00:00\"],[\"2013-08-27T00:00:00\"],[\"2013-08-27T00:00:00\"],[\"2013-08-27T00:00:00\"],[\"2013-08-27T00:00:00\"],[\"2013-08-27T00:00:00\"],[\"2013-08-27T00:00:00\"],[\"2013-08-29T00:00:00\"],[\"2013-08-29T00:00:00\"],[\"2013-08-29T00:00:00\"],[\"2013-08-29T00:00:00\"],[\"2013-09-01T00:00:00\"],[\"2013-09-01T00:00:00\"],[\"2013-09-01T00:00:00\"],[\"2013-09-01T00:00:00\"],[\"2013-09-01T00:00:00\"],[\"2013-09-01T00:00:00\"],[\"2013-09-05T00:00:00\"],[\"2013-09-05T00:00:00\"],[\"2013-09-05T00:00:00\"],[\"2013-09-05T00:00:00\"],[\"2013-09-05T00:00:00\"],[\"2013-09-05T00:00:00\"],[\"2013-09-05T00:00:00\"],[\"2013-09-05T00:00:00\"],[\"2013-09-25T00:00:00\"],[\"2013-09-25T00:00:00\"],[\"2013-09-25T00:00:00\"],[\"2013-09-25T00:00:00\"],[\"2013-09-25T00:00:00\"],[\"2013-09-26T00:00:00\"],[\"2013-09-26T00:00:00\"],[\"2013-09-26T00:00:00\"],[\"2014-04-01T00:00:00\"],[\"2014-04-01T00:00:00\"],[\"2014-04-01T00:00:00\"],[\"2014-04-01T00:00:00\"],[\"2014-04-04T00:00:00\"],[\"2014-04-04T00:00:00\"],[\"2014-05-02T00:00:00\"],[\"2014-05-02T00:00:00\"],[\"2014-05-24T00:00:00\"],[\"2014-05-28T00:00:00\"],[\"2014-05-29T00:00:00\"],[\"2014-05-29T00:00:00\"],[\"2014-05-29T00:00:00\"],[\"2014-05-29T00:00:00\"],[\"2014-07-22T00:00:00\"],[\"2014-07-22T00:00:00\"],[\"2014-07-22T00:00:00\"],[\"2014-07-22T00:00:00\"],[\"2014-07-22T00:00:00\"],[\"2014-07-22T00:00:00\"],[\"2014-07-22T00:00:00\"],[\"2014-07-23T00:00:00\"],[\"2014-07-23T00:00:00\"],[\"2014-07-23T00:00:00\"],[\"2014-07-23T00:00:00\"],[\"2014-07-23T00:00:00\"],[\"2014-07-23T00:00:00\"],[\"2014-07-23T00:00:00\"],[\"2014-07-23T00:00:00\"],[\"2014-07-23T00:00:00\"],[\"2014-07-27T00:00:00\"],[\"2014-07-27T00:00:00\"],[\"2014-07-27T00:00:00\"],[\"2014-07-27T00:00:00\"],[\"2014-07-27T00:00:00\"],[\"2014-09-13T00:00:00\"],[\"2014-09-13T00:00:00\"],[\"2014-09-13T00:00:00\"],[\"2014-09-13T00:00:00\"],[\"2014-09-15T00:00:00\"],[\"2014-09-15T00:00:00\"],[\"2014-09-15T00:00:00\"],[\"2014-09-15T00:00:00\"],[\"2014-09-15T00:00:00\"],[\"2014-09-15T00:00:00\"],[\"2014-09-16T00:00:00\"],[\"2014-09-17T00:00:00\"],[\"2014-09-17T00:00:00\"],[\"2014-09-17T00:00:00\"],[\"2014-09-17T00:00:00\"],[\"2014-09-17T00:00:00\"],[\"2014-09-17T00:00:00\"],[\"2014-09-21T00:00:00\"],[\"2014-09-21T00:00:00\"],[\"2015-04-22T00:00:00\"],[\"2015-05-20T00:00:00\"],[\"2015-05-20T00:00:00\"],[\"2015-05-21T00:00:00\"],[\"2015-06-15T00:00:00\"],[\"2015-06-15T00:00:00\"],[\"2015-06-15T00:00:00\"],[\"2015-06-15T00:00:00\"],[\"2015-06-18T00:00:00\"],[\"2015-06-18T00:00:00\"],[\"2015-06-18T00:00:00\"],[\"2015-06-18T00:00:00\"],[\"2015-06-18T00:00:00\"],[\"2015-07-14T00:00:00\"],[\"2015-07-14T00:00:00\"],[\"2015-07-14T00:00:00\"],[\"2015-07-14T00:00:00\"],[\"2015-07-14T00:00:00\"],[\"2015-07-14T00:00:00\"],[\"2015-07-14T00:00:00\"],[\"2015-08-10T00:00:00\"],[\"2015-08-10T00:00:00\"],[\"2015-08-10T00:00:00\"],[\"2015-08-10T00:00:00\"],[\"2015-08-10T00:00:00\"],[\"2015-08-10T00:00:00\"],[\"2015-08-10T00:00:00\"],[\"2015-08-10T00:00:00\"],[\"2015-08-10T00:00:00\"],[\"2015-08-11T00:00:00\"],[\"2015-08-11T00:00:00\"],[\"2015-08-11T00:00:00\"],[\"2015-08-11T00:00:00\"],[\"2015-08-14T00:00:00\"],[\"2015-08-14T00:00:00\"],[\"2015-08-15T00:00:00\"],[\"2015-09-12T00:00:00\"],[\"2015-09-12T00:00:00\"],[\"2015-09-12T00:00:00\"],[\"2015-09-12T00:00:00\"],[\"2015-09-13T00:00:00\"],[\"2015-09-13T00:00:00\"],[\"2015-09-13T00:00:00\"],[\"2015-10-02T00:00:00\"],[\"2015-10-02T00:00:00\"],[\"2015-10-02T00:00:00\"],[\"2015-10-02T00:00:00\"],[\"2016-03-17T00:00:00\"],[\"2016-04-08T00:00:00\"],[\"2016-04-08T00:00:00\"],[\"2016-04-08T00:00:00\"],[\"2016-04-08T00:00:00\"],[\"2016-05-03T00:00:00\"],[\"2016-05-03T00:00:00\"],[\"2016-05-03T00:00:00\"],[\"2016-05-04T00:00:00\"],[\"2016-06-01T00:00:00\"],[\"2016-06-01T00:00:00\"],[\"2016-06-07T00:00:00\"],[\"2016-07-03T00:00:00\"],[\"2016-07-03T00:00:00\"],[\"2016-07-03T00:00:00\"],[\"2016-07-03T00:00:00\"],[\"2016-07-03T00:00:00\"],[\"2016-07-03T00:00:00\"],[\"2016-07-03T00:00:00\"],[\"2016-07-03T00:00:00\"],[\"2016-07-03T00:00:00\"],[\"2016-07-31T00:00:00\"],[\"2016-07-31T00:00:00\"],[\"2016-07-31T00:00:00\"],[\"2016-07-31T00:00:00\"],[\"2016-07-31T00:00:00\"],[\"2016-07-31T00:00:00\"],[\"2016-08-05T00:00:00\"],[\"2016-08-05T00:00:00\"],[\"2016-08-05T00:00:00\"],[\"2016-08-05T00:00:00\"],[\"2016-08-05T00:00:00\"],[\"2016-08-05T00:00:00\"],[\"2016-08-31T00:00:00\"],[\"2016-08-31T00:00:00\"],[\"2016-08-31T00:00:00\"],[\"2016-09-26T00:00:00\"],[\"2016-09-26T00:00:00\"],[\"2016-09-29T00:00:00\"],[\"2016-09-29T00:00:00\"],[\"2016-09-29T00:00:00\"],[\"2016-09-29T00:00:00\"],[\"2017-05-28T00:00:00\"],[\"2017-06-20T00:00:00\"],[\"2017-06-26T00:00:00\"],[\"2017-06-26T00:00:00\"],[\"2017-06-26T00:00:00\"],[\"2017-06-26T00:00:00\"],[\"2017-06-26T00:00:00\"],[\"2017-06-26T00:00:00\"],[\"2017-06-26T00:00:00\"],[\"2017-06-26T00:00:00\"],[\"2017-06-26T00:00:00\"],[\"2017-08-22T00:00:00\"],[\"2017-08-22T00:00:00\"],[\"2017-08-22T00:00:00\"],[\"2017-08-22T00:00:00\"],[\"2017-08-22T00:00:00\"],[\"2017-08-22T00:00:00\"],[\"2017-08-22T00:00:00\"],[\"2017-09-11T00:00:00\"],[\"2017-09-11T00:00:00\"],[\"2017-09-11T00:00:00\"],[\"2017-09-11T00:00:00\"],[\"2017-09-11T00:00:00\"],[\"2017-09-12T00:00:00\"],[\"2017-09-12T00:00:00\"],[\"2017-09-12T00:00:00\"],[\"2017-09-12T00:00:00\"],[\"2017-09-12T00:00:00\"],[\"2017-09-12T00:00:00\"],[\"2017-09-12T00:00:00\"],[\"2018-07-08T00:00:00\"],[\"2018-07-10T00:00:00\"],[\"2019-06-05T00:00:00\"],[\"2019-06-06T00:00:00\"],[\"2019-06-06T00:00:00\"],[\"2019-07-30T00:00:00\"],[\"2019-07-30T00:00:00\"],[\"2019-07-30T00:00:00\"],[\"2019-07-30T00:00:00\"],[\"2019-07-30T00:00:00\"],[\"2019-07-30T00:00:00\"],[\"2019-07-30T00:00:00\"],[\"2019-07-30T00:00:00\"],[\"2019-07-30T00:00:00\"],[\"2019-07-31T00:00:00\"],[\"2019-07-31T00:00:00\"],[\"2019-07-31T00:00:00\"],[\"2019-07-31T00:00:00\"],[\"2019-07-31T00:00:00\"],[\"2019-08-23T00:00:00\"],[\"2019-08-23T00:00:00\"],[\"2019-08-23T00:00:00\"],[\"2019-08-23T00:00:00\"],[\"2019-08-23T00:00:00\"],[\"2019-08-23T00:00:00\"],[\"2019-08-23T00:00:00\"],[\"2019-08-28T00:00:00\"],[\"2019-08-28T00:00:00\"],[\"2019-08-28T00:00:00\"],[\"2019-08-28T00:00:00\"],[\"2019-08-28T00:00:00\"],[\"2019-08-28T00:00:00\"],[\"2019-08-28T00:00:00\"],[\"2019-08-28T00:00:00\"],[\"2019-08-29T00:00:00\"],[\"2019-08-29T00:00:00\"],[\"2019-08-29T00:00:00\"],[\"2019-08-29T00:00:00\"],[\"2019-08-29T00:00:00\"],[\"2019-08-29T00:00:00\"],[\"2019-09-23T00:00:00\"],[\"2019-09-23T00:00:00\"],[\"2020-03-03T00:00:00\"],[\"2020-03-03T00:00:00\"],[\"2020-03-03T00:00:00\"],[\"2020-03-03T00:00:00\"],[\"2020-04-19T00:00:00\"],[\"2020-04-20T00:00:00\"],[\"2020-04-20T00:00:00\"],[\"2020-04-20T00:00:00\"],[\"2020-04-20T00:00:00\"],[\"2020-04-20T00:00:00\"],[\"2020-04-29T00:00:00\"],[\"2020-04-29T00:00:00\"],[\"2020-06-16T00:00:00\"],[\"2020-06-16T00:00:00\"],[\"2020-06-16T00:00:00\"],[\"2020-06-16T00:00:00\"],[\"2020-06-16T00:00:00\"],[\"2020-06-17T00:00:00\"],[\"2020-06-17T00:00:00\"],[\"2020-06-17T00:00:00\"],[\"2020-06-17T00:00:00\"],[\"2020-06-17T00:00:00\"],[\"2020-06-24T00:00:00\"],[\"2020-06-24T00:00:00\"],[\"2020-07-15T00:00:00\"],[\"2020-07-15T00:00:00\"],[\"2020-07-15T00:00:00\"],[\"2020-07-15T00:00:00\"],[\"2020-07-16T00:00:00\"],[\"2020-07-16T00:00:00\"],[\"2020-07-16T00:00:00\"],[\"2020-07-16T00:00:00\"],[\"2020-07-16T00:00:00\"],[\"2020-07-16T00:00:00\"],[\"2020-07-16T00:00:00\"],[\"2020-07-16T00:00:00\"],[\"2020-07-16T00:00:00\"],[\"2020-07-22T00:00:00\"],[\"2020-07-22T00:00:00\"],[\"2020-07-22T00:00:00\"],[\"2020-07-22T00:00:00\"],[\"2020-07-22T00:00:00\"],[\"2020-07-22T00:00:00\"],[\"2020-07-22T00:00:00\"],[\"2020-07-22T00:00:00\"],[\"2020-07-22T00:00:00\"],[\"2020-08-11T00:00:00\"],[\"2020-08-17T00:00:00\"],[\"2020-08-17T00:00:00\"],[\"2020-08-17T00:00:00\"],[\"2020-08-17T00:00:00\"],[\"2020-08-17T00:00:00\"],[\"2020-08-17T00:00:00\"],[\"2020-08-17T00:00:00\"],[\"2020-08-17T00:00:00\"],[\"2020-08-17T00:00:00\"],[\"2020-08-18T00:00:00\"],[\"2020-08-18T00:00:00\"],[\"2020-08-18T00:00:00\"],[\"2020-08-18T00:00:00\"],[\"2020-08-18T00:00:00\"],[\"2020-08-18T00:00:00\"],[\"2020-08-18T00:00:00\"],[\"2020-08-18T00:00:00\"],[\"2020-08-18T00:00:00\"],[\"2020-10-06T00:00:00\"],[\"2020-10-06T00:00:00\"],[\"2020-10-06T00:00:00\"],[\"2021-03-11T00:00:00\"],[\"2021-03-11T00:00:00\"],[\"2021-03-11T00:00:00\"],[\"2021-06-05T00:00:00\"],[\"2021-06-05T00:00:00\"],[\"2021-06-08T00:00:00\"],[\"2021-06-08T00:00:00\"],[\"2021-06-10T00:00:00\"],[\"2021-06-10T00:00:00\"],[\"2021-06-10T00:00:00\"],[\"2021-06-12T00:00:00\"],[\"2021-06-12T00:00:00\"],[\"2021-06-12T00:00:00\"],[\"2021-06-12T00:00:00\"],[\"2021-06-13T00:00:00\"],[\"2021-06-13T00:00:00\"],[\"2021-06-13T00:00:00\"],[\"2021-06-13T00:00:00\"],[\"2021-07-11T00:00:00\"],[\"2021-07-11T00:00:00\"],[\"2021-07-11T00:00:00\"],[\"2021-07-11T00:00:00\"],[\"2021-07-11T00:00:00\"],[\"2021-08-01T00:00:00\"],[\"2021-08-01T00:00:00\"],[\"2021-08-02T00:00:00\"],[\"2021-08-02T00:00:00\"],[\"2021-08-09T00:00:00\"],[\"2021-08-09T00:00:00\"],[\"2021-08-09T00:00:00\"],[\"2021-08-31T00:00:00\"],[\"2021-09-01T00:00:00\"],[\"2021-09-01T00:00:00\"],[\"2021-09-01T00:00:00\"],[\"2021-09-01T00:00:00\"],[\"2021-09-01T00:00:00\"],[\"2021-09-01T00:00:00\"],[\"2021-09-01T00:00:00\"],[\"2021-09-01T00:00:00\"],[\"2021-09-04T00:00:00\"],[\"2021-09-04T00:00:00\"],[\"2021-09-04T00:00:00\"],[\"2021-09-04T00:00:00\"],[\"2021-09-04T00:00:00\"],[\"2021-09-04T00:00:00\"],[\"2021-09-04T00:00:00\"],[\"2021-09-04T00:00:00\"],[\"2021-09-06T00:00:00\"],[\"2021-09-06T00:00:00\"],[\"2021-09-06T00:00:00\"],[\"2021-09-06T00:00:00\"],[\"2021-09-06T00:00:00\"],[\"2021-09-26T00:00:00\"],[\"2021-09-28T00:00:00\"]],\"hovertemplate\":\"date=%{x}\\u003cbr\\u003emedian_sky_bg=%{y}\\u003cbr\\u003enight_date=%{customdata[0]}\\u003cextra\\u003e\\u003c\\u002fextra\\u003e\",\"legendgroup\":\"\",\"marker\":{\"color\":\"#636efa\",\"symbol\":\"circle\"},\"mode\":\"markers\",\"name\":\"\",\"orientation\":\"v\",\"showlegend\":false,\"x\":[\"2012-04-23T09:16:32\",\"2012-05-18T07:47:37\",\"2012-05-21T07:34:36.500000\",\"2012-05-22T07:28:36\",\"2012-05-25T07:51:23.500000\",\"2012-06-17T05:40:31.500000\",\"2012-06-20T07:29:50\",\"2012-06-20T07:12:39\",\"2012-06-20T06:41:18.500000\",\"2012-06-22T08:00:14.500000\",\"2012-06-22T07:48:06.500000\",\"2012-06-22T07:35:58.500000\",\"2012-06-22T07:21:49.500000\",\"2012-06-22T07:04:38\",\"2012-06-22T06:33:17.500000\",\"2012-07-15T04:03:41\",\"2012-07-17T06:39:44\",\"2012-07-17T06:39:44\",\"2012-07-17T06:31:39\",\"2012-07-17T06:21:32\",\"2012-07-17T06:10:24\",\"2012-07-17T05:58:15.500000\",\"2012-07-17T05:44:05\",\"2012-07-17T05:25:50\",\"2012-07-17T05:02:30\",\"2012-07-20T06:28:25\",\"2012-07-20T06:28:25\",\"2012-07-20T06:21:21\",\"2012-07-20T06:10:13.500000\",\"2012-07-20T05:58:05.500000\",\"2012-07-20T05:45:57.500000\",\"2012-07-20T05:31:47.500000\",\"2012-07-20T05:14:36\",\"2012-07-20T04:49:17\",\"2012-08-11T04:30:30\",\"2012-08-11T04:19:23\",\"2012-08-11T04:05:14\",\"2012-08-11T03:48:03\",\"2012-08-11T03:36:56\",\"2012-08-18T04:02:20.500000\",\"2012-08-18T03:52:14\",\"2012-08-18T03:38:04.500000\",\"2012-08-18T03:20:54\",\"2012-08-18T03:02:42\",\"2012-08-20T04:15:30\",\"2012-08-20T04:07:24\",\"2012-08-20T03:56:17\",\"2012-08-20T03:44:09.500000\",\"2012-08-20T03:30:00\",\"2012-08-20T03:12:49\",\"2012-08-20T02:56:38\",\"2012-09-08T02:49:57\",\"2012-09-08T02:41:52\",\"2012-09-08T02:29:44\",\"2012-09-08T02:16:35.500000\",\"2012-09-10T03:03:08\",\"2012-09-10T03:03:08\",\"2012-09-10T02:55:03\",\"2012-09-10T02:44:57\",\"2012-09-10T02:33:49.500000\",\"2012-09-10T02:21:41.500000\",\"2012-09-10T02:10:34\",\"2013-03-13T09:41:02.500000\",\"2013-03-13T09:48:07\",\"2013-03-13T10:04:18\",\"2013-03-13T10:11:22.500000\",\"2013-03-20T09:12:01.500000\",\"2013-03-20T09:19:06\",\"2013-03-20T09:37:18\",\"2013-03-20T09:43:22\",\"2013-03-21T09:32:18\",\"2013-03-21T09:39:23\",\"2013-05-08T08:29:37\",\"2013-05-12T06:10:21\",\"2013-05-12T06:15:24.500000\",\"2013-05-12T08:13:42.500000\",\"2013-05-13T08:08:36.500000\",\"2013-05-15T07:48:28\",\"2013-06-11T04:18:25\",\"2013-06-11T07:41:34.500000\",\"2013-06-11T07:17:18.500000\",\"2013-07-05T07:27:52.500000\",\"2013-07-05T07:27:52.500000\",\"2013-07-05T07:20:48\",\"2013-07-05T07:09:40.500000\",\"2013-07-05T06:58:33.500000\",\"2013-07-05T06:46:26\",\"2013-07-05T06:31:16\",\"2013-07-05T06:14:05\",\"2013-07-05T05:42:46.500000\",\"2013-07-10T04:19:55\",\"2013-07-11T06:56:33.500000\",\"2013-07-11T06:46:27\",\"2013-07-11T06:34:19.500000\",\"2013-07-11T06:22:11.500000\",\"2013-07-11T06:08:02.500000\",\"2013-07-11T05:50:52\",\"2013-07-11T05:22:35\",\"2013-07-12T06:41:22.500000\",\"2013-07-12T06:31:16\",\"2013-07-12T06:18:08\",\"2013-07-12T06:03:58\",\"2013-07-12T05:46:49\",\"2013-07-12T05:16:31\",\"2013-08-01T05:41:03\",\"2013-08-01T05:41:03\",\"2013-08-01T05:35:00\",\"2013-08-01T05:23:52.500000\",\"2013-08-01T05:11:44.500000\",\"2013-08-01T04:59:35.500000\",\"2013-08-01T04:45:26.500000\",\"2013-08-01T04:28:15\",\"2013-08-01T04:02:58.500000\",\"2013-08-04T05:07:43.500000\",\"2013-08-04T04:59:38.500000\",\"2013-08-04T04:47:30.500000\",\"2013-08-04T04:33:21.500000\",\"2013-08-04T04:16:10\",\"2013-08-04T03:50:54\",\"2013-08-28T03:55:23.500000\",\"2013-08-28T03:55:23.500000\",\"2013-08-28T03:48:19\",\"2013-08-28T03:37:11.500000\",\"2013-08-28T03:26:04\",\"2013-08-28T03:13:56\",\"2013-08-28T02:58:46.500000\",\"2013-08-28T02:49:41\",\"2013-08-30T03:17:02\",\"2013-08-30T03:05:54.500000\",\"2013-08-30T02:51:44.500000\",\"2013-08-30T02:36:35\",\"2013-09-02T03:28:11\",\"2013-09-02T03:18:05\",\"2013-09-02T03:06:57.500000\",\"2013-09-02T02:53:49\",\"2013-09-02T02:39:40\",\"2013-09-02T02:27:32\",\"2013-09-06T03:20:12\",\"2013-09-06T03:20:12\",\"2013-09-06T03:12:07\",\"2013-09-06T03:02:00\",\"2013-09-06T02:50:53.500000\",\"2013-09-06T02:37:45\",\"2013-09-06T02:23:36\",\"2013-09-06T02:15:30\",\"2013-09-26T02:01:44.500000\",\"2013-09-26T02:01:44.500000\",\"2013-09-26T01:54:40\",\"2013-09-26T01:43:33\",\"2013-09-26T01:35:27.500000\",\"2013-09-27T01:47:36\",\"2013-09-27T01:39:31\",\"2013-09-27T01:33:27\",\"2014-04-02T08:21:05\",\"2014-04-02T08:29:10\",\"2014-04-02T08:46:21\",\"2014-04-02T08:53:25\",\"2014-04-05T08:37:23\",\"2014-04-05T08:41:26\",\"2014-05-03T06:44:20\",\"2014-05-03T06:51:25\",\"2014-05-25T07:20:40.500000\",\"2014-05-29T08:04:32\",\"2014-05-30T04:58:19.500000\",\"2014-05-30T05:05:24\",\"2014-05-30T06:38:22\",\"2014-05-30T08:02:16.500000\",\"2014-07-23T06:09:19.500000\",\"2014-07-23T06:00:13\",\"2014-07-23T05:49:05.500000\",\"2014-07-23T05:35:57\",\"2014-07-23T05:21:47\",\"2014-07-23T05:04:34.500000\",\"2014-07-23T04:39:18\",\"2014-07-24T06:14:26\",\"2014-07-24T06:14:26\",\"2014-07-24T06:06:20\",\"2014-07-24T05:56:13\",\"2014-07-24T05:45:05.500000\",\"2014-07-24T05:31:56\",\"2014-07-24T05:17:46\",\"2014-07-24T05:00:32\",\"2014-07-24T04:35:16\",\"2014-07-28T05:47:12.500000\",\"2014-07-28T05:40:08\",\"2014-07-28T05:29:00\",\"2014-07-28T05:16:51\",\"2014-07-28T05:04:37\",\"2014-09-14T02:27:50\",\"2014-09-14T02:19:45\",\"2014-09-14T02:07:37\",\"2014-09-14T01:59:31.500000\",\"2014-09-16T02:43:01\",\"2014-09-16T02:43:01\",\"2014-09-16T02:34:56\",\"2014-09-16T02:23:48.500000\",\"2014-09-16T02:11:40\",\"2014-09-16T01:59:32\",\"2014-09-17T01:56:33\",\"2014-09-18T02:34:57\",\"2014-09-18T02:34:57\",\"2014-09-18T02:25:51\",\"2014-09-18T02:15:44\",\"2014-09-18T02:04:37.500000\",\"2014-09-18T01:54:31\",\"2014-09-22T01:57:40\",\"2014-09-22T01:48:33.500000\",\"2015-04-23T09:15:32.500000\",\"2015-05-21T05:34:19\",\"2015-05-21T05:41:23.500000\",\"2015-05-22T07:33:41\",\"2015-06-16T08:01:13\",\"2015-06-16T07:48:04.500000\",\"2015-06-16T07:30:53\",\"2015-06-16T06:59:32.500000\",\"2015-06-19T08:02:03\",\"2015-06-19T07:50:55.500000\",\"2015-06-19T07:36:46.500000\",\"2015-06-19T07:19:36\",\"2015-06-19T06:48:15.500000\",\"2015-07-15T06:39:48.500000\",\"2015-07-15T06:32:44\",\"2015-07-15T06:21:35.500000\",\"2015-07-15T06:08:26\",\"2015-07-15T05:54:16\",\"2015-07-15T05:37:02\",\"2015-07-15T05:24:52.500000\",\"2015-08-11T05:02:51\",\"2015-08-11T05:02:51\",\"2015-08-11T04:55:46\",\"2015-08-11T04:45:40\",\"2015-08-11T04:34:32.500000\",\"2015-08-11T04:22:24.500000\",\"2015-08-11T04:08:14.500000\",\"2015-08-11T03:51:03\",\"2015-08-11T03:38:55\",\"2015-08-12T04:29:34.500000\",\"2015-08-12T04:18:27\",\"2015-08-12T04:04:16\",\"2015-08-12T03:47:03\",\"2015-08-15T03:33:02\",\"2015-08-15T03:13:48\",\"2015-08-16T03:02:38\",\"2015-09-13T02:42:59.500000\",\"2015-09-13T02:35:55\",\"2015-09-13T02:24:47.500000\",\"2015-09-13T02:16:42\",\"2015-09-14T02:19:44.500000\",\"2015-09-14T02:08:37\",\"2015-09-14T02:00:32\",\"2015-10-03T01:36:40\",\"2015-10-03T01:36:40\",\"2015-10-03T01:28:35\",\"2015-10-03T01:22:31\",\"2016-03-18T09:50:27.500000\",\"2016-04-09T07:53:04\",\"2016-04-09T08:01:10\",\"2016-04-09T08:17:20\",\"2016-04-09T08:23:25\",\"2016-05-04T06:39:18\",\"2016-05-04T06:45:22\",\"2016-05-04T08:42:40\",\"2016-05-05T08:38:41\",\"2016-06-02T08:13:42\",\"2016-06-02T07:52:27.500000\",\"2016-06-08T06:26:44.500000\",\"2016-07-04T07:32:06\",\"2016-07-04T07:32:06\",\"2016-07-04T07:24:01\",\"2016-07-04T07:12:53.500000\",\"2016-07-04T07:00:45.500000\",\"2016-07-04T06:48:37.500000\",\"2016-07-04T06:34:28\",\"2016-07-04T06:17:17\",\"2016-07-04T05:52:00\",\"2016-08-01T05:23:01\",\"2016-08-01T05:11:51.500000\",\"2016-08-01T04:58:42\",\"2016-08-01T04:44:33\",\"2016-08-01T04:27:21.500000\",\"2016-08-01T04:01:04.500000\",\"2016-08-06T05:21:57.500000\",\"2016-08-06T05:21:57.500000\",\"2016-08-06T05:12:52\",\"2016-08-06T05:02:46\",\"2016-08-06T04:51:38.500000\",\"2016-08-06T04:42:32\",\"2016-09-01T02:53:54\",\"2016-09-01T02:42:46.500000\",\"2016-09-01T02:29:38\",\"2016-09-27T01:37:33\",\"2016-09-27T01:31:29\",\"2016-09-30T01:43:39.500000\",\"2016-09-30T01:43:39.500000\",\"2016-09-30T01:36:35\",\"2016-09-30T01:28:30\",\"2017-05-29T08:08:36\",\"2017-06-21T05:24:02.500000\",\"2017-06-27T08:00:27\",\"2017-06-27T08:00:27\",\"2017-06-27T07:52:22\",\"2017-06-27T07:41:15\",\"2017-06-27T07:29:07.500000\",\"2017-06-27T07:16:59.500000\",\"2017-06-27T07:02:50\",\"2017-06-27T06:45:39\",\"2017-06-27T06:14:17.500000\",\"2017-08-23T04:06:27.500000\",\"2017-08-23T03:57:21\",\"2017-08-23T03:46:14\",\"2017-08-23T03:33:06\",\"2017-08-23T03:18:57\",\"2017-08-23T03:01:45\",\"2017-08-23T02:48:36\",\"2017-09-12T02:46:03.500000\",\"2017-09-12T02:38:58\",\"2017-09-12T02:27:50.500000\",\"2017-09-12T02:14:41\",\"2017-09-12T02:04:34\",\"2017-09-13T02:53:10\",\"2017-09-13T02:53:10\",\"2017-09-13T02:45:05\",\"2017-09-13T02:34:58\",\"2017-09-13T02:23:50.500000\",\"2017-09-13T02:10:41\",\"2017-09-13T02:01:34.500000\",\"2018-07-09T05:24:44\",\"2018-07-11T04:27:05\",\"2019-06-06T07:35:52.500000\",\"2019-06-07T08:03:04\",\"2019-06-07T07:34:51\",\"2019-07-31T05:49:21\",\"2019-07-31T05:49:21\",\"2019-07-31T05:40:17\",\"2019-07-31T05:29:12.500000\",\"2019-07-31T05:17:07.500000\",\"2019-07-31T05:05:02.500000\",\"2019-07-31T04:50:55.500000\",\"2019-07-31T04:33:48\",\"2019-07-31T04:08:38.500000\",\"2019-08-01T05:12:18\",\"2019-08-01T05:01:10.500000\",\"2019-08-01T04:47:02.500000\",\"2019-08-01T04:29:54\",\"2019-08-01T04:04:43.500000\",\"2019-08-24T04:13:56\",\"2019-08-24T04:13:56\",\"2019-08-24T04:05:53\",\"2019-08-24T03:54:48.500000\",\"2019-08-24T03:43:44\",\"2019-08-24T03:31:39\",\"2019-08-24T03:17:34\",\"2019-08-29T03:52:51.500000\",\"2019-08-29T03:52:51.500000\",\"2019-08-29T03:45:48\",\"2019-08-29T03:35:44\",\"2019-08-29T03:24:40.500000\",\"2019-08-29T03:11:35\",\"2019-08-29T02:57:30\",\"2019-08-29T02:41:23\",\"2019-08-30T03:39:46\",\"2019-08-30T03:31:44\",\"2019-08-30T03:20:39.500000\",\"2019-08-30T03:07:34\",\"2019-08-30T02:53:29\",\"2019-08-30T02:38:22.500000\",\"2019-09-24T01:53:30\",\"2019-09-24T01:43:25\",\"2020-03-04T10:14:05\",\"2020-03-04T10:22:09\",\"2020-03-04T10:38:19\",\"2020-03-04T10:45:23\",\"2020-04-20T09:24:22.500000\",\"2020-04-21T07:05:03\",\"2020-04-21T07:13:08\",\"2020-04-21T07:29:17\",\"2020-04-21T07:37:22\",\"2020-04-21T09:20:21.500000\",\"2020-04-30T08:36:17\",\"2020-04-30T08:48:24\",\"2020-06-17T08:03:44.500000\",\"2020-06-17T07:55:39.500000\",\"2020-06-17T07:41:31.500000\",\"2020-06-17T07:24:22\",\"2020-06-17T06:54:04\",\"2020-06-18T08:02:49.500000\",\"2020-06-18T07:51:43\",\"2020-06-18T07:37:35\",\"2020-06-18T07:20:24.500000\",\"2020-06-18T06:48:05.500000\",\"2020-06-25T04:56:09\",\"2020-06-25T05:49:36.500000\",\"2020-07-16T05:56:43.500000\",\"2020-07-16T05:46:37.500000\",\"2020-07-16T05:29:28\",\"2020-07-16T05:01:14\",\"2020-07-17T06:41:11.500000\",\"2020-07-17T06:41:11.500000\",\"2020-07-17T06:32:06\",\"2020-07-17T06:22:00\",\"2020-07-17T06:10:54.500000\",\"2020-07-17T05:57:47\",\"2020-07-17T05:43:39\",\"2020-07-17T05:26:28.500000\",\"2020-07-17T04:58:16.500000\",\"2020-07-23T06:18:00.500000\",\"2020-07-23T06:18:00.500000\",\"2020-07-23T06:08:55\",\"2020-07-23T05:57:48.500000\",\"2020-07-23T05:45:41.500000\",\"2020-07-23T05:33:35\",\"2020-07-23T05:19:26.500000\",\"2020-07-23T05:02:20\",\"2020-07-23T04:37:05.500000\",\"2020-08-12T03:18:38\",\"2020-08-18T04:36:29\",\"2020-08-18T04:36:29\",\"2020-08-18T04:26:23\",\"2020-08-18T04:15:16.500000\",\"2020-08-18T04:04:10\",\"2020-08-18T03:52:03\",\"2020-08-18T03:36:54.500000\",\"2020-08-18T03:19:45\",\"2020-08-18T03:02:35.500000\",\"2020-08-19T04:30:25.500000\",\"2020-08-19T04:30:25.500000\",\"2020-08-19T04:21:21\",\"2020-08-19T04:11:15\",\"2020-08-19T04:00:08.500000\",\"2020-08-19T03:48:01.500000\",\"2020-08-19T03:33:53.500000\",\"2020-08-19T03:16:43\",\"2020-08-19T02:59:34\",\"2020-10-07T01:16:24\",\"2020-10-07T01:16:24\",\"2020-10-07T01:14:23\",\"2021-03-12T09:51:08.500000\",\"2021-03-12T10:08:18\",\"2021-03-12T10:14:22\",\"2021-06-06T08:04:22.500000\",\"2021-06-06T07:36:06\",\"2021-06-09T07:54:33.500000\",\"2021-06-09T07:24:15.500000\",\"2021-06-11T08:02:37\",\"2021-06-11T07:48:29\",\"2021-06-11T07:23:14.500000\",\"2021-06-13T08:06:34\",\"2021-06-13T07:57:29.500000\",\"2021-06-13T07:40:20\",\"2021-06-13T07:09:02\",\"2021-06-14T08:04:37\",\"2021-06-14T07:53:30.500000\",\"2021-06-14T07:36:21\",\"2021-06-14T07:11:07\",\"2021-07-12T06:24:58\",\"2021-07-12T06:17:53.500000\",\"2021-07-12T06:03:45.500000\",\"2021-07-12T05:46:36\",\"2021-07-12T05:16:19\",\"2021-08-02T04:24:07\",\"2021-08-02T03:58:52\",\"2021-08-03T04:13:02\",\"2021-08-03T03:54:52\",\"2021-08-10T04:09:05.500000\",\"2021-08-10T03:52:57.500000\",\"2021-08-10T03:26:42.500000\",\"2021-09-01T02:28:23.500000\",\"2021-09-02T03:37:09.500000\",\"2021-09-02T03:37:09.500000\",\"2021-09-02T03:28:04\",\"2021-09-02T03:17:58\",\"2021-09-02T03:06:52.500000\",\"2021-09-02T02:53:45\",\"2021-09-02T02:39:37\",\"2021-09-02T02:27:30\",\"2021-09-05T03:26:07\",\"2021-09-05T03:26:07\",\"2021-09-05T03:16:01\",\"2021-09-05T03:05:55\",\"2021-09-05T02:54:48.500000\",\"2021-09-05T02:41:41\",\"2021-09-05T02:27:33\",\"2021-09-05T02:18:27.500000\",\"2021-09-07T03:03:57\",\"2021-09-07T02:57:53\",\"2021-09-07T02:46:46.500000\",\"2021-09-07T02:33:40\",\"2021-09-07T02:19:31\",\"2021-09-27T01:32:21\",\"2021-09-29T01:30:26.500000\"],\"xaxis\":\"x\",\"y\":[2183.67,2374.855,1640.225,1936.99,1946.455,2117.255,1903.91,2080.41,2000.275,1775.255,1813.29,1805.565,1794.575,1723.01,1656.885,2855.39,2121.37,2121.37,2109.4,2228.26,2320.41,2374.365,2435.2,2479.195,2501.58,2503.28,2503.28,2473.22,2560.17,2872.65,2926.92,3269.53,3644.42,3388.92,1398.46,1442.015,1478.795,1500.92,1530.78,1514.13,1474.915,1453.37,1491.5,1667.61,1768.29,1701.93,1630.355,1632.495,1587.105,1570.97,1559.1,1929.4,1847.53,1825.2,1778.64,2086.77,2086.77,1999.32,1950.87,1925.43,1860.655,1800.74,6928.219999999999,6897.04,6815.47,6559.81,4985.12,4802.92,4358.54,4298.25,5251.72,5021.9400000000005,2647.64,2876.24,2778.665,1857.4,2079.88,2555.52,3686.44,2238.98,2236.21,2131.685,2131.685,2044.33,1974.805,1950.775,1925.72,1932.595,1968.39,2056.555,1667.33,3252.505,3119.905,3067.655,3073.94,3095.2650000000003,3060.12,2939.02,2755.34,2672.325,2618.01,2565.43,2512.58,2573.71,1679.6,1679.6,1669.5,1641.645,1601.075,1550.235,1530.78,1501.15,1623.55,1578.5100000000002,1539.04,1506.04,1469.655,1387.2,1442.06,2704.025,2704.025,2634.1,2535.2250000000004,2444.12,2482.08,2379.65,2358.57,2840.3,2791.77,2768.27,2770.69,1543.3,1523.26,1544.35,1524.93,1532.68,1569.45,2326.73,2326.73,2292.51,2270.77,2232.535,2221.29,2201.55,2198.21,2633.7200000000003,2633.7200000000003,2554.06,2428.515,2380.565,3186.34,3138.79,3115.94,10182.84,9471.83,8376.825,7865.7,6522.66,6170.16,3085.425,2889.44,2099.215,1753.76,3954.95,3671.53,2422.41,2274.13,1769.26,1710.66,1641.63,1590.19,1591.83,1583.705,1538.72,1938.03,1938.03,1883.64,1820.1,1725.13,1667.08,1706.16,1763.395,1757.71,1607.795,1582.41,1553.385,1499.585,1471.15,1696.685,1654.155,1658.775,1652.215,1987.83,1987.83,1837.88,1780.515,1735.215,1684.9,2039.94,2463.11,2463.11,2409.69,2242.58,2206.3,2210.55,1710.69,1711.735,1668.225,3703.08,3505.67,1682.235,1716.12,1720.415,1705.56,1726.335,1650.58,1555.58,1529.975,1519.09,1609.65,2233.53,2142.15,2108.13,2181.75,2329.62,2572.875,2640.7200000000003,1589.64,1589.64,1555.52,1548.1,1548.09,1566.595,1692.78,1830.25,1879.7,1674.435,1694.35,1798.4,1912.385,2616.0,2692.605,3276.03,1830.99,1761.47,1692.01,1702.5300000000002,1684.165,1673.1,1725.43,1798.07,1798.07,1785.59,1759.37,2695.585,2997.74,2853.68,2525.98,2425.33,2124.23,2092.39,1451.27,1255.56,1374.84,1398.385,1726.955,2050.59,2050.59,1902.78,1852.91,1847.065,1793.815,1663.22,1609.72,1635.025,1663.87,1623.54,1647.17,1611.11,1587.14,1711.285,1420.455,1420.455,1329.39,1275.95,1269.17,1208.96,1407.67,1348.125,1269.65,1733.23,1757.95,1947.73,1947.73,1887.3,1862.2,1828.88,1696.54,1658.62,1658.62,1624.13,1602.735,1532.61,1523.75,1562.29,1584.8,1623.915,1522.0,1527.11,1513.5500000000002,1506.79,1550.22,1654.615,1739.91,2260.795,2271.05,2297.16,2425.3,2829.43,2355.62,2355.62,2315.87,2271.3,2311.72,2336.07,2431.8050000000003,1391.37,1708.67,1834.785,1504.66,1577.39,1347.64,1347.64,1233.04,1257.69,1243.145,1244.84,1216.355,1225.75,1201.38,1399.66,1346.49,1302.25,1334.0,1376.44,1688.3,1688.3,1539.87,1509.535,1373.55,1356.7,1349.5,1453.72,1453.72,1418.76,1389.1,1350.27,1344.75,1327.57,1344.07,1453.12,1358.01,1356.88,1334.07,1300.2,1347.455,1375.66,1315.07,3185.74,3004.8,2771.4,2675.785,1594.415,2321.89,2189.67,1962.15,1892.04,1397.565,1669.02,1617.71,1414.395,1391.86,1359.935,1358.41,1486.05,1497.885,1434.82,1388.05,1387.245,1400.895,1699.34,1554.62,1178.015,1101.66,1089.67,1235.34,1327.085,1327.085,1289.41,1240.55,1183.575,1166.1,1116.02,1122.15,1176.475,1524.09,1524.09,1405.47,1357.83,1275.165,1185.92,1051.375,1026.32,1152.855,1321.34,1150.5,1150.5,1138.81,1135.875,1139.85,1111.14,1078.56,1108.48,1151.3200000000002,1699.435,1699.435,1625.02,1599.37,1507.795,1458.065,1405.125,1400.35,1426.85,2359.14,2359.14,2354.11,4053.77,3605.05,3474.14,1496.185,1466.265,1463.16,1427.365,1741.87,1769.32,1871.895,1178.31,1160.44,1145.39,1260.675,1313.59,1342.76,1263.49,1300.765,1349.01,1331.1750000000002,1328.27,1304.7,1356.82,1460.65,1493.955,1620.05,1638.22,1360.185,1367.01,1444.02,1857.595,2139.42,2139.42,1955.56,1884.01,1789.625,1969.47,1933.73,1932.0,1741.79,1741.79,1690.22,1584.72,1543.85,1496.0,1454.12,1461.92,1885.45,1831.28,1750.04,1682.6,1673.32,1937.78,1879.145],\"yaxis\":\"y\",\"type\":\"scatter\"}],                        {\"template\":{\"data\":{\"histogram2dcontour\":[{\"type\":\"histogram2dcontour\",\"colorbar\":{\"outlinewidth\":0,\"ticks\":\"\"},\"colorscale\":[[0.0,\"#0d0887\"],[0.1111111111111111,\"#46039f\"],[0.2222222222222222,\"#7201a8\"],[0.3333333333333333,\"#9c179e\"],[0.4444444444444444,\"#bd3786\"],[0.5555555555555556,\"#d8576b\"],[0.6666666666666666,\"#ed7953\"],[0.7777777777777778,\"#fb9f3a\"],[0.8888888888888888,\"#fdca26\"],[1.0,\"#f0f921\"]]}],\"choropleth\":[{\"type\":\"choropleth\",\"colorbar\":{\"outlinewidth\":0,\"ticks\":\"\"}}],\"histogram2d\":[{\"type\":\"histogram2d\",\"colorbar\":{\"outlinewidth\":0,\"ticks\":\"\"},\"colorscale\":[[0.0,\"#0d0887\"],[0.1111111111111111,\"#46039f\"],[0.2222222222222222,\"#7201a8\"],[0.3333333333333333,\"#9c179e\"],[0.4444444444444444,\"#bd3786\"],[0.5555555555555556,\"#d8576b\"],[0.6666666666666666,\"#ed7953\"],[0.7777777777777778,\"#fb9f3a\"],[0.8888888888888888,\"#fdca26\"],[1.0,\"#f0f921\"]]}],\"heatmap\":[{\"type\":\"heatmap\",\"colorbar\":{\"outlinewidth\":0,\"ticks\":\"\"},\"colorscale\":[[0.0,\"#0d0887\"],[0.1111111111111111,\"#46039f\"],[0.2222222222222222,\"#7201a8\"],[0.3333333333333333,\"#9c179e\"],[0.4444444444444444,\"#bd3786\"],[0.5555555555555556,\"#d8576b\"],[0.6666666666666666,\"#ed7953\"],[0.7777777777777778,\"#fb9f3a\"],[0.8888888888888888,\"#fdca26\"],[1.0,\"#f0f921\"]]}],\"heatmapgl\":[{\"type\":\"heatmapgl\",\"colorbar\":{\"outlinewidth\":0,\"ticks\":\"\"},\"colorscale\":[[0.0,\"#0d0887\"],[0.1111111111111111,\"#46039f\"],[0.2222222222222222,\"#7201a8\"],[0.3333333333333333,\"#9c179e\"],[0.4444444444444444,\"#bd3786\"],[0.5555555555555556,\"#d8576b\"],[0.6666666666666666,\"#ed7953\"],[0.7777777777777778,\"#fb9f3a\"],[0.8888888888888888,\"#fdca26\"],[1.0,\"#f0f921\"]]}],\"contourcarpet\":[{\"type\":\"contourcarpet\",\"colorbar\":{\"outlinewidth\":0,\"ticks\":\"\"}}],\"contour\":[{\"type\":\"contour\",\"colorbar\":{\"outlinewidth\":0,\"ticks\":\"\"},\"colorscale\":[[0.0,\"#0d0887\"],[0.1111111111111111,\"#46039f\"],[0.2222222222222222,\"#7201a8\"],[0.3333333333333333,\"#9c179e\"],[0.4444444444444444,\"#bd3786\"],[0.5555555555555556,\"#d8576b\"],[0.6666666666666666,\"#ed7953\"],[0.7777777777777778,\"#fb9f3a\"],[0.8888888888888888,\"#fdca26\"],[1.0,\"#f0f921\"]]}],\"surface\":[{\"type\":\"surface\",\"colorbar\":{\"outlinewidth\":0,\"ticks\":\"\"},\"colorscale\":[[0.0,\"#0d0887\"],[0.1111111111111111,\"#46039f\"],[0.2222222222222222,\"#7201a8\"],[0.3333333333333333,\"#9c179e\"],[0.4444444444444444,\"#bd3786\"],[0.5555555555555556,\"#d8576b\"],[0.6666666666666666,\"#ed7953\"],[0.7777777777777778,\"#fb9f3a\"],[0.8888888888888888,\"#fdca26\"],[1.0,\"#f0f921\"]]}],\"mesh3d\":[{\"type\":\"mesh3d\",\"colorbar\":{\"outlinewidth\":0,\"ticks\":\"\"}}],\"scatter\":[{\"fillpattern\":{\"fillmode\":\"overlay\",\"size\":10,\"solidity\":0.2},\"type\":\"scatter\"}],\"parcoords\":[{\"type\":\"parcoords\",\"line\":{\"colorbar\":{\"outlinewidth\":0,\"ticks\":\"\"}}}],\"scatterpolargl\":[{\"type\":\"scatterpolargl\",\"marker\":{\"colorbar\":{\"outlinewidth\":0,\"ticks\":\"\"}}}],\"bar\":[{\"error_x\":{\"color\":\"#2a3f5f\"},\"error_y\":{\"color\":\"#2a3f5f\"},\"marker\":{\"line\":{\"color\":\"#E5ECF6\",\"width\":0.5},\"pattern\":{\"fillmode\":\"overlay\",\"size\":10,\"solidity\":0.2}},\"type\":\"bar\"}],\"scattergeo\":[{\"type\":\"scattergeo\",\"marker\":{\"colorbar\":{\"outlinewidth\":0,\"ticks\":\"\"}}}],\"scatterpolar\":[{\"type\":\"scatterpolar\",\"marker\":{\"colorbar\":{\"outlinewidth\":0,\"ticks\":\"\"}}}],\"histogram\":[{\"marker\":{\"pattern\":{\"fillmode\":\"overlay\",\"size\":10,\"solidity\":0.2}},\"type\":\"histogram\"}],\"scattergl\":[{\"type\":\"scattergl\",\"marker\":{\"colorbar\":{\"outlinewidth\":0,\"ticks\":\"\"}}}],\"scatter3d\":[{\"type\":\"scatter3d\",\"line\":{\"colorbar\":{\"outlinewidth\":0,\"ticks\":\"\"}},\"marker\":{\"colorbar\":{\"outlinewidth\":0,\"ticks\":\"\"}}}],\"scattermapbox\":[{\"type\":\"scattermapbox\",\"marker\":{\"colorbar\":{\"outlinewidth\":0,\"ticks\":\"\"}}}],\"scatterternary\":[{\"type\":\"scatterternary\",\"marker\":{\"colorbar\":{\"outlinewidth\":0,\"ticks\":\"\"}}}],\"scattercarpet\":[{\"type\":\"scattercarpet\",\"marker\":{\"colorbar\":{\"outlinewidth\":0,\"ticks\":\"\"}}}],\"carpet\":[{\"aaxis\":{\"endlinecolor\":\"#2a3f5f\",\"gridcolor\":\"white\",\"linecolor\":\"white\",\"minorgridcolor\":\"white\",\"startlinecolor\":\"#2a3f5f\"},\"baxis\":{\"endlinecolor\":\"#2a3f5f\",\"gridcolor\":\"white\",\"linecolor\":\"white\",\"minorgridcolor\":\"white\",\"startlinecolor\":\"#2a3f5f\"},\"type\":\"carpet\"}],\"table\":[{\"cells\":{\"fill\":{\"color\":\"#EBF0F8\"},\"line\":{\"color\":\"white\"}},\"header\":{\"fill\":{\"color\":\"#C8D4E3\"},\"line\":{\"color\":\"white\"}},\"type\":\"table\"}],\"barpolar\":[{\"marker\":{\"line\":{\"color\":\"#E5ECF6\",\"width\":0.5},\"pattern\":{\"fillmode\":\"overlay\",\"size\":10,\"solidity\":0.2}},\"type\":\"barpolar\"}],\"pie\":[{\"automargin\":true,\"type\":\"pie\"}]},\"layout\":{\"autotypenumbers\":\"strict\",\"colorway\":[\"#636efa\",\"#EF553B\",\"#00cc96\",\"#ab63fa\",\"#FFA15A\",\"#19d3f3\",\"#FF6692\",\"#B6E880\",\"#FF97FF\",\"#FECB52\"],\"font\":{\"color\":\"#2a3f5f\"},\"hovermode\":\"closest\",\"hoverlabel\":{\"align\":\"left\"},\"paper_bgcolor\":\"white\",\"plot_bgcolor\":\"#E5ECF6\",\"polar\":{\"bgcolor\":\"#E5ECF6\",\"angularaxis\":{\"gridcolor\":\"white\",\"linecolor\":\"white\",\"ticks\":\"\"},\"radialaxis\":{\"gridcolor\":\"white\",\"linecolor\":\"white\",\"ticks\":\"\"}},\"ternary\":{\"bgcolor\":\"#E5ECF6\",\"aaxis\":{\"gridcolor\":\"white\",\"linecolor\":\"white\",\"ticks\":\"\"},\"baxis\":{\"gridcolor\":\"white\",\"linecolor\":\"white\",\"ticks\":\"\"},\"caxis\":{\"gridcolor\":\"white\",\"linecolor\":\"white\",\"ticks\":\"\"}},\"coloraxis\":{\"colorbar\":{\"outlinewidth\":0,\"ticks\":\"\"}},\"colorscale\":{\"sequential\":[[0.0,\"#0d0887\"],[0.1111111111111111,\"#46039f\"],[0.2222222222222222,\"#7201a8\"],[0.3333333333333333,\"#9c179e\"],[0.4444444444444444,\"#bd3786\"],[0.5555555555555556,\"#d8576b\"],[0.6666666666666666,\"#ed7953\"],[0.7777777777777778,\"#fb9f3a\"],[0.8888888888888888,\"#fdca26\"],[1.0,\"#f0f921\"]],\"sequentialminus\":[[0.0,\"#0d0887\"],[0.1111111111111111,\"#46039f\"],[0.2222222222222222,\"#7201a8\"],[0.3333333333333333,\"#9c179e\"],[0.4444444444444444,\"#bd3786\"],[0.5555555555555556,\"#d8576b\"],[0.6666666666666666,\"#ed7953\"],[0.7777777777777778,\"#fb9f3a\"],[0.8888888888888888,\"#fdca26\"],[1.0,\"#f0f921\"]],\"diverging\":[[0,\"#8e0152\"],[0.1,\"#c51b7d\"],[0.2,\"#de77ae\"],[0.3,\"#f1b6da\"],[0.4,\"#fde0ef\"],[0.5,\"#f7f7f7\"],[0.6,\"#e6f5d0\"],[0.7,\"#b8e186\"],[0.8,\"#7fbc41\"],[0.9,\"#4d9221\"],[1,\"#276419\"]]},\"xaxis\":{\"gridcolor\":\"white\",\"linecolor\":\"white\",\"ticks\":\"\",\"title\":{\"standoff\":15},\"zerolinecolor\":\"white\",\"automargin\":true,\"zerolinewidth\":2},\"yaxis\":{\"gridcolor\":\"white\",\"linecolor\":\"white\",\"ticks\":\"\",\"title\":{\"standoff\":15},\"zerolinecolor\":\"white\",\"automargin\":true,\"zerolinewidth\":2},\"scene\":{\"xaxis\":{\"backgroundcolor\":\"#E5ECF6\",\"gridcolor\":\"white\",\"linecolor\":\"white\",\"showbackground\":true,\"ticks\":\"\",\"zerolinecolor\":\"white\",\"gridwidth\":2},\"yaxis\":{\"backgroundcolor\":\"#E5ECF6\",\"gridcolor\":\"white\",\"linecolor\":\"white\",\"showbackground\":true,\"ticks\":\"\",\"zerolinecolor\":\"white\",\"gridwidth\":2},\"zaxis\":{\"backgroundcolor\":\"#E5ECF6\",\"gridcolor\":\"white\",\"linecolor\":\"white\",\"showbackground\":true,\"ticks\":\"\",\"zerolinecolor\":\"white\",\"gridwidth\":2}},\"shapedefaults\":{\"line\":{\"color\":\"#2a3f5f\"}},\"annotationdefaults\":{\"arrowcolor\":\"#2a3f5f\",\"arrowhead\":0,\"arrowwidth\":1},\"geo\":{\"bgcolor\":\"white\",\"landcolor\":\"#E5ECF6\",\"subunitcolor\":\"white\",\"showland\":true,\"showlakes\":true,\"lakecolor\":\"white\"},\"title\":{\"x\":0.05},\"mapbox\":{\"style\":\"light\"}}},\"xaxis\":{\"anchor\":\"y\",\"domain\":[0.0,1.0],\"title\":{\"text\":\"date\"}},\"yaxis\":{\"anchor\":\"x\",\"domain\":[0.0,1.0],\"title\":{\"text\":\"median_sky_bg\"}},\"legend\":{\"tracegroupgap\":0},\"margin\":{\"t\":60}},                        {\"responsive\": true}                    ).then(function(){\n",
       "                            \n",
       "var gd = document.getElementById('56dbd3cc-79e4-4700-966f-19afb9ed5814');\n",
       "var x = new MutationObserver(function (mutations, observer) {{\n",
       "        var display = window.getComputedStyle(gd).display;\n",
       "        if (!display || display === 'none') {{\n",
       "            console.log([gd, 'removed!']);\n",
       "            Plotly.purge(gd);\n",
       "            observer.disconnect();\n",
       "        }}\n",
       "}});\n",
       "\n",
       "// Listen for the removal of the full notebook cells\n",
       "var notebookContainer = gd.closest('#notebook-container');\n",
       "if (notebookContainer) {{\n",
       "    x.observe(notebookContainer, {childList: true});\n",
       "}}\n",
       "\n",
       "// Listen for the clearing of the current output cell\n",
       "var outputEl = gd.closest('.output');\n",
       "if (outputEl) {{\n",
       "    x.observe(outputEl, {childList: true});\n",
       "}}\n",
       "\n",
       "                        })                };                });            </script>        </div>"
      ]
     },
     "metadata": {},
     "output_type": "display_data"
    }
   ],
   "source": [
    "px.scatter(df_dec, x=\"date\", y=\"median_sky_bg\", hover_data=[\"night_date\"])"
   ]
  }
 ],
 "metadata": {
  "kernelspec": {
   "display_name": "Python 3 (ipykernel)",
   "language": "python",
   "name": "python3"
  },
  "language_info": {
   "codemirror_mode": {
    "name": "ipython",
    "version": 3
   },
   "file_extension": ".py",
   "mimetype": "text/x-python",
   "name": "python",
   "nbconvert_exporter": "python",
   "pygments_lexer": "ipython3",
   "version": "3.9.7"
  }
 },
 "nbformat": 4,
 "nbformat_minor": 5
}
